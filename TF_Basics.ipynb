{
  "nbformat": 4,
  "nbformat_minor": 0,
  "metadata": {
    "colab": {
      "name": "TF_Basics.ipynb",
      "provenance": [],
      "collapsed_sections": [
        "rx26owwgSaSx",
        "B02fymY74jjz"
      ]
    },
    "kernelspec": {
      "name": "python3",
      "display_name": "Python 3"
    },
    "language_info": {
      "name": "python"
    },
    "accelerator": "GPU",
    "gpuClass": "standard"
  },
  "cells": [
    {
      "cell_type": "markdown",
      "source": [
        "## **Tensorflow:**\n",
        "It is an open source deeplearning library developed by google\n",
        "It takes multidimensional array(tensors) as input."
      ],
      "metadata": {
        "id": "rx26owwgSaSx"
      }
    },
    {
      "cell_type": "markdown",
      "source": [
        "#In this notebook, we will cover the fundamentals of tensors using TF"
      ],
      "metadata": {
        "id": "B02fymY74jjz"
      }
    },
    {
      "cell_type": "markdown",
      "source": [
        "#Introduction to tensors"
      ],
      "metadata": {
        "id": "_BLjhN1n714F"
      }
    },
    {
      "cell_type": "code",
      "source": [
        "# Import TF\n",
        "\n",
        "import tensorflow as tf\n",
        "print(tf.__version__)"
      ],
      "metadata": {
        "colab": {
          "base_uri": "https://localhost:8080/"
        },
        "id": "o9TDkqmt7-Wb",
        "outputId": "c9ac7315-55c2-411d-91c9-378aa0a47b62"
      },
      "execution_count": 9,
      "outputs": [
        {
          "output_type": "stream",
          "name": "stdout",
          "text": [
            "2.8.2\n"
          ]
        }
      ]
    },
    {
      "cell_type": "markdown",
      "source": [
        "##Scalar"
      ],
      "metadata": {
        "id": "GRDBGXL6I-KR"
      }
    },
    {
      "cell_type": "code",
      "source": [
        "#creating scalar with tf.constant()\n",
        "\n",
        "scalar = tf.constant(7)\n",
        "scalar"
      ],
      "metadata": {
        "colab": {
          "base_uri": "https://localhost:8080/"
        },
        "id": "_Sk-9iCc71QU",
        "outputId": "1dd22432-261c-4fae-926d-ac26c5e0dc90"
      },
      "execution_count": 10,
      "outputs": [
        {
          "output_type": "execute_result",
          "data": {
            "text/plain": [
              "<tf.Tensor: shape=(), dtype=int32, numpy=7>"
            ]
          },
          "metadata": {},
          "execution_count": 10
        }
      ]
    },
    {
      "cell_type": "markdown",
      "source": [
        "###Scalar Dimension"
      ],
      "metadata": {
        "id": "5nT4mWmIJDrF"
      }
    },
    {
      "cell_type": "code",
      "source": [
        "#checking the dimensions of scalar using ndim-no.of dimensions\n",
        "\n",
        "scalar.ndim"
      ],
      "metadata": {
        "colab": {
          "base_uri": "https://localhost:8080/"
        },
        "id": "vgWO0DdP7zDG",
        "outputId": "88b5c3e8-e95e-4b7c-8ae1-030f8871700c"
      },
      "execution_count": 11,
      "outputs": [
        {
          "output_type": "execute_result",
          "data": {
            "text/plain": [
              "0"
            ]
          },
          "metadata": {},
          "execution_count": 11
        }
      ]
    },
    {
      "cell_type": "markdown",
      "source": [
        "##Vector"
      ],
      "metadata": {
        "id": "1JU4sExbJHHw"
      }
    },
    {
      "cell_type": "code",
      "source": [
        "#creating a vector \n",
        "\n",
        "vector = tf.constant([8, 12])\n",
        "vector"
      ],
      "metadata": {
        "colab": {
          "base_uri": "https://localhost:8080/"
        },
        "id": "wjJKlXeF7o2b",
        "outputId": "3feda46b-152d-42c2-ec14-531069a3dc33"
      },
      "execution_count": 12,
      "outputs": [
        {
          "output_type": "execute_result",
          "data": {
            "text/plain": [
              "<tf.Tensor: shape=(2,), dtype=int32, numpy=array([ 8, 12], dtype=int32)>"
            ]
          },
          "metadata": {},
          "execution_count": 12
        }
      ]
    },
    {
      "cell_type": "markdown",
      "source": [
        "###Vector Dimension"
      ],
      "metadata": {
        "id": "iow3ovhuJJpM"
      }
    },
    {
      "cell_type": "code",
      "source": [
        "#checking the dimension of the vector\n",
        "\n",
        "vector.ndim"
      ],
      "metadata": {
        "colab": {
          "base_uri": "https://localhost:8080/"
        },
        "id": "Z-BWMrvL7YWx",
        "outputId": "5a1403f8-9841-4536-cfee-66c5e4b54182"
      },
      "execution_count": 13,
      "outputs": [
        {
          "output_type": "execute_result",
          "data": {
            "text/plain": [
              "1"
            ]
          },
          "metadata": {},
          "execution_count": 13
        }
      ]
    },
    {
      "cell_type": "markdown",
      "source": [
        "##Matrix"
      ],
      "metadata": {
        "id": "2NHEng2WJSQV"
      }
    },
    {
      "cell_type": "code",
      "source": [
        "#creating a matrix having more than one dimension\n",
        "\n",
        "matrix = tf.constant([[22, 21],\n",
        "                     [12, 21]])"
      ],
      "metadata": {
        "id": "Lzgue1Qy7n1o"
      },
      "execution_count": 14,
      "outputs": []
    },
    {
      "cell_type": "markdown",
      "source": [
        "###Matrix Dimension"
      ],
      "metadata": {
        "id": "bOp7nGlWJXfa"
      }
    },
    {
      "cell_type": "code",
      "source": [
        "#checking the dimension of the matrix\n",
        "\n",
        "matrix.ndim"
      ],
      "metadata": {
        "colab": {
          "base_uri": "https://localhost:8080/"
        },
        "id": "Bll-C0Wz7mNY",
        "outputId": "49de73e4-899f-4a67-a80b-897b2c99c73e"
      },
      "execution_count": 15,
      "outputs": [
        {
          "output_type": "execute_result",
          "data": {
            "text/plain": [
              "2"
            ]
          },
          "metadata": {},
          "execution_count": 15
        }
      ]
    },
    {
      "cell_type": "code",
      "source": [
        "#creating another matrix\n",
        "\n",
        "another_matrix = tf.constant([[12., 21.],\n",
        "                   [22., 21.],\n",
        "                   [33., 31.]], dtype = tf.float16)       #changing the datatype to float"
      ],
      "metadata": {
        "id": "NMmbrQQH7laP"
      },
      "execution_count": 16,
      "outputs": []
    },
    {
      "cell_type": "code",
      "source": [
        "another_matrix"
      ],
      "metadata": {
        "colab": {
          "base_uri": "https://localhost:8080/"
        },
        "id": "lou2xjNf_H52",
        "outputId": "23aed81b-c0fd-46f1-dee2-f894ee7c1c01"
      },
      "execution_count": 17,
      "outputs": [
        {
          "output_type": "execute_result",
          "data": {
            "text/plain": [
              "<tf.Tensor: shape=(3, 2), dtype=float16, numpy=\n",
              "array([[12., 21.],\n",
              "       [22., 21.],\n",
              "       [33., 31.]], dtype=float16)>"
            ]
          },
          "metadata": {},
          "execution_count": 17
        }
      ]
    },
    {
      "cell_type": "code",
      "source": [
        "#checking the dimension of another_matrix\n",
        "\n",
        "another_matrix.ndim"
      ],
      "metadata": {
        "colab": {
          "base_uri": "https://localhost:8080/"
        },
        "id": "XjXbO3SE_R-l",
        "outputId": "2cf994f6-f6cd-4f3b-cbba-dcc7cf9982fb"
      },
      "execution_count": 18,
      "outputs": [
        {
          "output_type": "execute_result",
          "data": {
            "text/plain": [
              "2"
            ]
          },
          "metadata": {},
          "execution_count": 18
        }
      ]
    },
    {
      "cell_type": "markdown",
      "source": [
        "##Tensor"
      ],
      "metadata": {
        "id": "cZ7Y9CbtJeAH"
      }
    },
    {
      "cell_type": "code",
      "source": [
        "#creating a tensor\n",
        "\n",
        "tensor = tf.constant([[[1,2,3],\n",
        "                        [4,5,6]],\n",
        "                        [[5,6,7],\n",
        "                       [7,8,9]],\n",
        "                       [[8,9,10],\n",
        "                        [9,10,11]]])"
      ],
      "metadata": {
        "id": "vGMERoU2_byu"
      },
      "execution_count": 19,
      "outputs": []
    },
    {
      "cell_type": "code",
      "source": [
        "tensor"
      ],
      "metadata": {
        "colab": {
          "base_uri": "https://localhost:8080/"
        },
        "id": "PS4hiA6-AVUG",
        "outputId": "ec3713e5-ca6c-413e-f2e5-da8905c71485"
      },
      "execution_count": 20,
      "outputs": [
        {
          "output_type": "execute_result",
          "data": {
            "text/plain": [
              "<tf.Tensor: shape=(3, 2, 3), dtype=int32, numpy=\n",
              "array([[[ 1,  2,  3],\n",
              "        [ 4,  5,  6]],\n",
              "\n",
              "       [[ 5,  6,  7],\n",
              "        [ 7,  8,  9]],\n",
              "\n",
              "       [[ 8,  9, 10],\n",
              "        [ 9, 10, 11]]], dtype=int32)>"
            ]
          },
          "metadata": {},
          "execution_count": 20
        }
      ]
    },
    {
      "cell_type": "markdown",
      "source": [
        "###Tensor Dimension"
      ],
      "metadata": {
        "id": "dR6JAse1Jjtd"
      }
    },
    {
      "cell_type": "code",
      "source": [
        "#checking the dimension of the tensor\n",
        "\n",
        "tensor.ndim"
      ],
      "metadata": {
        "colab": {
          "base_uri": "https://localhost:8080/"
        },
        "id": "0oNHn9o6AWtA",
        "outputId": "31dfa87d-743a-45f3-a187-74bdab5ca367"
      },
      "execution_count": 21,
      "outputs": [
        {
          "output_type": "execute_result",
          "data": {
            "text/plain": [
              "3"
            ]
          },
          "metadata": {},
          "execution_count": 21
        }
      ]
    },
    {
      "cell_type": "markdown",
      "source": [
        "###Zeroes Tensor"
      ],
      "metadata": {
        "id": "-yRPwS0sJv_D"
      }
    },
    {
      "cell_type": "code",
      "source": [
        "#creating tensor of zeros\n",
        "\n",
        "z_tensors = tf.zeros((2,2))\n",
        "z_tensors"
      ],
      "metadata": {
        "colab": {
          "base_uri": "https://localhost:8080/"
        },
        "id": "F3vdnH_ZSX9v",
        "outputId": "a60058f3-9762-4e47-e412-10673c8878c5"
      },
      "execution_count": 22,
      "outputs": [
        {
          "output_type": "execute_result",
          "data": {
            "text/plain": [
              "<tf.Tensor: shape=(2, 2), dtype=float32, numpy=\n",
              "array([[0., 0.],\n",
              "       [0., 0.]], dtype=float32)>"
            ]
          },
          "metadata": {},
          "execution_count": 22
        }
      ]
    },
    {
      "cell_type": "markdown",
      "source": [
        "###Ones Tensor"
      ],
      "metadata": {
        "id": "LShCJlq4J4Qf"
      }
    },
    {
      "cell_type": "code",
      "source": [
        "#creating tensor of ones\n",
        "\n",
        "ones_tensor = tf.ones((2,2))\n",
        "ones_tensor"
      ],
      "metadata": {
        "colab": {
          "base_uri": "https://localhost:8080/"
        },
        "id": "Mj3SR7O5TXUZ",
        "outputId": "6c994d5e-74ff-4055-f43a-2c80f7638cd1"
      },
      "execution_count": 23,
      "outputs": [
        {
          "output_type": "execute_result",
          "data": {
            "text/plain": [
              "<tf.Tensor: shape=(2, 2), dtype=float32, numpy=\n",
              "array([[1., 1.],\n",
              "       [1., 1.]], dtype=float32)>"
            ]
          },
          "metadata": {},
          "execution_count": 23
        }
      ]
    },
    {
      "cell_type": "markdown",
      "source": [
        "###Diagonal 1's Tensor"
      ],
      "metadata": {
        "id": "M6ANMY7WJ7rx"
      }
    },
    {
      "cell_type": "code",
      "source": [
        "#creating a tensor with diagonal elements as 1, using eye()\n",
        "\n",
        "diag_tensor = tf.eye(3)\n",
        "diag_tensor"
      ],
      "metadata": {
        "colab": {
          "base_uri": "https://localhost:8080/"
        },
        "id": "COF5onquTyS7",
        "outputId": "72089198-9f6b-444a-9382-1b0d5a8c6d14"
      },
      "execution_count": 24,
      "outputs": [
        {
          "output_type": "execute_result",
          "data": {
            "text/plain": [
              "<tf.Tensor: shape=(3, 3), dtype=float32, numpy=\n",
              "array([[1., 0., 0.],\n",
              "       [0., 1., 0.],\n",
              "       [0., 0., 1.]], dtype=float32)>"
            ]
          },
          "metadata": {},
          "execution_count": 24
        }
      ]
    },
    {
      "cell_type": "code",
      "source": [
        "ones_tensor"
      ],
      "metadata": {
        "colab": {
          "base_uri": "https://localhost:8080/"
        },
        "id": "w-vhZJ5XVava",
        "outputId": "c3ab1714-e47c-43a7-d672-e83b0b473d4f"
      },
      "execution_count": 25,
      "outputs": [
        {
          "output_type": "execute_result",
          "data": {
            "text/plain": [
              "<tf.Tensor: shape=(2, 2), dtype=float32, numpy=\n",
              "array([[1., 1.],\n",
              "       [1., 1.]], dtype=float32)>"
            ]
          },
          "metadata": {},
          "execution_count": 25
        }
      ]
    },
    {
      "cell_type": "markdown",
      "source": [
        "###Casting Datatype"
      ],
      "metadata": {
        "id": "ck4pddDjKCJ7"
      }
    },
    {
      "cell_type": "code",
      "source": [
        "#converting the datatype of the tensor\n",
        "tensor_cast = tf.cast(ones_tensor, dtype = tf.int32)\n",
        "tensor_cast"
      ],
      "metadata": {
        "colab": {
          "base_uri": "https://localhost:8080/"
        },
        "id": "k-zZegNPVNGa",
        "outputId": "18420869-6eeb-478a-a6fa-ad9cf30a4a04"
      },
      "execution_count": 26,
      "outputs": [
        {
          "output_type": "execute_result",
          "data": {
            "text/plain": [
              "<tf.Tensor: shape=(2, 2), dtype=int32, numpy=\n",
              "array([[1, 1],\n",
              "       [1, 1]], dtype=int32)>"
            ]
          },
          "metadata": {},
          "execution_count": 26
        }
      ]
    },
    {
      "cell_type": "markdown",
      "source": [
        "###Summary:\n",
        "* Scalar is a single number\n",
        "* Vector is a number with direction \n",
        "* Matrix is a 2-d array of numbers\n",
        "* Tensor is an n-dimensional array of numbers(where, n=0d tensor:scalar, n=1d tensor:vector)"
      ],
      "metadata": {
        "id": "eCUrsjOoBf2O"
      }
    },
    {
      "cell_type": "markdown",
      "source": [
        "##tf.variable"
      ],
      "metadata": {
        "id": "KT4bDNg4KNP4"
      }
    },
    {
      "cell_type": "markdown",
      "source": [
        " **Creating tensor with tf.Variable**"
      ],
      "metadata": {
        "id": "U7WwEnDlCOKR"
      }
    },
    {
      "cell_type": "code",
      "source": [
        "#creating a tensor with tf.Variable\n",
        "\n",
        "changeable_tensor = tf.Variable([10,11])\n",
        "changeable_tensor"
      ],
      "metadata": {
        "colab": {
          "base_uri": "https://localhost:8080/"
        },
        "id": "IFDOeEfBB-0Y",
        "outputId": "71278e33-58e8-49cc-f3df-2525a1d6657d"
      },
      "execution_count": 27,
      "outputs": [
        {
          "output_type": "execute_result",
          "data": {
            "text/plain": [
              "<tf.Variable 'Variable:0' shape=(2,) dtype=int32, numpy=array([10, 11], dtype=int32)>"
            ]
          },
          "metadata": {},
          "execution_count": 27
        }
      ]
    },
    {
      "cell_type": "markdown",
      "source": [
        "##tf.constant"
      ],
      "metadata": {
        "id": "EhuSRAX6KRyI"
      }
    },
    {
      "cell_type": "code",
      "source": [
        "#comparing with tf.constant \n",
        "\n",
        "unchangeable_tensor = tf.constant([10,10])\n",
        "unchangeable_tensor"
      ],
      "metadata": {
        "colab": {
          "base_uri": "https://localhost:8080/"
        },
        "id": "Da-hmp9SCJlm",
        "outputId": "f19fad99-3c8d-4c80-bfa4-524b7f5c191b"
      },
      "execution_count": 28,
      "outputs": [
        {
          "output_type": "execute_result",
          "data": {
            "text/plain": [
              "<tf.Tensor: shape=(2,), dtype=int32, numpy=array([10, 10], dtype=int32)>"
            ]
          },
          "metadata": {},
          "execution_count": 28
        }
      ]
    },
    {
      "cell_type": "markdown",
      "source": [
        "##changing the elements"
      ],
      "metadata": {
        "id": "Pv9HdcK0Kdod"
      }
    },
    {
      "cell_type": "code",
      "source": [
        "#changing the elements of changeable_tensor\n",
        "\n",
        "changeable_tensor[0] = 8\n",
        "changeable_tensor       #we will be getting an error and it is solved in the next code cell"
      ],
      "metadata": {
        "colab": {
          "base_uri": "https://localhost:8080/",
          "height": 218
        },
        "id": "8CdE73-xCDSo",
        "outputId": "3e8c3201-3d60-40d9-be09-f14052a555d7"
      },
      "execution_count": 29,
      "outputs": [
        {
          "output_type": "error",
          "ename": "TypeError",
          "evalue": "ignored",
          "traceback": [
            "\u001b[0;31m---------------------------------------------------------------------------\u001b[0m",
            "\u001b[0;31mTypeError\u001b[0m                                 Traceback (most recent call last)",
            "\u001b[0;32m<ipython-input-29-8a4198e3ee73>\u001b[0m in \u001b[0;36m<module>\u001b[0;34m\u001b[0m\n\u001b[1;32m      1\u001b[0m \u001b[0;31m#changing the elements of changeable_tensor\u001b[0m\u001b[0;34m\u001b[0m\u001b[0;34m\u001b[0m\u001b[0;34m\u001b[0m\u001b[0m\n\u001b[1;32m      2\u001b[0m \u001b[0;34m\u001b[0m\u001b[0m\n\u001b[0;32m----> 3\u001b[0;31m \u001b[0mchangeable_tensor\u001b[0m\u001b[0;34m[\u001b[0m\u001b[0;36m0\u001b[0m\u001b[0;34m]\u001b[0m \u001b[0;34m=\u001b[0m \u001b[0;36m8\u001b[0m\u001b[0;34m\u001b[0m\u001b[0;34m\u001b[0m\u001b[0m\n\u001b[0m\u001b[1;32m      4\u001b[0m \u001b[0mchangeable_tensor\u001b[0m       \u001b[0;31m#we will be getting an error and it is solved in the next code cell\u001b[0m\u001b[0;34m\u001b[0m\u001b[0;34m\u001b[0m\u001b[0m\n",
            "\u001b[0;31mTypeError\u001b[0m: 'ResourceVariable' object does not support item assignment"
          ]
        }
      ]
    },
    {
      "cell_type": "code",
      "source": [
        "#changing the value of changeable tensor using .assign()\n",
        "\n",
        "changeable_tensor[0].assign(8)\n",
        "changeable_tensor"
      ],
      "metadata": {
        "colab": {
          "base_uri": "https://localhost:8080/"
        },
        "id": "g4_C_HpPDwVm",
        "outputId": "bb20649e-f7a0-45dc-dbd3-e24334946f34"
      },
      "execution_count": 30,
      "outputs": [
        {
          "output_type": "execute_result",
          "data": {
            "text/plain": [
              "<tf.Variable 'Variable:0' shape=(2,) dtype=int32, numpy=array([ 8, 11], dtype=int32)>"
            ]
          },
          "metadata": {},
          "execution_count": 30
        }
      ]
    },
    {
      "cell_type": "code",
      "source": [
        "#let's try to change the elements of unchangeable_tensor\n",
        "\n",
        "unchangeable_tensor[0].assign(8)\n",
        "unchangeable_tensor"
      ],
      "metadata": {
        "colab": {
          "base_uri": "https://localhost:8080/",
          "height": 339
        },
        "id": "vrgZcez5EAIN",
        "outputId": "364190d5-5e80-4883-e2b9-cdca004beafb"
      },
      "execution_count": 32,
      "outputs": [
        {
          "output_type": "error",
          "ename": "AttributeError",
          "evalue": "ignored",
          "traceback": [
            "\u001b[0;31m---------------------------------------------------------------------------\u001b[0m",
            "\u001b[0;31mAttributeError\u001b[0m                            Traceback (most recent call last)",
            "\u001b[0;32m<ipython-input-32-fb59ba38cb85>\u001b[0m in \u001b[0;36m<module>\u001b[0;34m\u001b[0m\n\u001b[1;32m      1\u001b[0m \u001b[0;31m#let's try to change the elements of unchangeable_tensor\u001b[0m\u001b[0;34m\u001b[0m\u001b[0;34m\u001b[0m\u001b[0;34m\u001b[0m\u001b[0m\n\u001b[1;32m      2\u001b[0m \u001b[0;34m\u001b[0m\u001b[0m\n\u001b[0;32m----> 3\u001b[0;31m \u001b[0munchangeable_tensor\u001b[0m\u001b[0;34m[\u001b[0m\u001b[0;36m0\u001b[0m\u001b[0;34m]\u001b[0m\u001b[0;34m.\u001b[0m\u001b[0massign\u001b[0m\u001b[0;34m(\u001b[0m\u001b[0;36m8\u001b[0m\u001b[0;34m)\u001b[0m\u001b[0;34m\u001b[0m\u001b[0;34m\u001b[0m\u001b[0m\n\u001b[0m\u001b[1;32m      4\u001b[0m \u001b[0munchangeable_tensor\u001b[0m\u001b[0;34m\u001b[0m\u001b[0;34m\u001b[0m\u001b[0m\n",
            "\u001b[0;32m/usr/local/lib/python3.7/dist-packages/tensorflow/python/framework/ops.py\u001b[0m in \u001b[0;36m__getattr__\u001b[0;34m(self, name)\u001b[0m\n\u001b[1;32m    511\u001b[0m         \u001b[0;32mfrom\u001b[0m \u001b[0mtensorflow\u001b[0m\u001b[0;34m.\u001b[0m\u001b[0mpython\u001b[0m\u001b[0;34m.\u001b[0m\u001b[0mops\u001b[0m\u001b[0;34m.\u001b[0m\u001b[0mnumpy_ops\u001b[0m \u001b[0;32mimport\u001b[0m \u001b[0mnp_config\u001b[0m\u001b[0;34m\u001b[0m\u001b[0;34m\u001b[0m\u001b[0m\n\u001b[1;32m    512\u001b[0m         np_config.enable_numpy_behavior()\"\"\".format(type(self).__name__, name))\n\u001b[0;32m--> 513\u001b[0;31m     \u001b[0mself\u001b[0m\u001b[0;34m.\u001b[0m\u001b[0m__getattribute__\u001b[0m\u001b[0;34m(\u001b[0m\u001b[0mname\u001b[0m\u001b[0;34m)\u001b[0m\u001b[0;34m\u001b[0m\u001b[0;34m\u001b[0m\u001b[0m\n\u001b[0m\u001b[1;32m    514\u001b[0m \u001b[0;34m\u001b[0m\u001b[0m\n\u001b[1;32m    515\u001b[0m   \u001b[0;34m@\u001b[0m\u001b[0mstaticmethod\u001b[0m\u001b[0;34m\u001b[0m\u001b[0;34m\u001b[0m\u001b[0m\n",
            "\u001b[0;31mAttributeError\u001b[0m: 'tensorflow.python.framework.ops.EagerTensor' object has no attribute 'assign'"
          ]
        }
      ]
    },
    {
      "cell_type": "code",
      "source": [
        "#since the unchangeable_tensor is a constant tensor made by tf.constant(), it's element values cannot be changed."
      ],
      "metadata": {
        "id": "sz97gf4MEY_C"
      },
      "execution_count": 33,
      "outputs": []
    },
    {
      "cell_type": "markdown",
      "source": [
        "##Random tensor"
      ],
      "metadata": {
        "id": "DaZGElOXKkkF"
      }
    },
    {
      "cell_type": "markdown",
      "source": [
        "**Creating Random tensors**\n",
        "\n",
        "Random tensors are the tensors which contains random numbers of some arbitary size."
      ],
      "metadata": {
        "id": "hpHUttShE08_"
      }
    },
    {
      "cell_type": "code",
      "source": [
        "#creating random normally distributed tensor\n",
        "\n",
        "random_nrml = tf.random.normal((3,3), mean =0, stddev=1)\n",
        "random_nrml"
      ],
      "metadata": {
        "colab": {
          "base_uri": "https://localhost:8080/"
        },
        "id": "OXSfP7aVUWTD",
        "outputId": "cc504159-df2e-4e25-f543-4a2a1e528634"
      },
      "execution_count": 34,
      "outputs": [
        {
          "output_type": "execute_result",
          "data": {
            "text/plain": [
              "<tf.Tensor: shape=(3, 3), dtype=float32, numpy=\n",
              "array([[ 1.1459079 ,  2.0345483 , -0.49514037],\n",
              "       [-0.36501387, -1.9412805 ,  0.7273292 ],\n",
              "       [ 1.4374158 , -0.3731767 ,  0.58636934]], dtype=float32)>"
            ]
          },
          "metadata": {},
          "execution_count": 34
        }
      ]
    },
    {
      "cell_type": "code",
      "source": [
        "#creating two similar randoms tensors\n",
        "\n",
        "random_tensor1 = tf.random.Generator.from_seed(42)        #setting the seed for reproducibility\n",
        "random_tensor1 = random_tensor1.normal(shape=(3,2))\n",
        "random_tensor2 = tf.random.Generator.from_seed(42)        #setting the seed for reproducibility\n",
        "random_tensor2 = random_tensor2.normal(shape=(3,2))"
      ],
      "metadata": {
        "id": "ky0dKuv-EtJp"
      },
      "execution_count": 35,
      "outputs": []
    },
    {
      "cell_type": "code",
      "source": [
        "random_tensor1"
      ],
      "metadata": {
        "colab": {
          "base_uri": "https://localhost:8080/"
        },
        "id": "AUERq6GgFeeV",
        "outputId": "6edd033a-8d62-40cf-ef5c-8af8191fa266"
      },
      "execution_count": 36,
      "outputs": [
        {
          "output_type": "execute_result",
          "data": {
            "text/plain": [
              "<tf.Tensor: shape=(3, 2), dtype=float32, numpy=\n",
              "array([[-0.7565803 , -0.06854702],\n",
              "       [ 0.07595026, -1.2573844 ],\n",
              "       [-0.23193765, -1.8107855 ]], dtype=float32)>"
            ]
          },
          "metadata": {},
          "execution_count": 36
        }
      ]
    },
    {
      "cell_type": "code",
      "source": [
        "random_tensor2"
      ],
      "metadata": {
        "colab": {
          "base_uri": "https://localhost:8080/"
        },
        "id": "bYYkpAO3GiQq",
        "outputId": "fd115fbe-fe87-4a45-efde-f0bbc5bdf98b"
      },
      "execution_count": 37,
      "outputs": [
        {
          "output_type": "execute_result",
          "data": {
            "text/plain": [
              "<tf.Tensor: shape=(3, 2), dtype=float32, numpy=\n",
              "array([[-0.7565803 , -0.06854702],\n",
              "       [ 0.07595026, -1.2573844 ],\n",
              "       [-0.23193765, -1.8107855 ]], dtype=float32)>"
            ]
          },
          "metadata": {},
          "execution_count": 37
        }
      ]
    },
    {
      "cell_type": "code",
      "source": [
        "#checking if the two random tensors created are equal or not\n",
        "\n",
        "random_tensor1 == random_tensor2"
      ],
      "metadata": {
        "colab": {
          "base_uri": "https://localhost:8080/"
        },
        "id": "CHrNL8xZHGO9",
        "outputId": "fcb4f1d9-ce93-4be0-fbac-f0726b3592f6"
      },
      "execution_count": 38,
      "outputs": [
        {
          "output_type": "execute_result",
          "data": {
            "text/plain": [
              "<tf.Tensor: shape=(3, 2), dtype=bool, numpy=\n",
              "array([[ True,  True],\n",
              "       [ True,  True],\n",
              "       [ True,  True]])>"
            ]
          },
          "metadata": {},
          "execution_count": 38
        }
      ]
    },
    {
      "cell_type": "markdown",
      "source": [
        "##Shuffling"
      ],
      "metadata": {
        "id": "Q8mT3itOKuBE"
      }
    },
    {
      "cell_type": "markdown",
      "source": [
        "**Shuffling the order of elements in a tensor**\n",
        "\n",
        "it is valuable for when you want to shuffle your data so that the inherent order doesn't effect learning"
      ],
      "metadata": {
        "id": "BVsYt4oDMih7"
      }
    },
    {
      "cell_type": "code",
      "source": [
        "un_shuffled = tf.constant([[1,2],\n",
        "                           [3,4],\n",
        "                           [5,6],\n",
        "                           [7,8]])"
      ],
      "metadata": {
        "id": "3cAIFMuGMYNO"
      },
      "execution_count": 39,
      "outputs": []
    },
    {
      "cell_type": "code",
      "source": [
        "un_shuffled\n"
      ],
      "metadata": {
        "colab": {
          "base_uri": "https://localhost:8080/"
        },
        "id": "pgVpL7XqN9YT",
        "outputId": "84e0da8a-13ac-4390-ae2c-94b62c6a4511"
      },
      "execution_count": 40,
      "outputs": [
        {
          "output_type": "execute_result",
          "data": {
            "text/plain": [
              "<tf.Tensor: shape=(4, 2), dtype=int32, numpy=\n",
              "array([[1, 2],\n",
              "       [3, 4],\n",
              "       [5, 6],\n",
              "       [7, 8]], dtype=int32)>"
            ]
          },
          "metadata": {},
          "execution_count": 40
        }
      ]
    },
    {
      "cell_type": "code",
      "source": [
        "#let's shuffle the un_shuffled tensor\n",
        "\n",
        "tf.random.shuffle(un_shuffled)"
      ],
      "metadata": {
        "colab": {
          "base_uri": "https://localhost:8080/"
        },
        "id": "Yf1DdQfSOE-B",
        "outputId": "8af02fd3-488d-49fb-b6bd-583b079b7ec4"
      },
      "execution_count": 41,
      "outputs": [
        {
          "output_type": "execute_result",
          "data": {
            "text/plain": [
              "<tf.Tensor: shape=(4, 2), dtype=int32, numpy=\n",
              "array([[1, 2],\n",
              "       [3, 4],\n",
              "       [5, 6],\n",
              "       [7, 8]], dtype=int32)>"
            ]
          },
          "metadata": {},
          "execution_count": 41
        }
      ]
    },
    {
      "cell_type": "markdown",
      "source": [
        "##Global and operational seed"
      ],
      "metadata": {
        "id": "4A6mX27AK64W"
      }
    },
    {
      "cell_type": "code",
      "source": [
        "#If both the global and the operation seed are set: Both seeds are used in conjunction to determine the random sequence.\n",
        "#we use both global and operation level random seeds to keep our shuffled tensors in the same order.\n",
        "\n",
        "tf.random.set_seed(22)        #global level random seed\n",
        "tf.random.shuffle(un_shuffled, seed = 22)       #operation level random seed"
      ],
      "metadata": {
        "colab": {
          "base_uri": "https://localhost:8080/"
        },
        "id": "61Q7R64COSv8",
        "outputId": "b085b762-a1ed-42b4-d78d-dcaf39e69dba"
      },
      "execution_count": 42,
      "outputs": [
        {
          "output_type": "execute_result",
          "data": {
            "text/plain": [
              "<tf.Tensor: shape=(4, 2), dtype=int32, numpy=\n",
              "array([[5, 6],\n",
              "       [3, 4],\n",
              "       [1, 2],\n",
              "       [7, 8]], dtype=int32)>"
            ]
          },
          "metadata": {},
          "execution_count": 42
        }
      ]
    },
    {
      "cell_type": "markdown",
      "source": [
        "##Numpy to Tensors"
      ],
      "metadata": {
        "id": "LkbKDkM9LAJF"
      }
    },
    {
      "cell_type": "markdown",
      "source": [
        "**Turning numpy arrays to tensors:**\n",
        "because, tensors runs on a GPU which makes them fast computing than numpy numbers\n"
      ],
      "metadata": {
        "id": "-ZqeSAkulrNJ"
      }
    },
    {
      "cell_type": "code",
      "source": [
        "import numpy as np\n",
        "\n",
        "#creating an array between the range(1,22)\n",
        "\n",
        "array1 = np.arange(1,22, dtype = np.int32)\n",
        "array1"
      ],
      "metadata": {
        "colab": {
          "base_uri": "https://localhost:8080/"
        },
        "id": "tNgJ2XrOkRm2",
        "outputId": "0f5326d1-2788-4e0a-ccaa-b6d9528c49c8"
      },
      "execution_count": 43,
      "outputs": [
        {
          "output_type": "execute_result",
          "data": {
            "text/plain": [
              "array([ 1,  2,  3,  4,  5,  6,  7,  8,  9, 10, 11, 12, 13, 14, 15, 16, 17,\n",
              "       18, 19, 20, 21], dtype=int32)"
            ]
          },
          "metadata": {},
          "execution_count": 43
        }
      ]
    },
    {
      "cell_type": "code",
      "source": [
        "#converitng numpy arrays into tensors\n",
        "\n",
        "A = tf.constant(array1)\n",
        "A"
      ],
      "metadata": {
        "colab": {
          "base_uri": "https://localhost:8080/"
        },
        "id": "oq2lR4aslp7Y",
        "outputId": "67959fdb-235f-4fe8-c9e6-de7d07eade90"
      },
      "execution_count": 44,
      "outputs": [
        {
          "output_type": "execute_result",
          "data": {
            "text/plain": [
              "<tf.Tensor: shape=(21,), dtype=int32, numpy=\n",
              "array([ 1,  2,  3,  4,  5,  6,  7,  8,  9, 10, 11, 12, 13, 14, 15, 16, 17,\n",
              "       18, 19, 20, 21], dtype=int32)>"
            ]
          },
          "metadata": {},
          "execution_count": 44
        }
      ]
    },
    {
      "cell_type": "markdown",
      "source": [
        "##Reshaping"
      ],
      "metadata": {
        "id": "jFJcaLDhLHS_"
      }
    },
    {
      "cell_type": "code",
      "source": [
        "#reshaping the numpy tensor:\n",
        "\n",
        "A = tf.reshape(array1, shape = (1,3,7))\n",
        "A"
      ],
      "metadata": {
        "colab": {
          "base_uri": "https://localhost:8080/"
        },
        "id": "HkJQb6kGm_hw",
        "outputId": "9896e91f-93ce-4a62-a4f4-213da46913ae"
      },
      "execution_count": 45,
      "outputs": [
        {
          "output_type": "execute_result",
          "data": {
            "text/plain": [
              "<tf.Tensor: shape=(1, 3, 7), dtype=int32, numpy=\n",
              "array([[[ 1,  2,  3,  4,  5,  6,  7],\n",
              "        [ 8,  9, 10, 11, 12, 13, 14],\n",
              "        [15, 16, 17, 18, 19, 20, 21]]], dtype=int32)>"
            ]
          },
          "metadata": {},
          "execution_count": 45
        }
      ]
    },
    {
      "cell_type": "code",
      "source": [
        "1*3*7       #will be equal to the total no.of elements in the array"
      ],
      "metadata": {
        "colab": {
          "base_uri": "https://localhost:8080/"
        },
        "id": "cHIcn5hZnhS0",
        "outputId": "e1f04798-18fa-440d-d8b3-8466f0978cbf"
      },
      "execution_count": 46,
      "outputs": [
        {
          "output_type": "execute_result",
          "data": {
            "text/plain": [
              "21"
            ]
          },
          "metadata": {},
          "execution_count": 46
        }
      ]
    },
    {
      "cell_type": "code",
      "source": [
        "A.ndim"
      ],
      "metadata": {
        "colab": {
          "base_uri": "https://localhost:8080/"
        },
        "id": "epZcaZ8knqs9",
        "outputId": "77ca1238-7847-4fd5-9a80-e1d5cab23e2d"
      },
      "execution_count": 47,
      "outputs": [
        {
          "output_type": "execute_result",
          "data": {
            "text/plain": [
              "3"
            ]
          },
          "metadata": {},
          "execution_count": 47
        }
      ]
    },
    {
      "cell_type": "markdown",
      "source": [
        "##Range"
      ],
      "metadata": {
        "id": "PtB4CmQALQ2C"
      }
    },
    {
      "cell_type": "code",
      "source": [
        "#creating a tensor of range(10)\n",
        "\n",
        "x = tf.range(10)\n",
        "x"
      ],
      "metadata": {
        "colab": {
          "base_uri": "https://localhost:8080/"
        },
        "id": "16JTlAp0nxc-",
        "outputId": "5e238266-59b0-452a-ff39-04909e4e8866"
      },
      "execution_count": 48,
      "outputs": [
        {
          "output_type": "execute_result",
          "data": {
            "text/plain": [
              "<tf.Tensor: shape=(10,), dtype=int32, numpy=array([0, 1, 2, 3, 4, 5, 6, 7, 8, 9], dtype=int32)>"
            ]
          },
          "metadata": {},
          "execution_count": 48
        }
      ]
    },
    {
      "cell_type": "markdown",
      "source": [
        "##Delta(Step count)"
      ],
      "metadata": {
        "id": "CTADO4AzLVUH"
      }
    },
    {
      "cell_type": "code",
      "source": [
        "#creating a tensor of delta(step count) = 3 within the range(1,23)\n",
        "\n",
        "x = tf.range(start=1, limit = 23, delta = 3)\n",
        "x"
      ],
      "metadata": {
        "colab": {
          "base_uri": "https://localhost:8080/"
        },
        "id": "2yXJfKhFoIfG",
        "outputId": "6f0ba91c-19f0-4bed-dd29-6251805b5f62"
      },
      "execution_count": 49,
      "outputs": [
        {
          "output_type": "execute_result",
          "data": {
            "text/plain": [
              "<tf.Tensor: shape=(8,), dtype=int32, numpy=array([ 1,  4,  7, 10, 13, 16, 19, 22], dtype=int32)>"
            ]
          },
          "metadata": {},
          "execution_count": 49
        }
      ]
    },
    {
      "cell_type": "markdown",
      "source": [
        "##Attributes"
      ],
      "metadata": {
        "id": "PZj8YuCoMZeZ"
      }
    },
    {
      "cell_type": "markdown",
      "source": [
        "**Getting information from the tensors:**\n",
        "Attributes:\n",
        "1.   Shape: Length(no.of elements) of each of the dimensions of a tensor.\n",
        "2.   Rank: The no.of tensor dimensions. Like, scalar rank=0, vector rank=1, matrix rank=2, a tensor rank = n\n",
        "3.   Axis or dimension: Its a particular dimension of a tensor\n",
        "4.   Size: Total no.of items in the tensor.\n",
        "5.   Datatype: Tells the type of data"
      ],
      "metadata": {
        "id": "42Loov32pOTr"
      }
    },
    {
      "cell_type": "code",
      "source": [
        "#creating a tensor of Rank(4)-4d \n",
        "\n",
        "r4_tensor = tf.ones(shape = [2,3,4,5])\n",
        "r4_tensor"
      ],
      "metadata": {
        "colab": {
          "base_uri": "https://localhost:8080/"
        },
        "id": "IGGm7fC8pNyU",
        "outputId": "32c767a6-8908-469f-b930-1dbebe5534b6"
      },
      "execution_count": 50,
      "outputs": [
        {
          "output_type": "execute_result",
          "data": {
            "text/plain": [
              "<tf.Tensor: shape=(2, 3, 4, 5), dtype=float32, numpy=\n",
              "array([[[[1., 1., 1., 1., 1.],\n",
              "         [1., 1., 1., 1., 1.],\n",
              "         [1., 1., 1., 1., 1.],\n",
              "         [1., 1., 1., 1., 1.]],\n",
              "\n",
              "        [[1., 1., 1., 1., 1.],\n",
              "         [1., 1., 1., 1., 1.],\n",
              "         [1., 1., 1., 1., 1.],\n",
              "         [1., 1., 1., 1., 1.]],\n",
              "\n",
              "        [[1., 1., 1., 1., 1.],\n",
              "         [1., 1., 1., 1., 1.],\n",
              "         [1., 1., 1., 1., 1.],\n",
              "         [1., 1., 1., 1., 1.]]],\n",
              "\n",
              "\n",
              "       [[[1., 1., 1., 1., 1.],\n",
              "         [1., 1., 1., 1., 1.],\n",
              "         [1., 1., 1., 1., 1.],\n",
              "         [1., 1., 1., 1., 1.]],\n",
              "\n",
              "        [[1., 1., 1., 1., 1.],\n",
              "         [1., 1., 1., 1., 1.],\n",
              "         [1., 1., 1., 1., 1.],\n",
              "         [1., 1., 1., 1., 1.]],\n",
              "\n",
              "        [[1., 1., 1., 1., 1.],\n",
              "         [1., 1., 1., 1., 1.],\n",
              "         [1., 1., 1., 1., 1.],\n",
              "         [1., 1., 1., 1., 1.]]]], dtype=float32)>"
            ]
          },
          "metadata": {},
          "execution_count": 50
        }
      ]
    },
    {
      "cell_type": "code",
      "source": [
        "r4_tensor.ndim"
      ],
      "metadata": {
        "colab": {
          "base_uri": "https://localhost:8080/"
        },
        "id": "D8npKrIapHbK",
        "outputId": "6470e498-0201-4fc0-b3de-b6172b2dbab5"
      },
      "execution_count": 51,
      "outputs": [
        {
          "output_type": "execute_result",
          "data": {
            "text/plain": [
              "4"
            ]
          },
          "metadata": {},
          "execution_count": 51
        }
      ]
    },
    {
      "cell_type": "markdown",
      "source": [
        "###Shape"
      ],
      "metadata": {
        "id": "AywKS18HLepB"
      }
    },
    {
      "cell_type": "code",
      "source": [
        "#shape of the tensor\n",
        "\n",
        "r4_tensor.shape"
      ],
      "metadata": {
        "colab": {
          "base_uri": "https://localhost:8080/"
        },
        "id": "LLb-9OmgriYS",
        "outputId": "30e44c77-940d-4e0f-8bb3-63dc05c2374b"
      },
      "execution_count": 52,
      "outputs": [
        {
          "output_type": "execute_result",
          "data": {
            "text/plain": [
              "TensorShape([2, 3, 4, 5])"
            ]
          },
          "metadata": {},
          "execution_count": 52
        }
      ]
    },
    {
      "cell_type": "markdown",
      "source": [
        "###Rank"
      ],
      "metadata": {
        "id": "p4EMZ8agLl2C"
      }
    },
    {
      "cell_type": "code",
      "source": [
        "#rank of the tensor\n",
        "\n",
        "r4_tensor.ndim"
      ],
      "metadata": {
        "colab": {
          "base_uri": "https://localhost:8080/"
        },
        "id": "O76BL-9KruWW",
        "outputId": "84364d04-bfcb-45f6-fa4b-1c172d74d87b"
      },
      "execution_count": 53,
      "outputs": [
        {
          "output_type": "execute_result",
          "data": {
            "text/plain": [
              "4"
            ]
          },
          "metadata": {},
          "execution_count": 53
        }
      ]
    },
    {
      "cell_type": "markdown",
      "source": [
        "###Dimension"
      ],
      "metadata": {
        "id": "liz6SA8kLqwj"
      }
    },
    {
      "cell_type": "code",
      "source": [
        "#dimension of the tensor\n",
        "\n",
        "r4_tensor[0]"
      ],
      "metadata": {
        "colab": {
          "base_uri": "https://localhost:8080/"
        },
        "id": "dpSOBhWcsAMR",
        "outputId": "1e4b992a-b44c-4ddf-a512-ce744b27962a"
      },
      "execution_count": 54,
      "outputs": [
        {
          "output_type": "execute_result",
          "data": {
            "text/plain": [
              "<tf.Tensor: shape=(3, 4, 5), dtype=float32, numpy=\n",
              "array([[[1., 1., 1., 1., 1.],\n",
              "        [1., 1., 1., 1., 1.],\n",
              "        [1., 1., 1., 1., 1.],\n",
              "        [1., 1., 1., 1., 1.]],\n",
              "\n",
              "       [[1., 1., 1., 1., 1.],\n",
              "        [1., 1., 1., 1., 1.],\n",
              "        [1., 1., 1., 1., 1.],\n",
              "        [1., 1., 1., 1., 1.]],\n",
              "\n",
              "       [[1., 1., 1., 1., 1.],\n",
              "        [1., 1., 1., 1., 1.],\n",
              "        [1., 1., 1., 1., 1.],\n",
              "        [1., 1., 1., 1., 1.]]], dtype=float32)>"
            ]
          },
          "metadata": {},
          "execution_count": 54
        }
      ]
    },
    {
      "cell_type": "markdown",
      "source": [
        "###Datatype"
      ],
      "metadata": {
        "id": "-rGR9nzKMHnT"
      }
    },
    {
      "cell_type": "code",
      "source": [
        "#datatype of the tensor\n",
        "\n",
        "r4_tensor.dtype"
      ],
      "metadata": {
        "colab": {
          "base_uri": "https://localhost:8080/"
        },
        "id": "TkDZY3-EL1Yr",
        "outputId": "d2ded595-0ff3-465b-8ad4-d6d5d8e0d049"
      },
      "execution_count": 55,
      "outputs": [
        {
          "output_type": "execute_result",
          "data": {
            "text/plain": [
              "tf.float32"
            ]
          },
          "metadata": {},
          "execution_count": 55
        }
      ]
    },
    {
      "cell_type": "markdown",
      "source": [
        "###Size"
      ],
      "metadata": {
        "id": "U3_jQexpLulw"
      }
    },
    {
      "cell_type": "code",
      "source": [
        "#size of the tensor\n",
        "\n",
        "tf.size(r4_tensor).numpy()      #2*3*4*5=120"
      ],
      "metadata": {
        "colab": {
          "base_uri": "https://localhost:8080/"
        },
        "id": "uR2p3SBQsE1p",
        "outputId": "90c5da06-bc9b-4802-9888-53628ee89ebc"
      },
      "execution_count": 56,
      "outputs": [
        {
          "output_type": "execute_result",
          "data": {
            "text/plain": [
              "120"
            ]
          },
          "metadata": {},
          "execution_count": 56
        }
      ]
    },
    {
      "cell_type": "code",
      "source": [
        "#printing the elements along the 0 axis:\n",
        "\n",
        "print(\"the elements along the 0 axis:\",r4_tensor.shape[0])"
      ],
      "metadata": {
        "colab": {
          "base_uri": "https://localhost:8080/"
        },
        "id": "IVc1iI6DsIfE",
        "outputId": "a3954371-d13d-44ad-f921-e553f142ab4e"
      },
      "execution_count": 57,
      "outputs": [
        {
          "output_type": "stream",
          "name": "stdout",
          "text": [
            "the elements along the 0 axis: 2\n"
          ]
        }
      ]
    },
    {
      "cell_type": "code",
      "source": [
        "#printing the elements along the last axis:\n",
        "\n",
        "print(\"the elements along the 0 axis:\",r4_tensor.shape[-1])"
      ],
      "metadata": {
        "colab": {
          "base_uri": "https://localhost:8080/"
        },
        "id": "kDqJMIbftGvW",
        "outputId": "2abd27ec-5c1f-4d38-86a8-66a31c8f8151"
      },
      "execution_count": 58,
      "outputs": [
        {
          "output_type": "stream",
          "name": "stdout",
          "text": [
            "the elements along the 0 axis: 5\n"
          ]
        }
      ]
    },
    {
      "cell_type": "markdown",
      "source": [
        "##Indexing"
      ],
      "metadata": {
        "id": "FCgZlYcGMfi8"
      }
    },
    {
      "cell_type": "markdown",
      "source": [
        "**Indexing:**\n",
        "Tensors can be indexed or sliced just like python lists."
      ],
      "metadata": {
        "id": "_t4laIzBtddz"
      }
    },
    {
      "cell_type": "code",
      "source": [
        "#simple list indexing\n",
        "\n",
        "s_list = [1,2,3,4,5]\n",
        "s_list[:3]"
      ],
      "metadata": {
        "colab": {
          "base_uri": "https://localhost:8080/"
        },
        "id": "7OU3cBQpt3qv",
        "outputId": "35778fa3-9cc9-4d3b-a202-70d647db5651"
      },
      "execution_count": 59,
      "outputs": [
        {
          "output_type": "execute_result",
          "data": {
            "text/plain": [
              "[1, 2, 3]"
            ]
          },
          "metadata": {},
          "execution_count": 59
        }
      ]
    },
    {
      "cell_type": "code",
      "source": [
        "#getting the first 2 elements of each dimension from r4_tensor\n",
        "\n",
        "r4_tensor[:2, :2, :2, :2]"
      ],
      "metadata": {
        "colab": {
          "base_uri": "https://localhost:8080/"
        },
        "id": "Hf54DvqHtQw_",
        "outputId": "804bcb0d-db47-4d4c-d2b2-dc78c55ea255"
      },
      "execution_count": 60,
      "outputs": [
        {
          "output_type": "execute_result",
          "data": {
            "text/plain": [
              "<tf.Tensor: shape=(2, 2, 2, 2), dtype=float32, numpy=\n",
              "array([[[[1., 1.],\n",
              "         [1., 1.]],\n",
              "\n",
              "        [[1., 1.],\n",
              "         [1., 1.]]],\n",
              "\n",
              "\n",
              "       [[[1., 1.],\n",
              "         [1., 1.]],\n",
              "\n",
              "        [[1., 1.],\n",
              "         [1., 1.]]]], dtype=float32)>"
            ]
          },
          "metadata": {},
          "execution_count": 60
        }
      ]
    },
    {
      "cell_type": "code",
      "source": [
        "#getting the first element from each dimension of each index except for the last one.\n",
        "\n",
        "r4_tensor[:1, :1, :1, :]        #getting all the elements from the last one(:)\n"
      ],
      "metadata": {
        "colab": {
          "base_uri": "https://localhost:8080/"
        },
        "id": "k8iRMsRGuHvl",
        "outputId": "c6898f77-27c4-413d-f352-5de78e12af23"
      },
      "execution_count": 61,
      "outputs": [
        {
          "output_type": "execute_result",
          "data": {
            "text/plain": [
              "<tf.Tensor: shape=(1, 1, 1, 5), dtype=float32, numpy=array([[[[1., 1., 1., 1., 1.]]]], dtype=float32)>"
            ]
          },
          "metadata": {},
          "execution_count": 61
        }
      ]
    },
    {
      "cell_type": "code",
      "source": [
        "#creating rank 2 tensor\n",
        "\n",
        "r2_tensor = tf.constant([[1,2],\n",
        "                         [3,4]])\n",
        "r2_tensor"
      ],
      "metadata": {
        "colab": {
          "base_uri": "https://localhost:8080/"
        },
        "id": "7-HcRCAhu822",
        "outputId": "f671b51a-f4cd-4ef7-db02-924edcccdfec"
      },
      "execution_count": 62,
      "outputs": [
        {
          "output_type": "execute_result",
          "data": {
            "text/plain": [
              "<tf.Tensor: shape=(2, 2), dtype=int32, numpy=\n",
              "array([[1, 2],\n",
              "       [3, 4]], dtype=int32)>"
            ]
          },
          "metadata": {},
          "execution_count": 62
        }
      ]
    },
    {
      "cell_type": "code",
      "source": [
        "#getting the last element from simple list\n",
        "\n",
        "s_list\n",
        "print(\"The last element of the simple list is:\", s_list[-1])"
      ],
      "metadata": {
        "colab": {
          "base_uri": "https://localhost:8080/"
        },
        "id": "wNxkuC5PvpjE",
        "outputId": "4ae11915-710e-47f9-d42f-43bd611b2dc6"
      },
      "execution_count": 63,
      "outputs": [
        {
          "output_type": "stream",
          "name": "stdout",
          "text": [
            "The last element of the simple list is: 5\n"
          ]
        }
      ]
    },
    {
      "cell_type": "code",
      "source": [
        "#getting the last element of each of our row of r2_tensor\n",
        "\n",
        "r2_tensor[:, -1]"
      ],
      "metadata": {
        "colab": {
          "base_uri": "https://localhost:8080/"
        },
        "id": "4uERcHa_v780",
        "outputId": "ba2d1f3e-4f43-46a3-ca0a-c1342e4ea140"
      },
      "execution_count": 64,
      "outputs": [
        {
          "output_type": "execute_result",
          "data": {
            "text/plain": [
              "<tf.Tensor: shape=(2,), dtype=int32, numpy=array([2, 4], dtype=int32)>"
            ]
          },
          "metadata": {},
          "execution_count": 64
        }
      ]
    },
    {
      "cell_type": "markdown",
      "source": [
        "##Adding Extra Dimension"
      ],
      "metadata": {
        "id": "Bmuv8Sjzba3X"
      }
    },
    {
      "cell_type": "code",
      "source": [
        "#adding extra dimension to our r2_tensor\n",
        "\n",
        "r3_tensor = r2_tensor[:, :, tf.newaxis]       #this can also be written as:r2_tensor[..., tf.newaxis]\n",
        "print(\"the actual shape of r2_tensor is:\", r2_tensor.shape)\n",
        "print(\"the shape of r3_tensor after adding an extra/new dimension to the r2_tensor is:\", r3_tensor.shape)"
      ],
      "metadata": {
        "colab": {
          "base_uri": "https://localhost:8080/"
        },
        "id": "lXt0xUsywJGz",
        "outputId": "9c3ac68e-e1cd-4e98-9afe-5a42b5aeb9e5"
      },
      "execution_count": 65,
      "outputs": [
        {
          "output_type": "stream",
          "name": "stdout",
          "text": [
            "the actual shape of r2_tensor is: (2, 2)\n",
            "the shape of r3_tensor after adding an extra/new dimension to the r2_tensor is: (2, 2, 1)\n"
          ]
        }
      ]
    },
    {
      "cell_type": "code",
      "source": [
        "#alternative to tf.newaxis: tf.expand_dims\n",
        "\n",
        "tf.expand_dims(r2_tensor, axis = -1)        #-1 means expand the final axis\n"
      ],
      "metadata": {
        "colab": {
          "base_uri": "https://localhost:8080/"
        },
        "id": "Gg_DJ78ixIix",
        "outputId": "e28060e5-d91a-436a-bd4e-9b814cd073ec"
      },
      "execution_count": 66,
      "outputs": [
        {
          "output_type": "execute_result",
          "data": {
            "text/plain": [
              "<tf.Tensor: shape=(2, 2, 1), dtype=int32, numpy=\n",
              "array([[[1],\n",
              "        [2]],\n",
              "\n",
              "       [[3],\n",
              "        [4]]], dtype=int32)>"
            ]
          },
          "metadata": {},
          "execution_count": 66
        }
      ]
    },
    {
      "cell_type": "code",
      "source": [
        "tf.expand_dims(r2_tensor, axis = 0)       #expanding the 0-axis"
      ],
      "metadata": {
        "colab": {
          "base_uri": "https://localhost:8080/"
        },
        "id": "5-1OhE40xqwr",
        "outputId": "aeabfc63-5826-4681-ece8-576d6acc723b"
      },
      "execution_count": 67,
      "outputs": [
        {
          "output_type": "execute_result",
          "data": {
            "text/plain": [
              "<tf.Tensor: shape=(1, 2, 2), dtype=int32, numpy=\n",
              "array([[[1, 2],\n",
              "        [3, 4]]], dtype=int32)>"
            ]
          },
          "metadata": {},
          "execution_count": 67
        }
      ]
    },
    {
      "cell_type": "code",
      "source": [
        "r2_tensor"
      ],
      "metadata": {
        "colab": {
          "base_uri": "https://localhost:8080/"
        },
        "id": "cLeM2BMcxzKD",
        "outputId": "3c2a48c4-db46-4470-be9b-abe7dbfb86fb"
      },
      "execution_count": 68,
      "outputs": [
        {
          "output_type": "execute_result",
          "data": {
            "text/plain": [
              "<tf.Tensor: shape=(2, 2), dtype=int32, numpy=\n",
              "array([[1, 2],\n",
              "       [3, 4]], dtype=int32)>"
            ]
          },
          "metadata": {},
          "execution_count": 68
        }
      ]
    },
    {
      "cell_type": "markdown",
      "source": [
        "##Tensor Operations"
      ],
      "metadata": {
        "id": "lHNfYUmTbvoV"
      }
    },
    {
      "cell_type": "markdown",
      "source": [
        "**Tensor operations:** Manipulating the tensors using the basic operations:\n",
        " **+, -, *, /**"
      ],
      "metadata": {
        "id": "_dtWlWZIyTQU"
      }
    },
    {
      "cell_type": "markdown",
      "source": [
        "###Addition"
      ],
      "metadata": {
        "id": "RSHn6EllbyZK"
      }
    },
    {
      "cell_type": "code",
      "source": [
        "#adding values to a tensor using addition operator\n",
        "\n",
        "tensor = tf.constant([[1,2], [3,4]])\n",
        "tensor+10"
      ],
      "metadata": {
        "colab": {
          "base_uri": "https://localhost:8080/"
        },
        "id": "Q47ftirfySrh",
        "outputId": "0b042450-66cb-4e21-cdec-ed0e6620d57b"
      },
      "execution_count": 69,
      "outputs": [
        {
          "output_type": "execute_result",
          "data": {
            "text/plain": [
              "<tf.Tensor: shape=(2, 2), dtype=int32, numpy=\n",
              "array([[11, 12],\n",
              "       [13, 14]], dtype=int32)>"
            ]
          },
          "metadata": {},
          "execution_count": 69
        }
      ]
    },
    {
      "cell_type": "code",
      "source": [
        "#viewing the original tensor\n",
        "\n",
        "tensor"
      ],
      "metadata": {
        "colab": {
          "base_uri": "https://localhost:8080/"
        },
        "id": "gDQU6Wg6x9Au",
        "outputId": "908ed36b-8d6a-42b2-eeb2-1ca719224a51"
      },
      "execution_count": 70,
      "outputs": [
        {
          "output_type": "execute_result",
          "data": {
            "text/plain": [
              "<tf.Tensor: shape=(2, 2), dtype=int32, numpy=\n",
              "array([[1, 2],\n",
              "       [3, 4]], dtype=int32)>"
            ]
          },
          "metadata": {},
          "execution_count": 70
        }
      ]
    },
    {
      "cell_type": "code",
      "source": [
        "#using the in-built function for addition\n",
        "\n",
        "tf.add(tensor, 10)"
      ],
      "metadata": {
        "colab": {
          "base_uri": "https://localhost:8080/"
        },
        "id": "7Qnm5LYR0LbP",
        "outputId": "8874f39f-d2fd-4b18-a74e-9f638296bbd5"
      },
      "execution_count": 71,
      "outputs": [
        {
          "output_type": "execute_result",
          "data": {
            "text/plain": [
              "<tf.Tensor: shape=(2, 2), dtype=int32, numpy=\n",
              "array([[11, 12],\n",
              "       [13, 14]], dtype=int32)>"
            ]
          },
          "metadata": {},
          "execution_count": 71
        }
      ]
    },
    {
      "cell_type": "markdown",
      "source": [
        "###Subtraction"
      ],
      "metadata": {
        "id": "7f3Zvxx_b6me"
      }
    },
    {
      "cell_type": "code",
      "source": [
        "#subtraction of tensors\n",
        "\n",
        "tensor - 1"
      ],
      "metadata": {
        "colab": {
          "base_uri": "https://localhost:8080/"
        },
        "id": "VZKHodyezWGL",
        "outputId": "5afb4f78-b823-47bc-f7be-39eb59c319d2"
      },
      "execution_count": 72,
      "outputs": [
        {
          "output_type": "execute_result",
          "data": {
            "text/plain": [
              "<tf.Tensor: shape=(2, 2), dtype=int32, numpy=\n",
              "array([[0, 1],\n",
              "       [2, 3]], dtype=int32)>"
            ]
          },
          "metadata": {},
          "execution_count": 72
        }
      ]
    },
    {
      "cell_type": "markdown",
      "source": [
        "###Multiplication"
      ],
      "metadata": {
        "id": "kwV5QlUrb-Eg"
      }
    },
    {
      "cell_type": "code",
      "source": [
        "#multiplication of tensors\n",
        "\n",
        "tensor*100"
      ],
      "metadata": {
        "colab": {
          "base_uri": "https://localhost:8080/"
        },
        "id": "75-f9KB6zL9v",
        "outputId": "92758742-13e9-46bc-dc37-3abd6b472cf2"
      },
      "execution_count": 73,
      "outputs": [
        {
          "output_type": "execute_result",
          "data": {
            "text/plain": [
              "<tf.Tensor: shape=(2, 2), dtype=int32, numpy=\n",
              "array([[100, 200],\n",
              "       [300, 400]], dtype=int32)>"
            ]
          },
          "metadata": {},
          "execution_count": 73
        }
      ]
    },
    {
      "cell_type": "code",
      "source": [
        "#using the in-built function for multiplication\n",
        "\n",
        "tf.multiply(tensor, 10)"
      ],
      "metadata": {
        "colab": {
          "base_uri": "https://localhost:8080/"
        },
        "id": "U38NAJuKzq09",
        "outputId": "b7e19e35-1156-41aa-95be-e70ade3f9d16"
      },
      "execution_count": 74,
      "outputs": [
        {
          "output_type": "execute_result",
          "data": {
            "text/plain": [
              "<tf.Tensor: shape=(2, 2), dtype=int32, numpy=\n",
              "array([[10, 20],\n",
              "       [30, 40]], dtype=int32)>"
            ]
          },
          "metadata": {},
          "execution_count": 74
        }
      ]
    },
    {
      "cell_type": "markdown",
      "source": [
        "###Division"
      ],
      "metadata": {
        "id": "gz1LFYLPcBtB"
      }
    },
    {
      "cell_type": "code",
      "source": [
        "#dividing the tensors\n",
        "\n",
        "tensor / 2"
      ],
      "metadata": {
        "colab": {
          "base_uri": "https://localhost:8080/"
        },
        "id": "HHlTDQc9zdlN",
        "outputId": "5ce52023-33ce-460e-fae2-4fcc89e130d4"
      },
      "execution_count": 75,
      "outputs": [
        {
          "output_type": "execute_result",
          "data": {
            "text/plain": [
              "<tf.Tensor: shape=(2, 2), dtype=float64, numpy=\n",
              "array([[0.5, 1. ],\n",
              "       [1.5, 2. ]])>"
            ]
          },
          "metadata": {},
          "execution_count": 75
        }
      ]
    },
    {
      "cell_type": "markdown",
      "source": [
        "###Matrix Multiplication"
      ],
      "metadata": {
        "id": "CUsgcYDIcGiB"
      }
    },
    {
      "cell_type": "markdown",
      "source": [
        "**Matrix Multiplication:**\n",
        "It is one of the most common tensor operations.\n"
      ],
      "metadata": {
        "id": "K7yrvmzrU-44"
      }
    },
    {
      "cell_type": "code",
      "source": [
        "tensor"
      ],
      "metadata": {
        "colab": {
          "base_uri": "https://localhost:8080/"
        },
        "id": "70WqmV1SU-gj",
        "outputId": "41afc816-e2d7-4b02-e973-cc95517b1171"
      },
      "execution_count": 76,
      "outputs": [
        {
          "output_type": "execute_result",
          "data": {
            "text/plain": [
              "<tf.Tensor: shape=(2, 2), dtype=int32, numpy=\n",
              "array([[1, 2],\n",
              "       [3, 4]], dtype=int32)>"
            ]
          },
          "metadata": {},
          "execution_count": 76
        }
      ]
    },
    {
      "cell_type": "code",
      "source": [
        "#matrix multiplication\n",
        "\n",
        "tf.matmul(tensor, tensor)"
      ],
      "metadata": {
        "id": "2LlG_F5ZziTi",
        "colab": {
          "base_uri": "https://localhost:8080/"
        },
        "outputId": "26b74400-97df-4d89-afd5-30fdc5b9b629"
      },
      "execution_count": 77,
      "outputs": [
        {
          "output_type": "execute_result",
          "data": {
            "text/plain": [
              "<tf.Tensor: shape=(2, 2), dtype=int32, numpy=\n",
              "array([[ 7, 10],\n",
              "       [15, 22]], dtype=int32)>"
            ]
          },
          "metadata": {},
          "execution_count": 77
        }
      ]
    },
    {
      "cell_type": "code",
      "source": [
        "tensor"
      ],
      "metadata": {
        "colab": {
          "base_uri": "https://localhost:8080/"
        },
        "id": "XDptjMvVWi3c",
        "outputId": "68023908-3fe4-41c3-ab1a-1f2220ef64e0"
      },
      "execution_count": 78,
      "outputs": [
        {
          "output_type": "execute_result",
          "data": {
            "text/plain": [
              "<tf.Tensor: shape=(2, 2), dtype=int32, numpy=\n",
              "array([[1, 2],\n",
              "       [3, 4]], dtype=int32)>"
            ]
          },
          "metadata": {},
          "execution_count": 78
        }
      ]
    },
    {
      "cell_type": "code",
      "source": [
        "tensor*tensor"
      ],
      "metadata": {
        "colab": {
          "base_uri": "https://localhost:8080/"
        },
        "id": "ZwaJMmB2WrwQ",
        "outputId": "4d26daed-fc82-4840-9378-d69bf8d3545c"
      },
      "execution_count": 79,
      "outputs": [
        {
          "output_type": "execute_result",
          "data": {
            "text/plain": [
              "<tf.Tensor: shape=(2, 2), dtype=int32, numpy=\n",
              "array([[ 1,  4],\n",
              "       [ 9, 16]], dtype=int32)>"
            ]
          },
          "metadata": {},
          "execution_count": 79
        }
      ]
    },
    {
      "cell_type": "code",
      "source": [
        "#Matrix multiplication with python operator \"@\"\n",
        "\n",
        "tensor @ tensor"
      ],
      "metadata": {
        "colab": {
          "base_uri": "https://localhost:8080/"
        },
        "id": "AUwCtTP3WtT_",
        "outputId": "044e636b-11f3-4a01-84a6-7f77497f627c"
      },
      "execution_count": 80,
      "outputs": [
        {
          "output_type": "execute_result",
          "data": {
            "text/plain": [
              "<tf.Tensor: shape=(2, 2), dtype=int32, numpy=\n",
              "array([[ 7, 10],\n",
              "       [15, 22]], dtype=int32)>"
            ]
          },
          "metadata": {},
          "execution_count": 80
        }
      ]
    },
    {
      "cell_type": "code",
      "source": [
        "tensor.shape"
      ],
      "metadata": {
        "colab": {
          "base_uri": "https://localhost:8080/"
        },
        "id": "pFAJyaTIXCqi",
        "outputId": "06733537-3b8b-41fc-c049-6e867175d219"
      },
      "execution_count": 81,
      "outputs": [
        {
          "output_type": "execute_result",
          "data": {
            "text/plain": [
              "TensorShape([2, 2])"
            ]
          },
          "metadata": {},
          "execution_count": 81
        }
      ]
    },
    {
      "cell_type": "code",
      "source": [
        "x = tf.constant([[1,2,3,],\n",
        "                 [4,5,6]])\n",
        "x"
      ],
      "metadata": {
        "colab": {
          "base_uri": "https://localhost:8080/"
        },
        "id": "e6GWqi9GXRxo",
        "outputId": "eb3e7ccf-f805-428e-92c1-931be3dd5de0"
      },
      "execution_count": 82,
      "outputs": [
        {
          "output_type": "execute_result",
          "data": {
            "text/plain": [
              "<tf.Tensor: shape=(2, 3), dtype=int32, numpy=\n",
              "array([[1, 2, 3],\n",
              "       [4, 5, 6]], dtype=int32)>"
            ]
          },
          "metadata": {},
          "execution_count": 82
        }
      ]
    },
    {
      "cell_type": "code",
      "source": [
        "y = tf.constant([[1,2],\n",
        "                 [2,3]])\n",
        "y"
      ],
      "metadata": {
        "colab": {
          "base_uri": "https://localhost:8080/"
        },
        "id": "HJ9a2dfxXd8e",
        "outputId": "3eccca6c-2f11-4b01-9c08-878a3abda580"
      },
      "execution_count": 83,
      "outputs": [
        {
          "output_type": "execute_result",
          "data": {
            "text/plain": [
              "<tf.Tensor: shape=(2, 2), dtype=int32, numpy=\n",
              "array([[1, 2],\n",
              "       [2, 3]], dtype=int32)>"
            ]
          },
          "metadata": {},
          "execution_count": 83
        }
      ]
    },
    {
      "cell_type": "code",
      "source": [
        "x @ y"
      ],
      "metadata": {
        "colab": {
          "base_uri": "https://localhost:8080/",
          "height": 311
        },
        "id": "qWbx8R4fXjcL",
        "outputId": "0fab7849-da49-4004-8649-2255334f1b88"
      },
      "execution_count": 85,
      "outputs": [
        {
          "output_type": "error",
          "ename": "InvalidArgumentError",
          "evalue": "ignored",
          "traceback": [
            "\u001b[0;31m---------------------------------------------------------------------------\u001b[0m",
            "\u001b[0;31mInvalidArgumentError\u001b[0m                      Traceback (most recent call last)",
            "\u001b[0;32m<ipython-input-85-e6c6f87ceb97>\u001b[0m in \u001b[0;36m<module>\u001b[0;34m\u001b[0m\n\u001b[0;32m----> 1\u001b[0;31m \u001b[0mx\u001b[0m \u001b[0;34m@\u001b[0m \u001b[0my\u001b[0m\u001b[0;34m\u001b[0m\u001b[0;34m\u001b[0m\u001b[0m\n\u001b[0m",
            "\u001b[0;32m/usr/local/lib/python3.7/dist-packages/tensorflow/python/util/traceback_utils.py\u001b[0m in \u001b[0;36merror_handler\u001b[0;34m(*args, **kwargs)\u001b[0m\n\u001b[1;32m    151\u001b[0m     \u001b[0;32mexcept\u001b[0m \u001b[0mException\u001b[0m \u001b[0;32mas\u001b[0m \u001b[0me\u001b[0m\u001b[0;34m:\u001b[0m\u001b[0;34m\u001b[0m\u001b[0;34m\u001b[0m\u001b[0m\n\u001b[1;32m    152\u001b[0m       \u001b[0mfiltered_tb\u001b[0m \u001b[0;34m=\u001b[0m \u001b[0m_process_traceback_frames\u001b[0m\u001b[0;34m(\u001b[0m\u001b[0me\u001b[0m\u001b[0;34m.\u001b[0m\u001b[0m__traceback__\u001b[0m\u001b[0;34m)\u001b[0m\u001b[0;34m\u001b[0m\u001b[0;34m\u001b[0m\u001b[0m\n\u001b[0;32m--> 153\u001b[0;31m       \u001b[0;32mraise\u001b[0m \u001b[0me\u001b[0m\u001b[0;34m.\u001b[0m\u001b[0mwith_traceback\u001b[0m\u001b[0;34m(\u001b[0m\u001b[0mfiltered_tb\u001b[0m\u001b[0;34m)\u001b[0m \u001b[0;32mfrom\u001b[0m \u001b[0;32mNone\u001b[0m\u001b[0;34m\u001b[0m\u001b[0;34m\u001b[0m\u001b[0m\n\u001b[0m\u001b[1;32m    154\u001b[0m     \u001b[0;32mfinally\u001b[0m\u001b[0;34m:\u001b[0m\u001b[0;34m\u001b[0m\u001b[0;34m\u001b[0m\u001b[0m\n\u001b[1;32m    155\u001b[0m       \u001b[0;32mdel\u001b[0m \u001b[0mfiltered_tb\u001b[0m\u001b[0;34m\u001b[0m\u001b[0;34m\u001b[0m\u001b[0m\n",
            "\u001b[0;32m/usr/local/lib/python3.7/dist-packages/tensorflow/python/framework/ops.py\u001b[0m in \u001b[0;36mraise_from_not_ok_status\u001b[0;34m(e, name)\u001b[0m\n\u001b[1;32m   7184\u001b[0m \u001b[0;32mdef\u001b[0m \u001b[0mraise_from_not_ok_status\u001b[0m\u001b[0;34m(\u001b[0m\u001b[0me\u001b[0m\u001b[0;34m,\u001b[0m \u001b[0mname\u001b[0m\u001b[0;34m)\u001b[0m\u001b[0;34m:\u001b[0m\u001b[0;34m\u001b[0m\u001b[0;34m\u001b[0m\u001b[0m\n\u001b[1;32m   7185\u001b[0m   \u001b[0me\u001b[0m\u001b[0;34m.\u001b[0m\u001b[0mmessage\u001b[0m \u001b[0;34m+=\u001b[0m \u001b[0;34m(\u001b[0m\u001b[0;34m\" name: \"\u001b[0m \u001b[0;34m+\u001b[0m \u001b[0mname\u001b[0m \u001b[0;32mif\u001b[0m \u001b[0mname\u001b[0m \u001b[0;32mis\u001b[0m \u001b[0;32mnot\u001b[0m \u001b[0;32mNone\u001b[0m \u001b[0;32melse\u001b[0m \u001b[0;34m\"\"\u001b[0m\u001b[0;34m)\u001b[0m\u001b[0;34m\u001b[0m\u001b[0;34m\u001b[0m\u001b[0m\n\u001b[0;32m-> 7186\u001b[0;31m   \u001b[0;32mraise\u001b[0m \u001b[0mcore\u001b[0m\u001b[0;34m.\u001b[0m\u001b[0m_status_to_exception\u001b[0m\u001b[0;34m(\u001b[0m\u001b[0me\u001b[0m\u001b[0;34m)\u001b[0m \u001b[0;32mfrom\u001b[0m \u001b[0;32mNone\u001b[0m  \u001b[0;31m# pylint: disable=protected-access\u001b[0m\u001b[0;34m\u001b[0m\u001b[0;34m\u001b[0m\u001b[0m\n\u001b[0m\u001b[1;32m   7187\u001b[0m \u001b[0;34m\u001b[0m\u001b[0m\n\u001b[1;32m   7188\u001b[0m \u001b[0;34m\u001b[0m\u001b[0m\n",
            "\u001b[0;31mInvalidArgumentError\u001b[0m: Matrix size-incompatible: In[0]: [2,3], In[1]: [2,2] [Op:MatMul]"
          ]
        }
      ]
    },
    {
      "cell_type": "markdown",
      "source": [
        "**There are two rules, the tensors need to satisfy to do a matrix multiplication:**\n",
        "\n",
        "\n",
        "1.   The inner dimension of the matrix should match\n",
        "2.   The resulting matrix will have the shape of the inner dimensions.\n",
        "\n"
      ],
      "metadata": {
        "id": "nCSvpFggYabU"
      }
    },
    {
      "cell_type": "code",
      "source": [
        "y @ x"
      ],
      "metadata": {
        "colab": {
          "base_uri": "https://localhost:8080/"
        },
        "id": "uhjFqOLmXnFw",
        "outputId": "31f9a82c-3b8f-4218-841c-1a9eb4fa47ad"
      },
      "execution_count": 86,
      "outputs": [
        {
          "output_type": "execute_result",
          "data": {
            "text/plain": [
              "<tf.Tensor: shape=(2, 3), dtype=int32, numpy=\n",
              "array([[ 9, 12, 15],\n",
              "       [14, 19, 24]], dtype=int32)>"
            ]
          },
          "metadata": {},
          "execution_count": 86
        }
      ]
    },
    {
      "cell_type": "code",
      "source": [
        "x"
      ],
      "metadata": {
        "colab": {
          "base_uri": "https://localhost:8080/"
        },
        "id": "s0aNpneLZf1H",
        "outputId": "3defe450-5f52-4527-d452-47864d058601"
      },
      "execution_count": 87,
      "outputs": [
        {
          "output_type": "execute_result",
          "data": {
            "text/plain": [
              "<tf.Tensor: shape=(2, 3), dtype=int32, numpy=\n",
              "array([[1, 2, 3],\n",
              "       [4, 5, 6]], dtype=int32)>"
            ]
          },
          "metadata": {},
          "execution_count": 87
        }
      ]
    },
    {
      "cell_type": "markdown",
      "source": [
        "###Transpose"
      ],
      "metadata": {
        "id": "c-1EmojDcRbU"
      }
    },
    {
      "cell_type": "code",
      "source": [
        "#transposing a matrix\n",
        "\n",
        "tf.transpose(x)"
      ],
      "metadata": {
        "colab": {
          "base_uri": "https://localhost:8080/"
        },
        "id": "Uj_2-SRJX1vH",
        "outputId": "4c56c0ae-afa6-4816-e126-0550b2357cf3"
      },
      "execution_count": 88,
      "outputs": [
        {
          "output_type": "execute_result",
          "data": {
            "text/plain": [
              "<tf.Tensor: shape=(3, 2), dtype=int32, numpy=\n",
              "array([[1, 4],\n",
              "       [2, 5],\n",
              "       [3, 6]], dtype=int32)>"
            ]
          },
          "metadata": {},
          "execution_count": 88
        }
      ]
    },
    {
      "cell_type": "code",
      "source": [
        "#viewing the difference of transposing a matrix from reshaping it\n",
        "\n",
        "tf.reshape(x, shape=(3,2))"
      ],
      "metadata": {
        "colab": {
          "base_uri": "https://localhost:8080/"
        },
        "id": "4R8NDZd3ZeJi",
        "outputId": "41154e4b-c98d-4688-e667-32253048fe2c"
      },
      "execution_count": 89,
      "outputs": [
        {
          "output_type": "execute_result",
          "data": {
            "text/plain": [
              "<tf.Tensor: shape=(3, 2), dtype=int32, numpy=\n",
              "array([[1, 2],\n",
              "       [3, 4],\n",
              "       [5, 6]], dtype=int32)>"
            ]
          },
          "metadata": {},
          "execution_count": 89
        }
      ]
    },
    {
      "cell_type": "code",
      "source": [
        "x"
      ],
      "metadata": {
        "colab": {
          "base_uri": "https://localhost:8080/"
        },
        "id": "D9fy3rG-aFZX",
        "outputId": "9e43ed51-d18f-47a5-f1ab-58342a2082ca"
      },
      "execution_count": 90,
      "outputs": [
        {
          "output_type": "execute_result",
          "data": {
            "text/plain": [
              "<tf.Tensor: shape=(2, 3), dtype=int32, numpy=\n",
              "array([[1, 2, 3],\n",
              "       [4, 5, 6]], dtype=int32)>"
            ]
          },
          "metadata": {},
          "execution_count": 90
        }
      ]
    },
    {
      "cell_type": "code",
      "source": [
        "y"
      ],
      "metadata": {
        "colab": {
          "base_uri": "https://localhost:8080/"
        },
        "id": "O9darWQhaRHo",
        "outputId": "563bba15-7bf1-48cb-c726-f7892326dc2f"
      },
      "execution_count": 91,
      "outputs": [
        {
          "output_type": "execute_result",
          "data": {
            "text/plain": [
              "<tf.Tensor: shape=(2, 2), dtype=int32, numpy=\n",
              "array([[1, 2],\n",
              "       [2, 3]], dtype=int32)>"
            ]
          },
          "metadata": {},
          "execution_count": 91
        }
      ]
    },
    {
      "cell_type": "code",
      "source": [
        "#doing matrix multiplication with transpose rather than reshape\n",
        "\n",
        "tf.transpose(x) @ y"
      ],
      "metadata": {
        "colab": {
          "base_uri": "https://localhost:8080/"
        },
        "id": "O5-cr6P3Zmki",
        "outputId": "93cbfb7f-f6a7-4641-d9c9-3dca03d75e27"
      },
      "execution_count": 92,
      "outputs": [
        {
          "output_type": "execute_result",
          "data": {
            "text/plain": [
              "<tf.Tensor: shape=(3, 2), dtype=int32, numpy=\n",
              "array([[ 9, 14],\n",
              "       [12, 19],\n",
              "       [15, 24]], dtype=int32)>"
            ]
          },
          "metadata": {},
          "execution_count": 92
        }
      ]
    },
    {
      "cell_type": "code",
      "source": [
        "x"
      ],
      "metadata": {
        "colab": {
          "base_uri": "https://localhost:8080/"
        },
        "id": "DIsrAMZ-c2VC",
        "outputId": "149ac71d-5943-489a-8820-1903646c3df5"
      },
      "execution_count": 93,
      "outputs": [
        {
          "output_type": "execute_result",
          "data": {
            "text/plain": [
              "<tf.Tensor: shape=(2, 3), dtype=int32, numpy=\n",
              "array([[1, 2, 3],\n",
              "       [4, 5, 6]], dtype=int32)>"
            ]
          },
          "metadata": {},
          "execution_count": 93
        }
      ]
    },
    {
      "cell_type": "code",
      "source": [
        "x = tf.transpose(x)\n",
        "x"
      ],
      "metadata": {
        "colab": {
          "base_uri": "https://localhost:8080/"
        },
        "id": "H-TzG9AZcaEZ",
        "outputId": "c09e182f-7ef6-4948-aaa3-1a02767de881"
      },
      "execution_count": 94,
      "outputs": [
        {
          "output_type": "execute_result",
          "data": {
            "text/plain": [
              "<tf.Tensor: shape=(3, 2), dtype=int32, numpy=\n",
              "array([[1, 4],\n",
              "       [2, 5],\n",
              "       [3, 6]], dtype=int32)>"
            ]
          },
          "metadata": {},
          "execution_count": 94
        }
      ]
    },
    {
      "cell_type": "code",
      "source": [
        "y"
      ],
      "metadata": {
        "colab": {
          "base_uri": "https://localhost:8080/"
        },
        "id": "j8EYvNVHdTFA",
        "outputId": "0b9befed-06f9-49ac-dc4e-aa4447a0d8cf"
      },
      "execution_count": 95,
      "outputs": [
        {
          "output_type": "execute_result",
          "data": {
            "text/plain": [
              "<tf.Tensor: shape=(2, 2), dtype=int32, numpy=\n",
              "array([[1, 2],\n",
              "       [2, 3]], dtype=int32)>"
            ]
          },
          "metadata": {},
          "execution_count": 95
        }
      ]
    },
    {
      "cell_type": "markdown",
      "source": [
        "###Dot product"
      ],
      "metadata": {
        "id": "zNUdzgZmcX54"
      }
    },
    {
      "cell_type": "markdown",
      "source": [
        "**Dot Product:**\n",
        " It is also known as matrix multiplication.\n",
        " It is done by using:\n",
        "\n",
        "\n",
        "1.   tf.matmul()\n",
        "2.   @\n",
        "3.   tf.tensordot()\n",
        "\n"
      ],
      "metadata": {
        "id": "hwTJZpS_auCw"
      }
    },
    {
      "cell_type": "code",
      "source": [
        "z = tf.tensordot(x, y, axes=1)\n",
        "z"
      ],
      "metadata": {
        "colab": {
          "base_uri": "https://localhost:8080/"
        },
        "id": "TgkL53ZsaHhc",
        "outputId": "ab8076e0-5cef-4e31-fba8-9192087f9aae"
      },
      "execution_count": 96,
      "outputs": [
        {
          "output_type": "execute_result",
          "data": {
            "text/plain": [
              "<tf.Tensor: shape=(3, 2), dtype=int32, numpy=\n",
              "array([[ 9, 14],\n",
              "       [12, 19],\n",
              "       [15, 24]], dtype=int32)>"
            ]
          },
          "metadata": {},
          "execution_count": 96
        }
      ]
    },
    {
      "cell_type": "code",
      "source": [
        "z.ndim"
      ],
      "metadata": {
        "colab": {
          "base_uri": "https://localhost:8080/"
        },
        "id": "K5TGCGgLfa4l",
        "outputId": "995badb4-b276-4fbb-8a6b-087840df5873"
      },
      "execution_count": 97,
      "outputs": [
        {
          "output_type": "execute_result",
          "data": {
            "text/plain": [
              "2"
            ]
          },
          "metadata": {},
          "execution_count": 97
        }
      ]
    },
    {
      "cell_type": "code",
      "source": [
        "p = tf.tensordot(x, y, axes=0)\n",
        "p"
      ],
      "metadata": {
        "colab": {
          "base_uri": "https://localhost:8080/"
        },
        "id": "KZvyPmQRdHaq",
        "outputId": "8a4bbe08-4b77-433f-d202-67f34e637af0"
      },
      "execution_count": 98,
      "outputs": [
        {
          "output_type": "execute_result",
          "data": {
            "text/plain": [
              "<tf.Tensor: shape=(3, 2, 2, 2), dtype=int32, numpy=\n",
              "array([[[[ 1,  2],\n",
              "         [ 2,  3]],\n",
              "\n",
              "        [[ 4,  8],\n",
              "         [ 8, 12]]],\n",
              "\n",
              "\n",
              "       [[[ 2,  4],\n",
              "         [ 4,  6]],\n",
              "\n",
              "        [[ 5, 10],\n",
              "         [10, 15]]],\n",
              "\n",
              "\n",
              "       [[[ 3,  6],\n",
              "         [ 6,  9]],\n",
              "\n",
              "        [[ 6, 12],\n",
              "         [12, 18]]]], dtype=int32)>"
            ]
          },
          "metadata": {},
          "execution_count": 98
        }
      ]
    },
    {
      "cell_type": "code",
      "source": [
        "p.ndim"
      ],
      "metadata": {
        "colab": {
          "base_uri": "https://localhost:8080/"
        },
        "id": "t_8ENQHUebH9",
        "outputId": "025b2468-987e-4da5-b595-6875bd6935d7"
      },
      "execution_count": 99,
      "outputs": [
        {
          "output_type": "execute_result",
          "data": {
            "text/plain": [
              "4"
            ]
          },
          "metadata": {},
          "execution_count": 99
        }
      ]
    },
    {
      "cell_type": "code",
      "source": [
        "#displaying the normal, transpose and reshaped matrices of x\n",
        "\n",
        "print(\"Normal 'x' matrix: \\n\", x)\n",
        "print(\"Transpose of 'x' matrix: \\n\", tf.transpose(x))\n",
        "print(\"Reshaped 'x' matrix: \\n\", tf.reshape(x, shape=(2,3)))"
      ],
      "metadata": {
        "colab": {
          "base_uri": "https://localhost:8080/"
        },
        "id": "pRRzjzILffru",
        "outputId": "8315963b-7787-4c24-c93a-a3e12d3d5c58"
      },
      "execution_count": 100,
      "outputs": [
        {
          "output_type": "stream",
          "name": "stdout",
          "text": [
            "Normal 'x' matrix: \n",
            " tf.Tensor(\n",
            "[[1 4]\n",
            " [2 5]\n",
            " [3 6]], shape=(3, 2), dtype=int32)\n",
            "Transpose of 'x' matrix: \n",
            " tf.Tensor(\n",
            "[[1 2 3]\n",
            " [4 5 6]], shape=(2, 3), dtype=int32)\n",
            "Reshaped 'x' matrix: \n",
            " tf.Tensor(\n",
            "[[1 4 2]\n",
            " [5 3 6]], shape=(2, 3), dtype=int32)\n"
          ]
        }
      ]
    },
    {
      "cell_type": "code",
      "source": [
        "tf.reshape(x, shape=(2,3))"
      ],
      "metadata": {
        "colab": {
          "base_uri": "https://localhost:8080/"
        },
        "id": "roEyBYGrgba2",
        "outputId": "ce67bc39-e2a5-4ff2-eb11-fc36ceec8525"
      },
      "execution_count": 101,
      "outputs": [
        {
          "output_type": "execute_result",
          "data": {
            "text/plain": [
              "<tf.Tensor: shape=(2, 3), dtype=int32, numpy=\n",
              "array([[1, 4, 2],\n",
              "       [5, 3, 6]], dtype=int32)>"
            ]
          },
          "metadata": {},
          "execution_count": 101
        }
      ]
    },
    {
      "cell_type": "code",
      "source": [
        "tf.reshape(x, shape=(2,3))"
      ],
      "metadata": {
        "colab": {
          "base_uri": "https://localhost:8080/"
        },
        "id": "shSFfTwnhKKi",
        "outputId": "6c4794dc-52ca-4c02-d60a-ff91c8df6c23"
      },
      "execution_count": 102,
      "outputs": [
        {
          "output_type": "execute_result",
          "data": {
            "text/plain": [
              "<tf.Tensor: shape=(2, 3), dtype=int32, numpy=\n",
              "array([[1, 4, 2],\n",
              "       [5, 3, 6]], dtype=int32)>"
            ]
          },
          "metadata": {},
          "execution_count": 102
        }
      ]
    },
    {
      "cell_type": "markdown",
      "source": [
        "##Aggregating tensor"
      ],
      "metadata": {
        "id": "xLvKDhL0cfFV"
      }
    },
    {
      "cell_type": "markdown",
      "source": [
        "**Aggregating tensor:**\n",
        " Condensing them from multiple values down to a smaller amount of values."
      ],
      "metadata": {
        "id": "si31SNmOiBFX"
      }
    },
    {
      "cell_type": "code",
      "source": [
        "abs_val = tf.constant([-1, -2, 3])\n",
        "abs_val"
      ],
      "metadata": {
        "colab": {
          "base_uri": "https://localhost:8080/"
        },
        "id": "dRFVXnz3hN0S",
        "outputId": "5baa3b58-bbed-4ce5-ac7a-2793fe77d3f8"
      },
      "execution_count": 103,
      "outputs": [
        {
          "output_type": "execute_result",
          "data": {
            "text/plain": [
              "<tf.Tensor: shape=(3,), dtype=int32, numpy=array([-1, -2,  3], dtype=int32)>"
            ]
          },
          "metadata": {},
          "execution_count": 103
        }
      ]
    },
    {
      "cell_type": "markdown",
      "source": [
        "###Absolute value"
      ],
      "metadata": {
        "id": "hTOMr3ahcr-G"
      }
    },
    {
      "cell_type": "code",
      "source": [
        "#getting the absolute values of abs_val: converting negative numbers into positive: mod\n",
        "\n",
        "tf.abs(abs_val)"
      ],
      "metadata": {
        "colab": {
          "base_uri": "https://localhost:8080/"
        },
        "id": "MFWY2cW7jJH7",
        "outputId": "9f3be37c-6480-4476-806b-3a550096e5fc"
      },
      "execution_count": 104,
      "outputs": [
        {
          "output_type": "execute_result",
          "data": {
            "text/plain": [
              "<tf.Tensor: shape=(3,), dtype=int32, numpy=array([1, 2, 3], dtype=int32)>"
            ]
          },
          "metadata": {},
          "execution_count": 104
        }
      ]
    },
    {
      "cell_type": "code",
      "source": [
        "tensor"
      ],
      "metadata": {
        "colab": {
          "base_uri": "https://localhost:8080/"
        },
        "id": "MTMRyuH7jxY7",
        "outputId": "5ec5bcfa-6242-4d70-803b-61f4ec0ba97c"
      },
      "execution_count": 105,
      "outputs": [
        {
          "output_type": "execute_result",
          "data": {
            "text/plain": [
              "<tf.Tensor: shape=(2, 2), dtype=int32, numpy=\n",
              "array([[1, 2],\n",
              "       [3, 4]], dtype=int32)>"
            ]
          },
          "metadata": {},
          "execution_count": 105
        }
      ]
    },
    {
      "cell_type": "markdown",
      "source": [
        "###Maximum"
      ],
      "metadata": {
        "id": "00T5fUHMcxQ3"
      }
    },
    {
      "cell_type": "code",
      "source": [
        "#getting the maximum \n",
        "\n",
        "tf.reduce_max(tensor)"
      ],
      "metadata": {
        "colab": {
          "base_uri": "https://localhost:8080/"
        },
        "id": "ed7srPjXjWya",
        "outputId": "26a80dac-2923-436e-ed09-97bbd332c73c"
      },
      "execution_count": 106,
      "outputs": [
        {
          "output_type": "execute_result",
          "data": {
            "text/plain": [
              "<tf.Tensor: shape=(), dtype=int32, numpy=4>"
            ]
          },
          "metadata": {},
          "execution_count": 106
        }
      ]
    },
    {
      "cell_type": "code",
      "source": [
        "tf.reduce_max(tensor).numpy()"
      ],
      "metadata": {
        "colab": {
          "base_uri": "https://localhost:8080/"
        },
        "id": "rZaSETuij57h",
        "outputId": "c14e37cb-af59-4c5e-980f-666be7b37743"
      },
      "execution_count": 107,
      "outputs": [
        {
          "output_type": "execute_result",
          "data": {
            "text/plain": [
              "4"
            ]
          },
          "metadata": {},
          "execution_count": 107
        }
      ]
    },
    {
      "cell_type": "markdown",
      "source": [
        "###Minimum"
      ],
      "metadata": {
        "id": "Me736U8Yc0P0"
      }
    },
    {
      "cell_type": "code",
      "source": [
        "#getting the minimum\n",
        "\n",
        "tf.reduce_min(tensor).numpy()"
      ],
      "metadata": {
        "colab": {
          "base_uri": "https://localhost:8080/"
        },
        "id": "hNAFhrrHkG5D",
        "outputId": "72c04260-8b7f-4646-9a86-9cbbd60c6ed9"
      },
      "execution_count": 108,
      "outputs": [
        {
          "output_type": "execute_result",
          "data": {
            "text/plain": [
              "1"
            ]
          },
          "metadata": {},
          "execution_count": 108
        }
      ]
    },
    {
      "cell_type": "markdown",
      "source": [
        "###Sum"
      ],
      "metadata": {
        "id": "bauc86ySc7BA"
      }
    },
    {
      "cell_type": "code",
      "source": [
        "#getting the sum\n",
        "\n",
        "tf.reduce_sum(tensor).numpy()"
      ],
      "metadata": {
        "colab": {
          "base_uri": "https://localhost:8080/"
        },
        "id": "h2vf0Rd4kQa0",
        "outputId": "c60dd20a-7191-416a-f6e4-7af6a91ce179"
      },
      "execution_count": 109,
      "outputs": [
        {
          "output_type": "execute_result",
          "data": {
            "text/plain": [
              "10"
            ]
          },
          "metadata": {},
          "execution_count": 109
        }
      ]
    },
    {
      "cell_type": "markdown",
      "source": [
        "###Mean"
      ],
      "metadata": {
        "id": "oxQltxGkc-jn"
      }
    },
    {
      "cell_type": "code",
      "source": [
        "#getting the mean\n",
        "\n",
        "tf.reduce_mean(tensor).numpy()"
      ],
      "metadata": {
        "colab": {
          "base_uri": "https://localhost:8080/"
        },
        "id": "IlbqoafjkU9b",
        "outputId": "c131a0b7-91af-48e7-ea38-ee2e689d5f63"
      },
      "execution_count": 110,
      "outputs": [
        {
          "output_type": "execute_result",
          "data": {
            "text/plain": [
              "2"
            ]
          },
          "metadata": {},
          "execution_count": 110
        }
      ]
    },
    {
      "cell_type": "markdown",
      "source": [
        "###Variance"
      ],
      "metadata": {
        "id": "gB7l5_xDdA2l"
      }
    },
    {
      "cell_type": "code",
      "source": [
        "#getting the variance of our tensor\n",
        "# to get the variance, the tensor should be of real or complex type.\n",
        "\n",
        "\n",
        "import tensorflow_probability as tfp\n",
        "\n",
        "tfp.stats.variance(abs_val).numpy()"
      ],
      "metadata": {
        "colab": {
          "base_uri": "https://localhost:8080/"
        },
        "id": "Kc495AOpkXmi",
        "outputId": "787f8c65-a4e4-46c4-e0cd-25eedb2e8e27"
      },
      "execution_count": 111,
      "outputs": [
        {
          "output_type": "execute_result",
          "data": {
            "text/plain": [
              "4"
            ]
          },
          "metadata": {},
          "execution_count": 111
        }
      ]
    },
    {
      "cell_type": "code",
      "source": [
        "#getting the variance after converting the tensor to real or complex type, float\n",
        "\n",
        "tf.math.reduce_variance(tf.cast(tensor, dtype = tf.float32))"
      ],
      "metadata": {
        "colab": {
          "base_uri": "https://localhost:8080/"
        },
        "id": "fXMSYi0flnBg",
        "outputId": "dcaece45-b72f-4ce4-b062-0a639649d287"
      },
      "execution_count": 112,
      "outputs": [
        {
          "output_type": "execute_result",
          "data": {
            "text/plain": [
              "<tf.Tensor: shape=(), dtype=float32, numpy=1.25>"
            ]
          },
          "metadata": {},
          "execution_count": 112
        }
      ]
    },
    {
      "cell_type": "markdown",
      "source": [
        "###Standard deviation"
      ],
      "metadata": {
        "id": "RWRb2u6ldEKw"
      }
    },
    {
      "cell_type": "code",
      "source": [
        "#getting the standard deviation\n",
        "\n",
        "tf.math.reduce_std(tf.cast(tensor, dtype= tf.float32)).numpy()"
      ],
      "metadata": {
        "colab": {
          "base_uri": "https://localhost:8080/"
        },
        "id": "9ii2e-bJkii4",
        "outputId": "3748f169-ef5f-4498-fd06-feacd2fc7da2"
      },
      "execution_count": 113,
      "outputs": [
        {
          "output_type": "execute_result",
          "data": {
            "text/plain": [
              "1.1180339"
            ]
          },
          "metadata": {},
          "execution_count": 113
        }
      ]
    },
    {
      "cell_type": "markdown",
      "source": [
        "##Finding position of max and min"
      ],
      "metadata": {
        "id": "Mq4ojWWKdLOB"
      }
    },
    {
      "cell_type": "markdown",
      "source": [
        "**Finding the positional maximum and minimum of a tensor:**\n"
      ],
      "metadata": {
        "id": "eQ0OrOzBocBj"
      }
    },
    {
      "cell_type": "code",
      "source": [
        "#creating a random tensor\n",
        "\n",
        "tf.random.set_seed(42)\n",
        "random_t = tf.random.uniform(shape=[50])\n",
        "random_t"
      ],
      "metadata": {
        "colab": {
          "base_uri": "https://localhost:8080/"
        },
        "id": "zvB8UXaKlXu1",
        "outputId": "bb2f4247-0878-4526-c640-6b0a7952fb52"
      },
      "execution_count": 114,
      "outputs": [
        {
          "output_type": "execute_result",
          "data": {
            "text/plain": [
              "<tf.Tensor: shape=(50,), dtype=float32, numpy=\n",
              "array([0.6645621 , 0.44100678, 0.3528825 , 0.46448255, 0.03366041,\n",
              "       0.68467236, 0.74011743, 0.8724445 , 0.22632635, 0.22319686,\n",
              "       0.3103881 , 0.7223358 , 0.13318717, 0.5480639 , 0.5746088 ,\n",
              "       0.8996835 , 0.00946367, 0.5212307 , 0.6345445 , 0.1993283 ,\n",
              "       0.72942245, 0.54583454, 0.10756552, 0.6767061 , 0.6602763 ,\n",
              "       0.33695042, 0.60141766, 0.21062577, 0.8527372 , 0.44062173,\n",
              "       0.9485276 , 0.23752594, 0.81179297, 0.5263394 , 0.494308  ,\n",
              "       0.21612847, 0.8457197 , 0.8718841 , 0.3083862 , 0.6868038 ,\n",
              "       0.23764038, 0.7817228 , 0.9671384 , 0.06870162, 0.79873943,\n",
              "       0.66028714, 0.5871513 , 0.16461694, 0.7381023 , 0.32054043],\n",
              "      dtype=float32)>"
            ]
          },
          "metadata": {},
          "execution_count": 114
        }
      ]
    },
    {
      "cell_type": "code",
      "source": [
        "#Finding the position of maximum element in a tensor\n",
        "\n",
        "tf.argmax(random_t).numpy()"
      ],
      "metadata": {
        "colab": {
          "base_uri": "https://localhost:8080/"
        },
        "id": "CvFLFAIbpiDm",
        "outputId": "dd2b5c01-913c-4fe5-f554-11dced3ca601"
      },
      "execution_count": 115,
      "outputs": [
        {
          "output_type": "execute_result",
          "data": {
            "text/plain": [
              "42"
            ]
          },
          "metadata": {},
          "execution_count": 115
        }
      ]
    },
    {
      "cell_type": "code",
      "source": [
        "random_t[42]      "
      ],
      "metadata": {
        "colab": {
          "base_uri": "https://localhost:8080/"
        },
        "id": "XbvTUbRsp7-w",
        "outputId": "1c91a842-ca00-4345-c83b-4d6f79a0a90e"
      },
      "execution_count": 116,
      "outputs": [
        {
          "output_type": "execute_result",
          "data": {
            "text/plain": [
              "<tf.Tensor: shape=(), dtype=float32, numpy=0.9671384>"
            ]
          },
          "metadata": {},
          "execution_count": 116
        }
      ]
    },
    {
      "cell_type": "code",
      "source": [
        "#we can get the value from the position of maximum element by:\n",
        "random_t[tf.argmax(random_t)].numpy()\n"
      ],
      "metadata": {
        "colab": {
          "base_uri": "https://localhost:8080/"
        },
        "id": "AWKUxcHOqH0P",
        "outputId": "46c15f39-e1f0-40ec-c9b9-3ee39ee9be81"
      },
      "execution_count": 117,
      "outputs": [
        {
          "output_type": "execute_result",
          "data": {
            "text/plain": [
              "0.9671384"
            ]
          },
          "metadata": {},
          "execution_count": 117
        }
      ]
    },
    {
      "cell_type": "code",
      "source": [
        "tf.reduce_max(random_t).numpy()"
      ],
      "metadata": {
        "colab": {
          "base_uri": "https://localhost:8080/"
        },
        "id": "jnHQT57vqj-o",
        "outputId": "3c1ab436-44a7-4a29-dc6b-dc7268354193"
      },
      "execution_count": 118,
      "outputs": [
        {
          "output_type": "execute_result",
          "data": {
            "text/plain": [
              "0.9671384"
            ]
          },
          "metadata": {},
          "execution_count": 118
        }
      ]
    },
    {
      "cell_type": "code",
      "source": [
        "#Finding the position of minimum element in a tensor\n",
        "\n",
        "tf.argmin(random_t)"
      ],
      "metadata": {
        "colab": {
          "base_uri": "https://localhost:8080/"
        },
        "id": "TbBtx_v2qx_w",
        "outputId": "11902da6-d909-4586-a43f-d4c0b35941f5"
      },
      "execution_count": 119,
      "outputs": [
        {
          "output_type": "execute_result",
          "data": {
            "text/plain": [
              "<tf.Tensor: shape=(), dtype=int64, numpy=16>"
            ]
          },
          "metadata": {},
          "execution_count": 119
        }
      ]
    },
    {
      "cell_type": "code",
      "source": [
        "#getting the value from the minimum position\n",
        "\n",
        "random_t[tf.argmin(random_t)]"
      ],
      "metadata": {
        "colab": {
          "base_uri": "https://localhost:8080/"
        },
        "id": "Ezrk4j2LrNvw",
        "outputId": "c6b63419-6095-4a7f-9e4f-afd7fce7be9d"
      },
      "execution_count": 120,
      "outputs": [
        {
          "output_type": "execute_result",
          "data": {
            "text/plain": [
              "<tf.Tensor: shape=(), dtype=float32, numpy=0.009463668>"
            ]
          },
          "metadata": {},
          "execution_count": 120
        }
      ]
    },
    {
      "cell_type": "markdown",
      "source": [
        "##Squeezing"
      ],
      "metadata": {
        "id": "Ba_WSrgYdWvq"
      }
    },
    {
      "cell_type": "markdown",
      "source": [
        "**Squeezing a tensor:**\n",
        " Removing all single dimensions."
      ],
      "metadata": {
        "id": "8j5kgPqj0H8O"
      }
    },
    {
      "cell_type": "code",
      "source": [
        "rt = tf.reshape(random_t, shape=(1,1,1,1, 50))\n",
        "rt"
      ],
      "metadata": {
        "colab": {
          "base_uri": "https://localhost:8080/"
        },
        "id": "MrU99ie8rVgP",
        "outputId": "bb0b89d1-8b3e-40c1-b5e9-210e28a029f5"
      },
      "execution_count": 121,
      "outputs": [
        {
          "output_type": "execute_result",
          "data": {
            "text/plain": [
              "<tf.Tensor: shape=(1, 1, 1, 1, 50), dtype=float32, numpy=\n",
              "array([[[[[0.6645621 , 0.44100678, 0.3528825 , 0.46448255, 0.03366041,\n",
              "           0.68467236, 0.74011743, 0.8724445 , 0.22632635, 0.22319686,\n",
              "           0.3103881 , 0.7223358 , 0.13318717, 0.5480639 , 0.5746088 ,\n",
              "           0.8996835 , 0.00946367, 0.5212307 , 0.6345445 , 0.1993283 ,\n",
              "           0.72942245, 0.54583454, 0.10756552, 0.6767061 , 0.6602763 ,\n",
              "           0.33695042, 0.60141766, 0.21062577, 0.8527372 , 0.44062173,\n",
              "           0.9485276 , 0.23752594, 0.81179297, 0.5263394 , 0.494308  ,\n",
              "           0.21612847, 0.8457197 , 0.8718841 , 0.3083862 , 0.6868038 ,\n",
              "           0.23764038, 0.7817228 , 0.9671384 , 0.06870162, 0.79873943,\n",
              "           0.66028714, 0.5871513 , 0.16461694, 0.7381023 , 0.32054043]]]]],\n",
              "      dtype=float32)>"
            ]
          },
          "metadata": {},
          "execution_count": 121
        }
      ]
    },
    {
      "cell_type": "code",
      "source": [
        "rt.shape"
      ],
      "metadata": {
        "colab": {
          "base_uri": "https://localhost:8080/"
        },
        "id": "qZTwVafd2gNR",
        "outputId": "81da2eef-90ab-4034-bdd2-4bfd30d9665a"
      },
      "execution_count": 122,
      "outputs": [
        {
          "output_type": "execute_result",
          "data": {
            "text/plain": [
              "TensorShape([1, 1, 1, 1, 50])"
            ]
          },
          "metadata": {},
          "execution_count": 122
        }
      ]
    },
    {
      "cell_type": "code",
      "source": [
        "#removing dimensions of size 1 from the shape of a tensor\n",
        "\n",
        "rt_squeezed = tf.squeeze(rt)\n",
        "rt_squeezed"
      ],
      "metadata": {
        "colab": {
          "base_uri": "https://localhost:8080/"
        },
        "id": "SJs7CI0h0u6m",
        "outputId": "1804c85f-8132-44e6-8c6b-3ec40303bfcd"
      },
      "execution_count": 123,
      "outputs": [
        {
          "output_type": "execute_result",
          "data": {
            "text/plain": [
              "<tf.Tensor: shape=(50,), dtype=float32, numpy=\n",
              "array([0.6645621 , 0.44100678, 0.3528825 , 0.46448255, 0.03366041,\n",
              "       0.68467236, 0.74011743, 0.8724445 , 0.22632635, 0.22319686,\n",
              "       0.3103881 , 0.7223358 , 0.13318717, 0.5480639 , 0.5746088 ,\n",
              "       0.8996835 , 0.00946367, 0.5212307 , 0.6345445 , 0.1993283 ,\n",
              "       0.72942245, 0.54583454, 0.10756552, 0.6767061 , 0.6602763 ,\n",
              "       0.33695042, 0.60141766, 0.21062577, 0.8527372 , 0.44062173,\n",
              "       0.9485276 , 0.23752594, 0.81179297, 0.5263394 , 0.494308  ,\n",
              "       0.21612847, 0.8457197 , 0.8718841 , 0.3083862 , 0.6868038 ,\n",
              "       0.23764038, 0.7817228 , 0.9671384 , 0.06870162, 0.79873943,\n",
              "       0.66028714, 0.5871513 , 0.16461694, 0.7381023 , 0.32054043],\n",
              "      dtype=float32)>"
            ]
          },
          "metadata": {},
          "execution_count": 123
        }
      ]
    },
    {
      "cell_type": "code",
      "source": [
        "rt_squeezed.shape\n"
      ],
      "metadata": {
        "colab": {
          "base_uri": "https://localhost:8080/"
        },
        "id": "SxtTf8hQ2cLA",
        "outputId": "9173b970-1024-460e-8f4c-e1b7e0340805"
      },
      "execution_count": 124,
      "outputs": [
        {
          "output_type": "execute_result",
          "data": {
            "text/plain": [
              "TensorShape([50])"
            ]
          },
          "metadata": {},
          "execution_count": 124
        }
      ]
    },
    {
      "cell_type": "markdown",
      "source": [
        "##One-Hot Encoding"
      ],
      "metadata": {
        "id": "ovRL5z1wdp8K"
      }
    },
    {
      "cell_type": "markdown",
      "source": [
        "**One-hot encoding tensors:**\n"
      ],
      "metadata": {
        "id": "4CGXoSJN46y6"
      }
    },
    {
      "cell_type": "code",
      "source": [
        "#create a list of indices\n",
        "\n",
        "some_lst = [0,1,2,3]        #could be indices of tea, coffee, milk, juice\n",
        "depth = 4"
      ],
      "metadata": {
        "id": "KXGZnjff3FXS"
      },
      "execution_count": 125,
      "outputs": []
    },
    {
      "cell_type": "code",
      "source": [
        "#encoding each of the values of some_lst\n",
        "\n",
        "tf.one_hot(some_lst, depth)"
      ],
      "metadata": {
        "colab": {
          "base_uri": "https://localhost:8080/"
        },
        "id": "LC7yYlda6lkY",
        "outputId": "553f59d4-67af-46d9-f1b0-c0075e742c53"
      },
      "execution_count": 126,
      "outputs": [
        {
          "output_type": "execute_result",
          "data": {
            "text/plain": [
              "<tf.Tensor: shape=(4, 4), dtype=float32, numpy=\n",
              "array([[1., 0., 0., 0.],\n",
              "       [0., 1., 0., 0.],\n",
              "       [0., 0., 1., 0.],\n",
              "       [0., 0., 0., 1.]], dtype=float32)>"
            ]
          },
          "metadata": {},
          "execution_count": 126
        }
      ]
    },
    {
      "cell_type": "code",
      "source": [
        "#encoding by specifying some custom values:\n",
        "\n",
        "tf.one_hot(some_lst, depth, on_value = 'present', off_value = 'absent')"
      ],
      "metadata": {
        "colab": {
          "base_uri": "https://localhost:8080/"
        },
        "id": "57MRvi4V71H6",
        "outputId": "1e34163c-0681-4de9-c70e-b0a4b6f49d34"
      },
      "execution_count": 127,
      "outputs": [
        {
          "output_type": "execute_result",
          "data": {
            "text/plain": [
              "<tf.Tensor: shape=(4, 4), dtype=string, numpy=\n",
              "array([[b'present', b'absent', b'absent', b'absent'],\n",
              "       [b'absent', b'present', b'absent', b'absent'],\n",
              "       [b'absent', b'absent', b'present', b'absent'],\n",
              "       [b'absent', b'absent', b'absent', b'present']], dtype=object)>"
            ]
          },
          "metadata": {},
          "execution_count": 127
        }
      ]
    },
    {
      "cell_type": "markdown",
      "source": [
        "**Finding log, square and square root values:**"
      ],
      "metadata": {
        "id": "RgiFtrMN9fd9"
      }
    },
    {
      "cell_type": "code",
      "source": [
        "tensor"
      ],
      "metadata": {
        "colab": {
          "base_uri": "https://localhost:8080/"
        },
        "id": "R1TnkREO62Aw",
        "outputId": "da1368e9-a93b-4cb2-cad3-37d968fb77df"
      },
      "execution_count": 128,
      "outputs": [
        {
          "output_type": "execute_result",
          "data": {
            "text/plain": [
              "<tf.Tensor: shape=(2, 2), dtype=int32, numpy=\n",
              "array([[1, 2],\n",
              "       [3, 4]], dtype=int32)>"
            ]
          },
          "metadata": {},
          "execution_count": 128
        }
      ]
    },
    {
      "cell_type": "markdown",
      "source": [
        "##Square value"
      ],
      "metadata": {
        "id": "12JZvOsAdvJX"
      }
    },
    {
      "cell_type": "code",
      "source": [
        "#finding the square value\n",
        "\n",
        "sq_t = tf.square(tensor)\n",
        "sq_t"
      ],
      "metadata": {
        "colab": {
          "base_uri": "https://localhost:8080/"
        },
        "id": "0BukW18u7M8r",
        "outputId": "ee9dc9e9-04b4-4b09-e3ae-1f73d48914e6"
      },
      "execution_count": 129,
      "outputs": [
        {
          "output_type": "execute_result",
          "data": {
            "text/plain": [
              "<tf.Tensor: shape=(2, 2), dtype=int32, numpy=\n",
              "array([[ 1,  4],\n",
              "       [ 9, 16]], dtype=int32)>"
            ]
          },
          "metadata": {},
          "execution_count": 129
        }
      ]
    },
    {
      "cell_type": "markdown",
      "source": [
        "##Square Root value"
      ],
      "metadata": {
        "id": "BuDZCcRcdyxl"
      }
    },
    {
      "cell_type": "code",
      "source": [
        "#finding the square root values of the tensor\n",
        "\n",
        "tf.sqrt(tf.cast(sq_t, dtype = tf.float32))        #input type should be of float"
      ],
      "metadata": {
        "colab": {
          "base_uri": "https://localhost:8080/"
        },
        "id": "LjOuE8KD90pP",
        "outputId": "f307078f-9ac3-4565-ff63-2c9bdbcc70e0"
      },
      "execution_count": 130,
      "outputs": [
        {
          "output_type": "execute_result",
          "data": {
            "text/plain": [
              "<tf.Tensor: shape=(2, 2), dtype=float32, numpy=\n",
              "array([[1., 2.],\n",
              "       [3., 4.]], dtype=float32)>"
            ]
          },
          "metadata": {},
          "execution_count": 130
        }
      ]
    },
    {
      "cell_type": "markdown",
      "source": [
        "##Log value"
      ],
      "metadata": {
        "id": "3KNjPRNfd2gz"
      }
    },
    {
      "cell_type": "code",
      "source": [
        "#finding the log\n",
        "\n",
        "tf.math.log(tf.cast(tensor, dtype = tf.float32))        #input type should be of float"
      ],
      "metadata": {
        "colab": {
          "base_uri": "https://localhost:8080/"
        },
        "id": "R4e_UVG6-RXG",
        "outputId": "64a9b10c-0517-4a06-9661-29823a819ba8"
      },
      "execution_count": 131,
      "outputs": [
        {
          "output_type": "execute_result",
          "data": {
            "text/plain": [
              "<tf.Tensor: shape=(2, 2), dtype=float32, numpy=\n",
              "array([[0.       , 0.6931472],\n",
              "       [1.0986123, 1.3862944]], dtype=float32)>"
            ]
          },
          "metadata": {},
          "execution_count": 131
        }
      ]
    },
    {
      "cell_type": "markdown",
      "source": [
        "##Tensors and numpy"
      ],
      "metadata": {
        "id": "QcTckZME_dbp"
      }
    },
    {
      "cell_type": "code",
      "source": [
        "#creating a tensor directly from a numpy array\n",
        "\n",
        "np_t = tf.constant(np.array([1,2,3,4]))\n",
        "np_t"
      ],
      "metadata": {
        "colab": {
          "base_uri": "https://localhost:8080/"
        },
        "id": "1MsuVbfy-x-C",
        "outputId": "37750720-c307-4803-e697-34d5f43c00a8"
      },
      "execution_count": 132,
      "outputs": [
        {
          "output_type": "execute_result",
          "data": {
            "text/plain": [
              "<tf.Tensor: shape=(4,), dtype=int64, numpy=array([1, 2, 3, 4])>"
            ]
          },
          "metadata": {},
          "execution_count": 132
        }
      ]
    },
    {
      "cell_type": "code",
      "source": [
        "type(np_t)"
      ],
      "metadata": {
        "colab": {
          "base_uri": "https://localhost:8080/"
        },
        "id": "ryF8201LAESP",
        "outputId": "5da987d7-c046-4030-a340-87d8a1c37cc3"
      },
      "execution_count": 133,
      "outputs": [
        {
          "output_type": "execute_result",
          "data": {
            "text/plain": [
              "tensorflow.python.framework.ops.EagerTensor"
            ]
          },
          "metadata": {},
          "execution_count": 133
        }
      ]
    },
    {
      "cell_type": "code",
      "source": [
        "#converting tensor to numpy array\n",
        "\n",
        "np_a = np.array(np_t)\n",
        "np_a"
      ],
      "metadata": {
        "colab": {
          "base_uri": "https://localhost:8080/"
        },
        "id": "PoxVR_3-_ynq",
        "outputId": "13438fdc-781d-4a20-ab96-6c94afe3e257"
      },
      "execution_count": 134,
      "outputs": [
        {
          "output_type": "execute_result",
          "data": {
            "text/plain": [
              "array([1, 2, 3, 4])"
            ]
          },
          "metadata": {},
          "execution_count": 134
        }
      ]
    },
    {
      "cell_type": "code",
      "source": [
        "type(np_a)"
      ],
      "metadata": {
        "colab": {
          "base_uri": "https://localhost:8080/"
        },
        "id": "8Vb1YitNABnv",
        "outputId": "297324e6-b62e-415e-b442-ec9b1e54c697"
      },
      "execution_count": 135,
      "outputs": [
        {
          "output_type": "execute_result",
          "data": {
            "text/plain": [
              "numpy.ndarray"
            ]
          },
          "metadata": {},
          "execution_count": 135
        }
      ]
    },
    {
      "cell_type": "code",
      "source": [
        "#converting tensor to numpy array directly\n",
        "npa = np_t.numpy()\n",
        "npa"
      ],
      "metadata": {
        "colab": {
          "base_uri": "https://localhost:8080/"
        },
        "id": "fGeZvNj1Acmu",
        "outputId": "917ac3b2-c2ea-427a-80a6-e6566896e0fc"
      },
      "execution_count": 136,
      "outputs": [
        {
          "output_type": "execute_result",
          "data": {
            "text/plain": [
              "array([1, 2, 3, 4])"
            ]
          },
          "metadata": {},
          "execution_count": 136
        }
      ]
    },
    {
      "cell_type": "code",
      "source": [
        "type(npa)"
      ],
      "metadata": {
        "colab": {
          "base_uri": "https://localhost:8080/"
        },
        "id": "svzgdGIzAvl6",
        "outputId": "96c8cddf-0007-4a88-982f-db9fec74c470"
      },
      "execution_count": 137,
      "outputs": [
        {
          "output_type": "execute_result",
          "data": {
            "text/plain": [
              "numpy.ndarray"
            ]
          },
          "metadata": {},
          "execution_count": 137
        }
      ]
    },
    {
      "cell_type": "code",
      "source": [
        "print(npa)\n",
        "print(\"1st element: \",np_t.numpy()[0])\n",
        "print(\"2nd element: \",np_t.numpy()[1])\n",
        "print(\"3rd element: \",np_t.numpy()[2])\n",
        "print(\"4th element: \",np_t.numpy()[3])"
      ],
      "metadata": {
        "colab": {
          "base_uri": "https://localhost:8080/"
        },
        "id": "fFF4KbJXA4NE",
        "outputId": "b13d325f-d520-457c-da8f-216a5f9c255f"
      },
      "execution_count": 138,
      "outputs": [
        {
          "output_type": "stream",
          "name": "stdout",
          "text": [
            "[1 2 3 4]\n",
            "1st element:  1\n",
            "2nd element:  2\n",
            "3rd element:  3\n",
            "4th element:  4\n"
          ]
        }
      ]
    },
    {
      "cell_type": "code",
      "source": [
        "#checking the default dtypes of numpy and tensor\n",
        "\n",
        "numpy_a = tf.constant(np.array([1,2,3,4]))\n",
        "tensor_a = tf.constant([1., 2., 3.])\n",
        "numpy_a.dtype, tensor_a.dtype"
      ],
      "metadata": {
        "colab": {
          "base_uri": "https://localhost:8080/"
        },
        "id": "OsKpf5k-BI6C",
        "outputId": "3434cd81-40dd-4008-f737-25c9ca980ed4"
      },
      "execution_count": 139,
      "outputs": [
        {
          "output_type": "execute_result",
          "data": {
            "text/plain": [
              "(tf.int64, tf.float32)"
            ]
          },
          "metadata": {},
          "execution_count": 139
        }
      ]
    },
    {
      "cell_type": "markdown",
      "source": [
        "##GPU and TPU"
      ],
      "metadata": {
        "id": "omHmwh8meCco"
      }
    },
    {
      "cell_type": "markdown",
      "source": [
        "**GPU:** Graphic Processing Unit: It is a specialized electronic circuit designed to rapidly manipulate, process and alter memory.\n",
        "\n",
        "**TPU:** Tensor Processing Unit: It is an AI accelerator Application-Specific Integrated Circuit(ASIC), developed by Google for neural network machine learning."
      ],
      "metadata": {
        "id": "GzIBm9ygDweO"
      }
    },
    {
      "cell_type": "markdown",
      "source": [
        "###Access to GPU"
      ],
      "metadata": {
        "id": "oJNQNbe6eI_A"
      }
    },
    {
      "cell_type": "markdown",
      "source": [
        "**Finding access to GPU:**"
      ],
      "metadata": {
        "id": "TXPw5KgYE88J"
      }
    },
    {
      "cell_type": "code",
      "source": [
        "#checking the type of processor\n",
        "\n",
        "tf.config.list_physical_devices()"
      ],
      "metadata": {
        "colab": {
          "base_uri": "https://localhost:8080/"
        },
        "id": "rQk400aeE8IR",
        "outputId": "b333973f-6edf-4a22-86a4-66eac0769346"
      },
      "execution_count": 140,
      "outputs": [
        {
          "output_type": "execute_result",
          "data": {
            "text/plain": [
              "[PhysicalDevice(name='/physical_device:CPU:0', device_type='CPU'),\n",
              " PhysicalDevice(name='/physical_device:GPU:0', device_type='GPU')]"
            ]
          },
          "metadata": {},
          "execution_count": 140
        }
      ]
    },
    {
      "cell_type": "code",
      "source": [
        " #checking for GPU\n",
        "\n",
        "tf.config.list_physical_devices(\"GPU\")\n"
      ],
      "metadata": {
        "colab": {
          "base_uri": "https://localhost:8080/"
        },
        "id": "H2B4TsAoDF-v",
        "outputId": "8380bdac-234c-4178-e926-89bf2d6b6171"
      },
      "execution_count": 141,
      "outputs": [
        {
          "output_type": "execute_result",
          "data": {
            "text/plain": [
              "[PhysicalDevice(name='/physical_device:GPU:0', device_type='GPU')]"
            ]
          },
          "metadata": {},
          "execution_count": 141
        }
      ]
    },
    {
      "cell_type": "code",
      "source": [
        "#It says that there isn't any GPU"
      ],
      "metadata": {
        "id": "NRcEcwZdFcx6"
      },
      "execution_count": 142,
      "outputs": []
    },
    {
      "cell_type": "markdown",
      "source": [
        "**Steps to set to GPU:**\n",
        "\n",
        "\n",
        "1.   click on 'Runtime'\n",
        "2.   select 'Change runtime type'\n",
        "3.   in 'Hardware accelerator': select 'GPU'"
      ],
      "metadata": {
        "id": "NLAesvQqF0Zd"
      }
    },
    {
      "cell_type": "code",
      "source": [
        "import tensorflow as tf\n",
        "tf.config.list_physical_devices()"
      ],
      "metadata": {
        "colab": {
          "base_uri": "https://localhost:8080/"
        },
        "id": "1E3ONQ8RFrZy",
        "outputId": "cd4e5643-3b79-4c5c-a65a-c9a11c9a8718"
      },
      "execution_count": 143,
      "outputs": [
        {
          "output_type": "execute_result",
          "data": {
            "text/plain": [
              "[PhysicalDevice(name='/physical_device:CPU:0', device_type='CPU'),\n",
              " PhysicalDevice(name='/physical_device:GPU:0', device_type='GPU')]"
            ]
          },
          "metadata": {},
          "execution_count": 143
        }
      ]
    },
    {
      "cell_type": "markdown",
      "source": [
        "###GPU type"
      ],
      "metadata": {
        "id": "icpfjj5ReUPX"
      }
    },
    {
      "cell_type": "code",
      "source": [
        "#check what type of GPU you are using\n",
        "\n",
        "!nvidia-smi"
      ],
      "metadata": {
        "colab": {
          "base_uri": "https://localhost:8080/"
        },
        "id": "398dcfhSGrdI",
        "outputId": "f00228b8-0fd5-4369-c1b0-e95a565de95a"
      },
      "execution_count": 144,
      "outputs": [
        {
          "output_type": "stream",
          "name": "stdout",
          "text": [
            "Sat Aug 20 09:00:34 2022       \n",
            "+-----------------------------------------------------------------------------+\n",
            "| NVIDIA-SMI 460.32.03    Driver Version: 460.32.03    CUDA Version: 11.2     |\n",
            "|-------------------------------+----------------------+----------------------+\n",
            "| GPU  Name        Persistence-M| Bus-Id        Disp.A | Volatile Uncorr. ECC |\n",
            "| Fan  Temp  Perf  Pwr:Usage/Cap|         Memory-Usage | GPU-Util  Compute M. |\n",
            "|                               |                      |               MIG M. |\n",
            "|===============================+======================+======================|\n",
            "|   0  Tesla T4            Off  | 00000000:00:04.0 Off |                    0 |\n",
            "| N/A   44C    P0    26W /  70W |    286MiB / 15109MiB |      0%      Default |\n",
            "|                               |                      |                  N/A |\n",
            "+-------------------------------+----------------------+----------------------+\n",
            "                                                                               \n",
            "+-----------------------------------------------------------------------------+\n",
            "| Processes:                                                                  |\n",
            "|  GPU   GI   CI        PID   Type   Process name                  GPU Memory |\n",
            "|        ID   ID                                                   Usage      |\n",
            "|=============================================================================|\n",
            "+-----------------------------------------------------------------------------+\n"
          ]
        }
      ]
    },
    {
      "cell_type": "markdown",
      "source": [
        "#so, we get to know that we are using Tesla T4 GPU with almost 16GB of memory\n",
        "#**CUDA:** Compute Unified Device Architecture, is a kind of interface between the GPU and the tensorflow code which makes our tensorflow code run really really fast...\n",
        "\n",
        "If you have access to a CUDA enabled GPU, then TensorFlow will automatically use it whenever possible."
      ],
      "metadata": {
        "id": "X_jDaIsNHn7D"
      }
    },
    {
      "cell_type": "code",
      "source": [
        ""
      ],
      "metadata": {
        "id": "3zEoeMK1HEQo"
      },
      "execution_count": 144,
      "outputs": []
    },
    {
      "cell_type": "code",
      "source": [
        ""
      ],
      "metadata": {
        "id": "RLSEzM-THRUm"
      },
      "execution_count": 144,
      "outputs": []
    }
  ]
}