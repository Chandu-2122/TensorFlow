{
  "nbformat": 4,
  "nbformat_minor": 0,
  "metadata": {
    "colab": {
      "provenance": [],
      "collapsed_sections": []
    },
    "kernelspec": {
      "name": "python3",
      "display_name": "Python 3"
    },
    "language_info": {
      "name": "python"
    }
  },
  "cells": [
    {
      "cell_type": "markdown",
      "source": [
        "# Regression Analysis:\n",
        "\n",
        "It is a set of statistical processes for estimating the relationships(predicting) between a dependent variable(output) and one or more independent variables(input: predictors/features)"
      ],
      "metadata": {
        "id": "Jdg-KnuSiiZg"
      }
    },
    {
      "cell_type": "markdown",
      "source": [
        "#Introduction to Neural Network Regression with TF"
      ],
      "metadata": {
        "id": "EJ3FYnLMjJah"
      }
    },
    {
      "cell_type": "markdown",
      "source": [
        "#Anatomy of Neural Networks:\n",
        "Neural Network consists of three layers.\n",
        "\n",
        "\n",
        "1.   Input layer: data goes in here\n",
        "2.   Hidden layer: learns patterns in data\n",
        "3.   Output layer: outputs learned representation or prediction probabilities\n",
        "\n"
      ],
      "metadata": {
        "id": "4cqO5HAMjqZH"
      }
    },
    {
      "cell_type": "markdown",
      "source": [
        "#Architecture of Neural Network:\n",
        "\n",
        "\n",
        "Hyperparameters and their typical values:\n",
        "\n",
        "1.   Input layer shape: Same shape as number of features\n",
        "2.   Hidden layer(s): Problem specific, minimum = 1, maximum = unlimited\n",
        "3.   Neurons per hidden layer: Problem specific, generally 10 to 100\n",
        "4.   Output layer shape: Same shape as desired prediction shape\n",
        "5.   Hidden activation: Usually Rectified Linear Unit(ReLU)\n",
        "6.   Output activation: None, ReLU, logistic/tanh\n",
        "7.   Loss function: MSE(Mean Square Error) or MAE(Mean Absolute Error)/Huber (Combination of MAE/MSE) if outliers\n",
        "8.   Optimizer: SGD(Stochastic Gradient Descent), Adam\n",
        "\n",
        "Hyperparameter(human-changeable value): In ML, it's something a data analyst or developer can set themselves, where as a parameter usually describes something a model learns on its own(a value not explicitly set by an analyst)\n"
      ],
      "metadata": {
        "id": "8VQ-yMob8P9B"
      }
    },
    {
      "cell_type": "code",
      "source": [
        "#Import tensorflow and view it's version\n",
        "\n",
        "import tensorflow as tf\n",
        "print(tf.__version__)"
      ],
      "metadata": {
        "id": "Bfc-rZIGihY3",
        "colab": {
          "base_uri": "https://localhost:8080/"
        },
        "outputId": "49887abd-2d1e-49db-e5b7-5968b6d19dca"
      },
      "execution_count": 1,
      "outputs": [
        {
          "output_type": "stream",
          "name": "stdout",
          "text": [
            "2.9.2\n"
          ]
        }
      ]
    },
    {
      "cell_type": "markdown",
      "source": [
        "#Data view and fit"
      ],
      "metadata": {
        "id": "MMMY9uhlOqly"
      }
    },
    {
      "cell_type": "code",
      "source": [
        "#import the necessary libraries\n",
        "\n",
        "import numpy as np\n",
        "import matplotlib.pyplot as plt"
      ],
      "metadata": {
        "id": "FIxuD27yPemd"
      },
      "execution_count": 2,
      "outputs": []
    },
    {
      "cell_type": "code",
      "source": [
        "#create the input variables/features:independent variable\n",
        "\n",
        "x = np.array([ 0. ,2., 4., 6., 8., 10., 12., 14., 16., 18., 20.])"
      ],
      "metadata": {
        "id": "7WsFvcjXPk3q"
      },
      "execution_count": 3,
      "outputs": []
    },
    {
      "cell_type": "code",
      "source": [
        "#create output variables/labels:dependent variable\n",
        "\n",
        "y = np.array([1., 3., 5., 7., 9., 11., 13.,  15., 17., 19., 21.])"
      ],
      "metadata": {
        "id": "1ZpyEZxoQMWe"
      },
      "execution_count": 4,
      "outputs": []
    },
    {
      "cell_type": "code",
      "source": [
        "#visualising x and y values\n",
        "\n",
        "plt.scatter(x, y)"
      ],
      "metadata": {
        "colab": {
          "base_uri": "https://localhost:8080/",
          "height": 282
        },
        "id": "5tKjgf2BQnqC",
        "outputId": "4c8438d4-41e0-4d65-c30e-e3eb8b35789a"
      },
      "execution_count": 5,
      "outputs": [
        {
          "output_type": "execute_result",
          "data": {
            "text/plain": [
              "<matplotlib.collections.PathCollection at 0x7f8faa6d9150>"
            ]
          },
          "metadata": {},
          "execution_count": 5
        },
        {
          "output_type": "display_data",
          "data": {
            "text/plain": [
              "<Figure size 432x288 with 1 Axes>"
            ],
            "image/png": "[encoded data removed]"
          },
          "metadata": {
            "needs_background": "light"
          }
        }
      ]
    },
    {
      "cell_type": "code",
      "source": [
        "#check the relationship between x and y\n",
        "\n",
        "y == (x+1)"
      ],
      "metadata": {
        "colab": {
          "base_uri": "https://localhost:8080/"
        },
        "id": "Qgo8ESU9QyHe",
        "outputId": "7830bb02-7e8a-4064-b9fe-31666a4f0ce8"
      },
      "execution_count": 6,
      "outputs": [
        {
          "output_type": "execute_result",
          "data": {
            "text/plain": [
              "array([ True,  True,  True,  True,  True,  True,  True,  True,  True,\n",
              "        True,  True])"
            ]
          },
          "metadata": {},
          "execution_count": 6
        }
      ]
    },
    {
      "cell_type": "markdown",
      "source": [
        "##Input and Output shapes"
      ],
      "metadata": {
        "id": "Ct0YYQgxRkXb"
      }
    },
    {
      "cell_type": "code",
      "source": [
        "# creating a tensor for housing price prediction problem\n",
        "\n",
        "house_info = tf.constant([\"Bedroom\", \"Bathroom\", \"Garage\"])       #input\n",
        "house_price = tf.constant([222200])       #output\n",
        "house_info, house_price\n"
      ],
      "metadata": {
        "colab": {
          "base_uri": "https://localhost:8080/"
        },
        "id": "uoEGvl5DSYQ9",
        "outputId": "6574361b-cd73-48aa-d32f-c68f682a09b0"
      },
      "execution_count": 7,
      "outputs": [
        {
          "output_type": "execute_result",
          "data": {
            "text/plain": [
              "(<tf.Tensor: shape=(3,), dtype=string, numpy=array([b'Bedroom', b'Bathroom', b'Garage'], dtype=object)>,\n",
              " <tf.Tensor: shape=(1,), dtype=int32, numpy=array([222200], dtype=int32)>)"
            ]
          },
          "metadata": {},
          "execution_count": 7
        }
      ]
    },
    {
      "cell_type": "code",
      "source": [
        "#shapes\n",
        "\n",
        "input_shape = house_info.shape\n",
        "output_shape = house_price.shape\n",
        "input_shape, output_shape\n"
      ],
      "metadata": {
        "colab": {
          "base_uri": "https://localhost:8080/"
        },
        "id": "NFwPMIpNTQGi",
        "outputId": "0aeb64d6-688c-46f5-9d48-5906ef7f9daf"
      },
      "execution_count": 8,
      "outputs": [
        {
          "output_type": "execute_result",
          "data": {
            "text/plain": [
              "(TensorShape([3]), TensorShape([1]))"
            ]
          },
          "metadata": {},
          "execution_count": 8
        }
      ]
    },
    {
      "cell_type": "code",
      "source": [
        "house_info.ndim    #vector"
      ],
      "metadata": {
        "colab": {
          "base_uri": "https://localhost:8080/"
        },
        "id": "XrXhiu2-UI7x",
        "outputId": "eb77db82-ff28-44e7-d18e-fc49ecdbed39"
      },
      "execution_count": 9,
      "outputs": [
        {
          "output_type": "execute_result",
          "data": {
            "text/plain": [
              "1"
            ]
          },
          "metadata": {},
          "execution_count": 9
        }
      ]
    },
    {
      "cell_type": "code",
      "source": [
        "house_info[0].ndim        #scalar"
      ],
      "metadata": {
        "colab": {
          "base_uri": "https://localhost:8080/"
        },
        "id": "_kEDZn40UYsH",
        "outputId": "5cbbbe01-9990-4451-9271-9a9b5eb04662"
      },
      "execution_count": 10,
      "outputs": [
        {
          "output_type": "execute_result",
          "data": {
            "text/plain": [
              "0"
            ]
          },
          "metadata": {},
          "execution_count": 10
        }
      ]
    },
    {
      "cell_type": "code",
      "source": [
        "house_info[0].numpy(), house_price[0].numpy()       #values of at index 0 "
      ],
      "metadata": {
        "colab": {
          "base_uri": "https://localhost:8080/"
        },
        "id": "XmZtNA-yUjy0",
        "outputId": "53c56aea-0a16-4cc5-e88c-fd489eb98280"
      },
      "execution_count": 11,
      "outputs": [
        {
          "output_type": "execute_result",
          "data": {
            "text/plain": [
              "(b'Bedroom', 222200)"
            ]
          },
          "metadata": {},
          "execution_count": 11
        }
      ]
    },
    {
      "cell_type": "code",
      "source": [
        "x[0], y[0]        #values of x and y at index 0 "
      ],
      "metadata": {
        "colab": {
          "base_uri": "https://localhost:8080/"
        },
        "id": "mcrAbYYnU0dw",
        "outputId": "4f04e7ac-3ff2-460b-bb8d-cd6811d934bc"
      },
      "execution_count": 12,
      "outputs": [
        {
          "output_type": "execute_result",
          "data": {
            "text/plain": [
              "(0.0, 1.0)"
            ]
          },
          "metadata": {},
          "execution_count": 12
        }
      ]
    },
    {
      "cell_type": "code",
      "source": [
        "x[0].ndim       #scalar"
      ],
      "metadata": {
        "id": "amScEyMdU71c",
        "colab": {
          "base_uri": "https://localhost:8080/"
        },
        "outputId": "8826a5c6-3640-4317-bd52-dc4ec4a9a656"
      },
      "execution_count": 13,
      "outputs": [
        {
          "output_type": "execute_result",
          "data": {
            "text/plain": [
              "0"
            ]
          },
          "metadata": {},
          "execution_count": 13
        }
      ]
    },
    {
      "cell_type": "code",
      "source": [
        "x = tf.constant(x)\n",
        "x"
      ],
      "metadata": {
        "colab": {
          "base_uri": "https://localhost:8080/"
        },
        "id": "m6jl7lr4pjtm",
        "outputId": "68270316-cf96-4a66-e505-ae4103d8d3dc"
      },
      "execution_count": 14,
      "outputs": [
        {
          "output_type": "execute_result",
          "data": {
            "text/plain": [
              "<tf.Tensor: shape=(11,), dtype=float64, numpy=array([ 0.,  2.,  4.,  6.,  8., 10., 12., 14., 16., 18., 20.])>"
            ]
          },
          "metadata": {},
          "execution_count": 14
        }
      ]
    },
    {
      "cell_type": "code",
      "source": [
        "y = tf.constant(y)\n",
        "y"
      ],
      "metadata": {
        "colab": {
          "base_uri": "https://localhost:8080/"
        },
        "id": "jhrdpjvzpr-b",
        "outputId": "dee689ee-6602-452b-de4f-9b588d2c5d26"
      },
      "execution_count": 15,
      "outputs": [
        {
          "output_type": "execute_result",
          "data": {
            "text/plain": [
              "<tf.Tensor: shape=(11,), dtype=float64, numpy=array([ 1.,  3.,  5.,  7.,  9., 11., 13., 15., 17., 19., 21.])>"
            ]
          },
          "metadata": {},
          "execution_count": 15
        }
      ]
    },
    {
      "cell_type": "code",
      "source": [
        "#since by default the tensors are made with dtype-float64, let's change it into float32\n",
        "\n",
        "x = tf.cast(x, dtype=tf.float32)\n",
        "y = tf.cast(y, dtype = tf.float32)\n",
        "x, y"
      ],
      "metadata": {
        "colab": {
          "base_uri": "https://localhost:8080/"
        },
        "id": "FOmbgW2Ao2VG",
        "outputId": "90ecdd62-128d-4e69-c5d7-59319723274b"
      },
      "execution_count": 16,
      "outputs": [
        {
          "output_type": "execute_result",
          "data": {
            "text/plain": [
              "(<tf.Tensor: shape=(11,), dtype=float32, numpy=\n",
              " array([ 0.,  2.,  4.,  6.,  8., 10., 12., 14., 16., 18., 20.],\n",
              "       dtype=float32)>, <tf.Tensor: shape=(11,), dtype=float32, numpy=\n",
              " array([ 1.,  3.,  5.,  7.,  9., 11., 13., 15., 17., 19., 21.],\n",
              "       dtype=float32)>)"
            ]
          },
          "metadata": {},
          "execution_count": 16
        }
      ]
    },
    {
      "cell_type": "markdown",
      "source": [
        "#Modelling steps in TF:\n",
        "\n",
        "1.   Data ready: get the data ready by turning into tensors, define input, hidden and output layers of a deep learning model.\n",
        "2.   Pick/compile a model: define the loss function which tells our model how wrong it is, define the optimizer which tells our model how to improve its pattern learning\n",
        "3.   Fit the model: Allow the model to find patterns(relationship) between x(input variables) and y(output variable) to make a prediction.\n",
        "4.    Evaluate the model:evaluation metrics to know what to use to interpret the performance of our model.\n",
        "5.    Improve through experimentation\n",
        "6.    Save and reload your model\n",
        "\n",
        "\n",
        "\n",
        "\n",
        " "
      ],
      "metadata": {
        "id": "X5nLHAtGVnUu"
      }
    },
    {
      "cell_type": "code",
      "source": [
        "#set random seed\n",
        "\n",
        "tf.random.set_seed(22)"
      ],
      "metadata": {
        "id": "Xl3MO-TEXz7H"
      },
      "execution_count": 17,
      "outputs": []
    },
    {
      "cell_type": "markdown",
      "source": [
        "#Keras: \n",
        "It is a deep learning API which provides a plenty of pre-built layers for different Neural Network architectures and purposes via Keras Layers API."
      ],
      "metadata": {
        "id": "-Zz-Al45tHEQ"
      }
    },
    {
      "cell_type": "markdown",
      "source": [
        "##Creating a model"
      ],
      "metadata": {
        "id": "cvbIL4H-xDrd"
      }
    },
    {
      "cell_type": "markdown",
      "source": [
        "###Sequential model\n",
        "\n",
        "It is used to build a plain stack of layers where each layer has exactly one input tensor and one output tensor.\n",
        "\n",
        "Its layers are accessible via the 'layers' attribute.\n",
        "\n",
        "add()-adds layers, \n",
        "pop()-removes layers\n",
        "\n"
      ],
      "metadata": {
        "id": "UxLFa0zZ4AjF"
      }
    },
    {
      "cell_type": "markdown",
      "source": [
        "###Dense:\n",
        "It is a Neural Network layer that has deep connection, meaning that each neuron in dense layer receives input from all neurons of its previous layer.\n",
        "\n",
        "It performs matrix vector multiplication by generating 'n' dimensional vector. The values used in the matrix are parameters that can be trained and updated with the help of backpropogation.\n",
        "\n",
        "It is used for changing dimensions, rotation, scaling and translation of the vector\n",
        "\n"
      ],
      "metadata": {
        "id": "9bpL6ml1t9aJ"
      }
    },
    {
      "cell_type": "code",
      "source": [
        "#1. Create a model using the Sequential API\n",
        "\n",
        "model = tf.keras.Sequential()   #you can add the layers by using .add()\n",
        "model.add(tf.keras.layers.Dense(1))  #dense=no. of inputs or outputs you are taking at a time\n",
        "#these two lines of code can also be written as:\n",
        "#model = tf.keras.Sequential([\n",
        "    #tf.keras.layers.Dense(1)\n",
        "#])"
      ],
      "metadata": {
        "id": "wLj-foudmo1J"
      },
      "execution_count": 18,
      "outputs": []
    },
    {
      "cell_type": "markdown",
      "source": [
        "##Compiling the model"
      ],
      "metadata": {
        "id": "Co2oAmDFxIkn"
      }
    },
    {
      "cell_type": "code",
      "source": [
        "#2. Compile the model\n",
        "\n",
        "model.compile(loss = tf.keras.losses.mae,   #mae-Mean Absolute value\n",
        "              optimizer = tf.keras.optimizers.SGD(),    #sgd-Stochastic Gradient Descent\n",
        "              metrics = [\"mae\"])\n"
      ],
      "metadata": {
        "id": "y_4PknNQn1MQ"
      },
      "execution_count": 19,
      "outputs": []
    },
    {
      "cell_type": "markdown",
      "source": [
        "###Optimizer\n",
        "\n",
        "It tells how your model should update its internal patterns to better its predictions"
      ],
      "metadata": {
        "id": "7jx7ANkMxtkp"
      }
    },
    {
      "cell_type": "markdown",
      "source": [
        "###Metrics\n",
        "\n",
        "It's human interpretable values for how well your model is doing"
      ],
      "metadata": {
        "id": "D7YIrUQZyQ8s"
      }
    },
    {
      "cell_type": "markdown",
      "source": [
        "###Loss\n",
        "\n",
        "Loss tells us how wrong your model's predictions are compared to the truth labels\n",
        "\n",
        "loss = mean(abs(y_actual - y_pred), axis=-1)\n",
        "\n",
        "so to make a good model, we need to minimise the loss value"
      ],
      "metadata": {
        "id": "dejjZ_f-xrW-"
      }
    },
    {
      "cell_type": "markdown",
      "source": [
        "###Epochs\n",
        "\n",
        "It tells how many times our model will go through all of the training examples.\n",
        "\n",
        "epochs= no.of laps"
      ],
      "metadata": {
        "id": "dpUwSk4Zw-dJ"
      }
    },
    {
      "cell_type": "markdown",
      "source": [
        "##Fitting the model"
      ],
      "metadata": {
        "id": "0qVk5GEOxfoY"
      }
    },
    {
      "cell_type": "code",
      "source": [
        "#3. Fit the model\n",
        "\n",
        "model.fit(tf.expand_dims(x, axis = -1), y, epochs=5)     \n",
        "\n",
        "#you are expanding the dimensions of 'x' because TF 2.7.0+ versions need ndim=2 shaped tensor\n",
        "#by expanding x our x ndim shape will expand from 1 to 2, which is what our model needs to fit."
      ],
      "metadata": {
        "colab": {
          "base_uri": "https://localhost:8080/"
        },
        "id": "UB91abumoX30",
        "outputId": "f570ded7-bd1e-4b34-9e21-2996d65d9e87"
      },
      "execution_count": 21,
      "outputs": [
        {
          "output_type": "stream",
          "name": "stdout",
          "text": [
            "Epoch 1/5\n",
            "1/1 [==============================] - 1s 541ms/step - loss: 12.3746 - mae: 12.3746\n",
            "Epoch 2/5\n",
            "1/1 [==============================] - 0s 11ms/step - loss: 11.3646 - mae: 11.3646\n",
            "Epoch 3/5\n",
            "1/1 [==============================] - 0s 8ms/step - loss: 10.3546 - mae: 10.3546\n",
            "Epoch 4/5\n",
            "1/1 [==============================] - 0s 11ms/step - loss: 9.3446 - mae: 9.3446\n",
            "Epoch 5/5\n",
            "1/1 [==============================] - 0s 5ms/step - loss: 8.3346 - mae: 8.3346\n"
          ]
        },
        {
          "output_type": "execute_result",
          "data": {
            "text/plain": [
              "<keras.callbacks.History at 0x7f8fa5ee3b10>"
            ]
          },
          "metadata": {},
          "execution_count": 21
        }
      ]
    },
    {
      "cell_type": "code",
      "source": [
        "#we have got loss of approx 8"
      ],
      "metadata": {
        "id": "RLDkvzmWuDMC"
      },
      "execution_count": 20,
      "outputs": []
    },
    {
      "cell_type": "code",
      "source": [
        "x"
      ],
      "metadata": {
        "colab": {
          "base_uri": "https://localhost:8080/"
        },
        "id": "CKQmhGBzohSo",
        "outputId": "fd79511b-acb8-4ec1-dea6-09ce9b2aa55d"
      },
      "execution_count": 22,
      "outputs": [
        {
          "output_type": "execute_result",
          "data": {
            "text/plain": [
              "<tf.Tensor: shape=(11,), dtype=float32, numpy=\n",
              "array([ 0.,  2.,  4.,  6.,  8., 10., 12., 14., 16., 18., 20.],\n",
              "      dtype=float32)>"
            ]
          },
          "metadata": {},
          "execution_count": 22
        }
      ]
    },
    {
      "cell_type": "code",
      "source": [
        "y"
      ],
      "metadata": {
        "colab": {
          "base_uri": "https://localhost:8080/"
        },
        "id": "vl-pN7TRtu5J",
        "outputId": "4d3e0ba4-e42e-4d3c-b6bf-1e97863697bf"
      },
      "execution_count": 23,
      "outputs": [
        {
          "output_type": "execute_result",
          "data": {
            "text/plain": [
              "<tf.Tensor: shape=(11,), dtype=float32, numpy=\n",
              "array([ 1.,  3.,  5.,  7.,  9., 11., 13., 15., 17., 19., 21.],\n",
              "      dtype=float32)>"
            ]
          },
          "metadata": {},
          "execution_count": 23
        }
      ]
    },
    {
      "cell_type": "code",
      "source": [
        "#predicting a value with our model for x = 22.0 which should give y=23\n",
        "\n",
        "model.predict([22.0])"
      ],
      "metadata": {
        "colab": {
          "base_uri": "https://localhost:8080/"
        },
        "id": "WokrGDkHtvrW",
        "outputId": "83572caa-4e8b-4c65-de6b-9bad7e9fe529"
      },
      "execution_count": 24,
      "outputs": [
        {
          "output_type": "stream",
          "name": "stdout",
          "text": [
            "1/1 [==============================] - 0s 126ms/step\n"
          ]
        },
        {
          "output_type": "execute_result",
          "data": {
            "text/plain": [
              "array([[8.025777]], dtype=float32)"
            ]
          },
          "metadata": {},
          "execution_count": 24
        }
      ]
    },
    {
      "cell_type": "code",
      "source": [
        "#since the loss is 8, so if we add up the loss to predicted y value, we get 8+8=16\n",
        "#but our actual predicted value should be 23 \n",
        "#which means we need to improve our model by handling the errors"
      ],
      "metadata": {
        "id": "Bi9y-aYVt9Me"
      },
      "execution_count": 25,
      "outputs": []
    },
    {
      "cell_type": "markdown",
      "source": [
        "##Improving the model\n",
        "\n",
        "We can improve our model, by altering the steps we took to create a model.\n",
        "\n",
        "1. Creating a model:\n",
        "\n",
        "    Here, we might add more layers, increase the no.of hidden units(all called neurons) within each of the hidden layers, change the activation function of each layer.\n",
        "\n",
        "2. Compiling the model:\n",
        "\n",
        "    Here, we might change the optimization function or perhaps the 'learning rate' of the optimization function.\n",
        "\n",
        "3. Fitting the model:\n",
        "\n",
        "    Here, we might fit a model for more 'epochs'(leave it getting trained for longer times) or on more data(give the model more examples to learn from)."
      ],
      "metadata": {
        "id": "PIUsH2B40sOo"
      }
    },
    {
      "cell_type": "code",
      "source": [
        "#Rebuilding the model\n",
        "\n",
        "#1. Create a model\n",
        "\n",
        "model = tf.keras.Sequential(\n",
        "    [tf.keras.layers.Dense(1)]\n",
        ")\n",
        "\n",
        "#2. Compile the model\n",
        "\n",
        "model.compile(loss=tf.keras.losses.mae, \n",
        "              optimizer = tf.keras.optimizers.SGD(),\n",
        "              metrics = [\"mae\"])\n",
        "\n",
        "#3. Fit the model by training for longer time\n",
        "\n",
        "model.fit(tf.expand_dims(x, axis=-1), y , epochs=100)\n",
        "\n"
      ],
      "metadata": {
        "id": "Ry7Qh-6UwO0N",
        "colab": {
          "base_uri": "https://localhost:8080/"
        },
        "outputId": "655f9bf3-f34b-4039-89c0-12b61d13e5c5"
      },
      "execution_count": 26,
      "outputs": [
        {
          "output_type": "stream",
          "name": "stdout",
          "text": [
            "Epoch 1/100\n",
            "1/1 [==============================] - 0s 342ms/step - loss: 4.3411 - mae: 4.3411\n",
            "Epoch 2/100\n",
            "1/1 [==============================] - 0s 16ms/step - loss: 3.3664 - mae: 3.3664\n",
            "Epoch 3/100\n",
            "1/1 [==============================] - 0s 17ms/step - loss: 2.4338 - mae: 2.4338\n",
            "Epoch 4/100\n",
            "1/1 [==============================] - 0s 7ms/step - loss: 1.5245 - mae: 1.5245\n",
            "Epoch 5/100\n",
            "1/1 [==============================] - 0s 7ms/step - loss: 0.7688 - mae: 0.7688\n",
            "Epoch 6/100\n",
            "1/1 [==============================] - 0s 7ms/step - loss: 0.4853 - mae: 0.4853\n",
            "Epoch 7/100\n",
            "1/1 [==============================] - 0s 7ms/step - loss: 0.6681 - mae: 0.6681\n",
            "Epoch 8/100\n",
            "1/1 [==============================] - 0s 13ms/step - loss: 0.4794 - mae: 0.4794\n",
            "Epoch 9/100\n",
            "1/1 [==============================] - 0s 19ms/step - loss: 0.6688 - mae: 0.6688\n",
            "Epoch 10/100\n",
            "1/1 [==============================] - 0s 19ms/step - loss: 0.4734 - mae: 0.4734\n",
            "Epoch 11/100\n",
            "1/1 [==============================] - 0s 31ms/step - loss: 0.6694 - mae: 0.6694\n",
            "Epoch 12/100\n",
            "1/1 [==============================] - 0s 11ms/step - loss: 0.4676 - mae: 0.4676\n",
            "Epoch 13/100\n",
            "1/1 [==============================] - 0s 13ms/step - loss: 0.4856 - mae: 0.4856\n",
            "Epoch 14/100\n",
            "1/1 [==============================] - 0s 15ms/step - loss: 0.5853 - mae: 0.5853\n",
            "Epoch 15/100\n",
            "1/1 [==============================] - 0s 17ms/step - loss: 0.8356 - mae: 0.8356\n",
            "Epoch 16/100\n",
            "1/1 [==============================] - 0s 24ms/step - loss: 0.4393 - mae: 0.4393\n",
            "Epoch 17/100\n",
            "1/1 [==============================] - 0s 17ms/step - loss: 0.4369 - mae: 0.4369\n",
            "Epoch 18/100\n",
            "1/1 [==============================] - 0s 10ms/step - loss: 0.4345 - mae: 0.4345\n",
            "Epoch 19/100\n",
            "1/1 [==============================] - 0s 7ms/step - loss: 0.4321 - mae: 0.4321\n",
            "Epoch 20/100\n",
            "1/1 [==============================] - 0s 6ms/step - loss: 0.4321 - mae: 0.4321\n",
            "Epoch 21/100\n",
            "1/1 [==============================] - 0s 8ms/step - loss: 0.5026 - mae: 0.5026\n",
            "Epoch 22/100\n",
            "1/1 [==============================] - 0s 9ms/step - loss: 0.8859 - mae: 0.8859\n",
            "Epoch 23/100\n",
            "1/1 [==============================] - 0s 8ms/step - loss: 0.4255 - mae: 0.4255\n",
            "Epoch 24/100\n",
            "1/1 [==============================] - 0s 7ms/step - loss: 0.4281 - mae: 0.4281\n",
            "Epoch 25/100\n",
            "1/1 [==============================] - 0s 9ms/step - loss: 0.4880 - mae: 0.4880\n",
            "Epoch 26/100\n",
            "1/1 [==============================] - 0s 10ms/step - loss: 0.8899 - mae: 0.8899\n",
            "Epoch 27/100\n",
            "1/1 [==============================] - 0s 10ms/step - loss: 0.4211 - mae: 0.4211\n",
            "Epoch 28/100\n",
            "1/1 [==============================] - 0s 9ms/step - loss: 0.4962 - mae: 0.4962\n",
            "Epoch 29/100\n",
            "1/1 [==============================] - 0s 8ms/step - loss: 0.8784 - mae: 0.8784\n",
            "Epoch 30/100\n",
            "1/1 [==============================] - 0s 9ms/step - loss: 0.4147 - mae: 0.4147\n",
            "Epoch 31/100\n",
            "1/1 [==============================] - 0s 12ms/step - loss: 0.4171 - mae: 0.4171\n",
            "Epoch 32/100\n",
            "1/1 [==============================] - 0s 7ms/step - loss: 0.4816 - mae: 0.4816\n",
            "Epoch 33/100\n",
            "1/1 [==============================] - 0s 8ms/step - loss: 0.8824 - mae: 0.8824\n",
            "Epoch 34/100\n",
            "1/1 [==============================] - 0s 9ms/step - loss: 0.4101 - mae: 0.4101\n",
            "Epoch 35/100\n",
            "1/1 [==============================] - 0s 14ms/step - loss: 0.4898 - mae: 0.4898\n",
            "Epoch 36/100\n",
            "1/1 [==============================] - 0s 8ms/step - loss: 0.8709 - mae: 0.8709\n",
            "Epoch 37/100\n",
            "1/1 [==============================] - 0s 8ms/step - loss: 0.4039 - mae: 0.4039\n",
            "Epoch 38/100\n",
            "1/1 [==============================] - 0s 8ms/step - loss: 0.4062 - mae: 0.4062\n",
            "Epoch 39/100\n",
            "1/1 [==============================] - 0s 7ms/step - loss: 0.4753 - mae: 0.4753\n",
            "Epoch 40/100\n",
            "1/1 [==============================] - 0s 9ms/step - loss: 0.8748 - mae: 0.8748\n",
            "Epoch 41/100\n",
            "1/1 [==============================] - 0s 8ms/step - loss: 0.3991 - mae: 0.3991\n",
            "Epoch 42/100\n",
            "1/1 [==============================] - 0s 7ms/step - loss: 0.4835 - mae: 0.4835\n",
            "Epoch 43/100\n",
            "1/1 [==============================] - 0s 7ms/step - loss: 0.8634 - mae: 0.8634\n",
            "Epoch 44/100\n",
            "1/1 [==============================] - 0s 10ms/step - loss: 0.3931 - mae: 0.3931\n",
            "Epoch 45/100\n",
            "1/1 [==============================] - 0s 17ms/step - loss: 0.3952 - mae: 0.3952\n",
            "Epoch 46/100\n",
            "1/1 [==============================] - 0s 53ms/step - loss: 0.4689 - mae: 0.4689\n",
            "Epoch 47/100\n",
            "1/1 [==============================] - 0s 8ms/step - loss: 0.8673 - mae: 0.8673\n",
            "Epoch 48/100\n",
            "1/1 [==============================] - 0s 8ms/step - loss: 0.3881 - mae: 0.3881\n",
            "Epoch 49/100\n",
            "1/1 [==============================] - 0s 8ms/step - loss: 0.4771 - mae: 0.4771\n",
            "Epoch 50/100\n",
            "1/1 [==============================] - 0s 10ms/step - loss: 0.8558 - mae: 0.8558\n",
            "Epoch 51/100\n",
            "1/1 [==============================] - 0s 8ms/step - loss: 0.3822 - mae: 0.3822\n",
            "Epoch 52/100\n",
            "1/1 [==============================] - 0s 12ms/step - loss: 0.3842 - mae: 0.3842\n",
            "Epoch 53/100\n",
            "1/1 [==============================] - 0s 10ms/step - loss: 0.4626 - mae: 0.4626\n",
            "Epoch 54/100\n",
            "1/1 [==============================] - 0s 9ms/step - loss: 0.8598 - mae: 0.8598\n",
            "Epoch 55/100\n",
            "1/1 [==============================] - 0s 8ms/step - loss: 0.3771 - mae: 0.3771\n",
            "Epoch 56/100\n",
            "1/1 [==============================] - 0s 13ms/step - loss: 0.4707 - mae: 0.4707\n",
            "Epoch 57/100\n",
            "1/1 [==============================] - 0s 8ms/step - loss: 0.8483 - mae: 0.8483\n",
            "Epoch 58/100\n",
            "1/1 [==============================] - 0s 10ms/step - loss: 0.3714 - mae: 0.3714\n",
            "Epoch 59/100\n",
            "1/1 [==============================] - 0s 8ms/step - loss: 0.3732 - mae: 0.3732\n",
            "Epoch 60/100\n",
            "1/1 [==============================] - 0s 13ms/step - loss: 0.4562 - mae: 0.4562\n",
            "Epoch 61/100\n",
            "1/1 [==============================] - 0s 12ms/step - loss: 0.8528 - mae: 0.8528\n",
            "Epoch 62/100\n",
            "1/1 [==============================] - 0s 12ms/step - loss: 0.3766 - mae: 0.3766\n",
            "Epoch 63/100\n",
            "1/1 [==============================] - 0s 13ms/step - loss: 0.4364 - mae: 0.4364\n",
            "Epoch 64/100\n",
            "1/1 [==============================] - 0s 11ms/step - loss: 0.4798 - mae: 0.4798\n",
            "Epoch 65/100\n",
            "1/1 [==============================] - 0s 12ms/step - loss: 0.8273 - mae: 0.8273\n",
            "Epoch 66/100\n",
            "1/1 [==============================] - 0s 12ms/step - loss: 0.3597 - mae: 0.3597\n",
            "Epoch 67/100\n",
            "1/1 [==============================] - 0s 13ms/step - loss: 0.3573 - mae: 0.3573\n",
            "Epoch 68/100\n",
            "1/1 [==============================] - 0s 9ms/step - loss: 0.3602 - mae: 0.3602\n",
            "Epoch 69/100\n",
            "1/1 [==============================] - 0s 9ms/step - loss: 0.4426 - mae: 0.4426\n",
            "Epoch 70/100\n",
            "1/1 [==============================] - 0s 11ms/step - loss: 0.8511 - mae: 0.8511\n",
            "Epoch 71/100\n",
            "1/1 [==============================] - 0s 7ms/step - loss: 0.3620 - mae: 0.3620\n",
            "Epoch 72/100\n",
            "1/1 [==============================] - 0s 8ms/step - loss: 0.4252 - mae: 0.4252\n",
            "Epoch 73/100\n",
            "1/1 [==============================] - 0s 16ms/step - loss: 0.4662 - mae: 0.4662\n",
            "Epoch 74/100\n",
            "1/1 [==============================] - 0s 14ms/step - loss: 0.8245 - mae: 0.8245\n",
            "Epoch 75/100\n",
            "1/1 [==============================] - 0s 12ms/step - loss: 0.3663 - mae: 0.3663\n",
            "Epoch 76/100\n",
            "1/1 [==============================] - 0s 14ms/step - loss: 0.6238 - mae: 0.6238\n",
            "Epoch 77/100\n",
            "1/1 [==============================] - 0s 21ms/step - loss: 0.4916 - mae: 0.4916\n",
            "Epoch 78/100\n",
            "1/1 [==============================] - 0s 20ms/step - loss: 0.7970 - mae: 0.7970\n",
            "Epoch 79/100\n",
            "1/1 [==============================] - 0s 15ms/step - loss: 0.3805 - mae: 0.3805\n",
            "Epoch 80/100\n",
            "1/1 [==============================] - 0s 13ms/step - loss: 0.5983 - mae: 0.5983\n",
            "Epoch 81/100\n",
            "1/1 [==============================] - 0s 9ms/step - loss: 0.5171 - mae: 0.5171\n",
            "Epoch 82/100\n",
            "1/1 [==============================] - 0s 12ms/step - loss: 0.7709 - mae: 0.7709\n",
            "Epoch 83/100\n",
            "1/1 [==============================] - 0s 14ms/step - loss: 0.3389 - mae: 0.3389\n",
            "Epoch 84/100\n",
            "1/1 [==============================] - 0s 15ms/step - loss: 0.4262 - mae: 0.4262\n",
            "Epoch 85/100\n",
            "1/1 [==============================] - 0s 14ms/step - loss: 0.6135 - mae: 0.6135\n",
            "Epoch 86/100\n",
            "1/1 [==============================] - 0s 15ms/step - loss: 0.6891 - mae: 0.6891\n",
            "Epoch 87/100\n",
            "1/1 [==============================] - 0s 13ms/step - loss: 0.3880 - mae: 0.3880\n",
            "Epoch 88/100\n",
            "1/1 [==============================] - 0s 15ms/step - loss: 0.8759 - mae: 0.8759\n",
            "Epoch 89/100\n",
            "1/1 [==============================] - 0s 12ms/step - loss: 0.3287 - mae: 0.3287\n",
            "Epoch 90/100\n",
            "1/1 [==============================] - 0s 15ms/step - loss: 0.3263 - mae: 0.3263\n",
            "Epoch 91/100\n",
            "1/1 [==============================] - 0s 19ms/step - loss: 0.3239 - mae: 0.3239\n",
            "Epoch 92/100\n",
            "1/1 [==============================] - 0s 14ms/step - loss: 0.3222 - mae: 0.3222\n",
            "Epoch 93/100\n",
            "1/1 [==============================] - 0s 7ms/step - loss: 0.4389 - mae: 0.4389\n",
            "Epoch 94/100\n",
            "1/1 [==============================] - 0s 15ms/step - loss: 0.8210 - mae: 0.8210\n",
            "Epoch 95/100\n",
            "1/1 [==============================] - 0s 13ms/step - loss: 0.3373 - mae: 0.3373\n",
            "Epoch 96/100\n",
            "1/1 [==============================] - 0s 6ms/step - loss: 0.6127 - mae: 0.6127\n",
            "Epoch 97/100\n",
            "1/1 [==============================] - 0s 9ms/step - loss: 0.4644 - mae: 0.4644\n",
            "Epoch 98/100\n",
            "1/1 [==============================] - 0s 16ms/step - loss: 0.7935 - mae: 0.7935\n",
            "Epoch 99/100\n",
            "1/1 [==============================] - 0s 11ms/step - loss: 0.3515 - mae: 0.3515\n",
            "Epoch 100/100\n",
            "1/1 [==============================] - 0s 11ms/step - loss: 0.5872 - mae: 0.5872\n"
          ]
        },
        {
          "output_type": "execute_result",
          "data": {
            "text/plain": [
              "<keras.callbacks.History at 0x7f8fa4503ed0>"
            ]
          },
          "metadata": {},
          "execution_count": 26
        }
      ]
    },
    {
      "cell_type": "code",
      "source": [
        "#now lets predict a value with our model for x = 22.0 which should give y=23\n",
        "\n",
        "model.predict([22.0])"
      ],
      "metadata": {
        "colab": {
          "base_uri": "https://localhost:8080/"
        },
        "id": "xS4I2T1G5VQT",
        "outputId": "2a35fe6a-e343-450f-a765-36c00377bd61"
      },
      "execution_count": 27,
      "outputs": [
        {
          "output_type": "stream",
          "name": "stdout",
          "text": [
            "1/1 [==============================] - 0s 150ms/step\n"
          ]
        },
        {
          "output_type": "execute_result",
          "data": {
            "text/plain": [
              "array([[22.76674]], dtype=float32)"
            ]
          },
          "metadata": {},
          "execution_count": 27
        }
      ]
    },
    {
      "cell_type": "code",
      "source": [
        "#Common ways to improve a deep model:\n",
        "#1. Adding layers\n",
        "#2. Increase the number of hidden units\n",
        "#3. Change the activation functions\n",
        "#4. Change the optimization function\n",
        "#5. Change the learning rate\n",
        "#6. Fitting on more data\n",
        "#7. Fitting for longer(epoch)"
      ],
      "metadata": {
        "id": "M5_arQOf5fyP"
      },
      "execution_count": 28,
      "outputs": []
    },
    {
      "cell_type": "markdown",
      "source": [
        "##Evaluating a model:\n",
        "\n",
        "The workflow of building a neural network is:\n",
        "\n",
        "Create a model-> fit it-> evaluate it-> improve/build(tweak) it-> fit it-> evaluate it-> tweak it-> fit it..........\n",
        "\n",
        "Evaluating can be done by visualizing the following:\n",
        "\n",
        "*   The data: What data we are working with? What does it look like?\n",
        "\n",
        "*   The model itself: What does our model look like?\n",
        "\n",
        "*   The training of a model: How does a model perform while it learns?\n",
        "\n",
        "*   The predictions of the model: How do the predictions of a model line up against the original labels?\n",
        "\n",
        "\n",
        "\n"
      ],
      "metadata": {
        "id": "Fy4Fa_iT7Pp7"
      }
    },
    {
      "cell_type": "code",
      "source": [
        "#Creating a bigger dataset\n",
        "\n",
        "x = np.arange(-100, 100, 2)\n",
        "x"
      ],
      "metadata": {
        "colab": {
          "base_uri": "https://localhost:8080/"
        },
        "id": "NJ3IrXC1AYhG",
        "outputId": "1ae15b8a-2fef-424d-da5c-0932887ff8bb"
      },
      "execution_count": 29,
      "outputs": [
        {
          "output_type": "execute_result",
          "data": {
            "text/plain": [
              "array([-100,  -98,  -96,  -94,  -92,  -90,  -88,  -86,  -84,  -82,  -80,\n",
              "        -78,  -76,  -74,  -72,  -70,  -68,  -66,  -64,  -62,  -60,  -58,\n",
              "        -56,  -54,  -52,  -50,  -48,  -46,  -44,  -42,  -40,  -38,  -36,\n",
              "        -34,  -32,  -30,  -28,  -26,  -24,  -22,  -20,  -18,  -16,  -14,\n",
              "        -12,  -10,   -8,   -6,   -4,   -2,    0,    2,    4,    6,    8,\n",
              "         10,   12,   14,   16,   18,   20,   22,   24,   26,   28,   30,\n",
              "         32,   34,   36,   38,   40,   42,   44,   46,   48,   50,   52,\n",
              "         54,   56,   58,   60,   62,   64,   66,   68,   70,   72,   74,\n",
              "         76,   78,   80,   82,   84,   86,   88,   90,   92,   94,   96,\n",
              "         98])"
            ]
          },
          "metadata": {},
          "execution_count": 29
        }
      ]
    },
    {
      "cell_type": "code",
      "source": [
        "y = x + 5\n",
        "y"
      ],
      "metadata": {
        "colab": {
          "base_uri": "https://localhost:8080/"
        },
        "id": "H98SWc9pLJ7O",
        "outputId": "7e2c278d-80c3-459e-a1c8-86f495cb6cbd"
      },
      "execution_count": 30,
      "outputs": [
        {
          "output_type": "execute_result",
          "data": {
            "text/plain": [
              "array([-95, -93, -91, -89, -87, -85, -83, -81, -79, -77, -75, -73, -71,\n",
              "       -69, -67, -65, -63, -61, -59, -57, -55, -53, -51, -49, -47, -45,\n",
              "       -43, -41, -39, -37, -35, -33, -31, -29, -27, -25, -23, -21, -19,\n",
              "       -17, -15, -13, -11,  -9,  -7,  -5,  -3,  -1,   1,   3,   5,   7,\n",
              "         9,  11,  13,  15,  17,  19,  21,  23,  25,  27,  29,  31,  33,\n",
              "        35,  37,  39,  41,  43,  45,  47,  49,  51,  53,  55,  57,  59,\n",
              "        61,  63,  65,  67,  69,  71,  73,  75,  77,  79,  81,  83,  85,\n",
              "        87,  89,  91,  93,  95,  97,  99, 101, 103])"
            ]
          },
          "metadata": {},
          "execution_count": 30
        }
      ]
    },
    {
      "cell_type": "code",
      "source": [
        "len(x), len(y)"
      ],
      "metadata": {
        "colab": {
          "base_uri": "https://localhost:8080/"
        },
        "id": "33ft_QrTMBKJ",
        "outputId": "237941b5-2c04-4735-a35a-8cc0a563e8aa"
      },
      "execution_count": 31,
      "outputs": [
        {
          "output_type": "execute_result",
          "data": {
            "text/plain": [
              "(100, 100)"
            ]
          },
          "metadata": {},
          "execution_count": 31
        }
      ]
    },
    {
      "cell_type": "code",
      "source": [
        "#Splitting the dataset into training(80%)/test set(20%)\n",
        "\n",
        "x_train = x[:80]\n",
        "y_train = y[:80]\n",
        "\n",
        "x_test = x[80:]\n",
        "y_test = y[80:]\n"
      ],
      "metadata": {
        "id": "9XxK6va4LWsE"
      },
      "execution_count": 32,
      "outputs": []
    },
    {
      "cell_type": "code",
      "source": [
        "x_train.shape, x_test.shape"
      ],
      "metadata": {
        "colab": {
          "base_uri": "https://localhost:8080/"
        },
        "id": "r9jBb51pMqbr",
        "outputId": "0142d275-961b-4c9e-8b99-9c9ff6114388"
      },
      "execution_count": 33,
      "outputs": [
        {
          "output_type": "execute_result",
          "data": {
            "text/plain": [
              "((80,), (20,))"
            ]
          },
          "metadata": {},
          "execution_count": 33
        }
      ]
    },
    {
      "cell_type": "code",
      "source": [
        "len(y_train), len(y_test)"
      ],
      "metadata": {
        "colab": {
          "base_uri": "https://localhost:8080/"
        },
        "id": "nmvhZF9AMtDB",
        "outputId": "3fe6e7ae-698b-48f2-b152-c87e4bec1d50"
      },
      "execution_count": 34,
      "outputs": [
        {
          "output_type": "execute_result",
          "data": {
            "text/plain": [
              "(80, 20)"
            ]
          },
          "metadata": {},
          "execution_count": 34
        }
      ]
    },
    {
      "cell_type": "markdown",
      "source": [
        "###Visualizing the data:"
      ],
      "metadata": {
        "id": "nTa5pCgwOORL"
      }
    },
    {
      "cell_type": "code",
      "source": [
        "plt.figure(figsize=(20,10))\n",
        "\n",
        "#plotting training dataset in blue\n",
        "\n",
        "plt.scatter(x_train, y_train, c = 'b', label = 'Training Data')\n",
        "\n",
        "#plotting testing dataset in red\n",
        "\n",
        "plt.scatter(x_test, y_test, c = 'r', label = 'Testing Data')\n",
        "\n",
        "#Displaying the legend\n",
        "\n",
        "plt.legend()"
      ],
      "metadata": {
        "colab": {
          "base_uri": "https://localhost:8080/",
          "height": 609
        },
        "id": "ScR-WGUlNaRD",
        "outputId": "87b6d8fc-3b2d-48a4-fce8-b4072cf83fa9"
      },
      "execution_count": 35,
      "outputs": [
        {
          "output_type": "execute_result",
          "data": {
            "text/plain": [
              "<matplotlib.legend.Legend at 0x7f8fa468a650>"
            ]
          },
          "metadata": {},
          "execution_count": 35
        },
        {
          "output_type": "display_data",
          "data": {
            "text/plain": [
              "<Figure size 1440x720 with 1 Axes>"
            ],
            "image/png": "[encoded data removed]"
          },
          "metadata": {
            "needs_background": "light"
          }
        }
      ]
    },
    {
      "cell_type": "code",
      "source": [
        "x_test.shape"
      ],
      "metadata": {
        "colab": {
          "base_uri": "https://localhost:8080/"
        },
        "id": "uIouRHjXNcjx",
        "outputId": "27563191-6294-404c-9908-bf11535797df"
      },
      "execution_count": 36,
      "outputs": [
        {
          "output_type": "execute_result",
          "data": {
            "text/plain": [
              "(20,)"
            ]
          },
          "metadata": {},
          "execution_count": 36
        }
      ]
    },
    {
      "cell_type": "markdown",
      "source": [
        "##Building model-1"
      ],
      "metadata": {
        "id": "ZjhgOFwHgNK-"
      }
    },
    {
      "cell_type": "code",
      "source": [
        "#Building a model\n",
        "\n",
        "#set random seed\n",
        "\n",
        "tf.random.set_seed(22)\n",
        "\n",
        "#Create a model\n",
        "\n",
        "model = tf.keras.Sequential(\n",
        "    [\n",
        "        tf.keras.layers.Dense(1, name=\"input_new\")\n",
        "    ], name= \"model_1\"\n",
        ")\n",
        "\n",
        "#Compile the model\n",
        "\n",
        "model.compile(loss = tf.keras.losses.mae,\n",
        "              optimizer = tf.keras.optimizers.SGD(),\n",
        "              metrics = [\"mae\"])\n",
        "\n",
        "#Fit the model\n",
        "\n",
        "model.fit(tf.expand_dims(x_train, axis=-1), y_train, epochs = 50, verbose = 0)"
      ],
      "metadata": {
        "colab": {
          "base_uri": "https://localhost:8080/"
        },
        "id": "CWrfNQgaNeK0",
        "outputId": "91c346fc-2b18-4e9a-c11a-663ca325f843"
      },
      "execution_count": 37,
      "outputs": [
        {
          "output_type": "execute_result",
          "data": {
            "text/plain": [
              "<keras.callbacks.History at 0x7f8fa5cfe350>"
            ]
          },
          "metadata": {},
          "execution_count": 37
        }
      ]
    },
    {
      "cell_type": "code",
      "source": [
        "model.summary()"
      ],
      "metadata": {
        "colab": {
          "base_uri": "https://localhost:8080/"
        },
        "id": "IEjyVjjJQRp6",
        "outputId": "2b1b3749-c3cc-4eb7-a703-aa96a9e3c5f6"
      },
      "execution_count": 38,
      "outputs": [
        {
          "output_type": "stream",
          "name": "stdout",
          "text": [
            "Model: \"model_1\"\n",
            "_________________________________________________________________\n",
            " Layer (type)                Output Shape              Param #   \n",
            "=================================================================\n",
            " input_new (Dense)           (None, 1)                 2         \n",
            "                                                                 \n",
            "=================================================================\n",
            "Total params: 2\n",
            "Trainable params: 2\n",
            "Non-trainable params: 0\n",
            "_________________________________________________________________\n"
          ]
        }
      ]
    },
    {
      "cell_type": "code",
      "source": [
        "#viewing a 2D plot of the model\n",
        "\n",
        "from tensorflow.keras.utils import plot_model\n",
        "plot_model(model, show_shapes=True)"
      ],
      "metadata": {
        "colab": {
          "base_uri": "https://localhost:8080/",
          "height": 201
        },
        "id": "EWvXgakKQhm_",
        "outputId": "51084fbe-8614-49df-8921-1560087f241c"
      },
      "execution_count": 39,
      "outputs": [
        {
          "output_type": "execute_result",
          "data": {
            "image/png": "[encoded data removed]",
            "text/plain": [
              "<IPython.core.display.Image object>"
            ]
          },
          "metadata": {},
          "execution_count": 39
        }
      ]
    },
    {
      "cell_type": "markdown",
      "source": [
        "##Visualizing the Predictions\n",
        "\n",
        "by plotting the predicted values against the actual values."
      ],
      "metadata": {
        "id": "mq5ZQBESTW44"
      }
    },
    {
      "cell_type": "code",
      "source": [
        "#Predicting the values\n",
        "\n",
        "y_pred = model.predict(x_test)\n",
        "y_pred"
      ],
      "metadata": {
        "colab": {
          "base_uri": "https://localhost:8080/"
        },
        "id": "VQdN1qIVVpPT",
        "outputId": "47d2bbdf-84e6-4323-a808-9f6bd6560d2a"
      },
      "execution_count": 40,
      "outputs": [
        {
          "output_type": "stream",
          "name": "stdout",
          "text": [
            "1/1 [==============================] - 0s 84ms/step\n"
          ]
        },
        {
          "output_type": "execute_result",
          "data": {
            "text/plain": [
              "array([[ 66.19651 ],\n",
              "       [ 68.38409 ],\n",
              "       [ 70.571655],\n",
              "       [ 72.759224],\n",
              "       [ 74.9468  ],\n",
              "       [ 77.13437 ],\n",
              "       [ 79.32194 ],\n",
              "       [ 81.509514],\n",
              "       [ 83.69708 ],\n",
              "       [ 85.88465 ],\n",
              "       [ 88.07223 ],\n",
              "       [ 90.259796],\n",
              "       [ 92.447365],\n",
              "       [ 94.63494 ],\n",
              "       [ 96.82251 ],\n",
              "       [ 99.01008 ],\n",
              "       [101.197655],\n",
              "       [103.38522 ],\n",
              "       [105.57279 ],\n",
              "       [107.76037 ]], dtype=float32)"
            ]
          },
          "metadata": {},
          "execution_count": 40
        }
      ]
    },
    {
      "cell_type": "code",
      "source": [
        "y_test"
      ],
      "metadata": {
        "id": "HzIKKBlFWYK6",
        "colab": {
          "base_uri": "https://localhost:8080/"
        },
        "outputId": "2389187c-9951-4e14-a064-f4b0dde6ef3e"
      },
      "execution_count": 41,
      "outputs": [
        {
          "output_type": "execute_result",
          "data": {
            "text/plain": [
              "array([ 65,  67,  69,  71,  73,  75,  77,  79,  81,  83,  85,  87,  89,\n",
              "        91,  93,  95,  97,  99, 101, 103])"
            ]
          },
          "metadata": {},
          "execution_count": 41
        }
      ]
    },
    {
      "cell_type": "code",
      "source": [
        "#Visualizing a scatter plot graph to compare the predicted values with the actual values\n",
        "\n",
        "plt.figure(figsize = (20,10))\n",
        "#plotting the test data in green\n",
        "plt.scatter(x_test, y_test, c = \"g\", label = \"Testing data\")\n",
        "\n",
        "#plotting the training data in blue\n",
        "plt.scatter(x_train, y_train, c = \"b\", label = \"Training data\")\n",
        "\n",
        "#plotting the predicted values in red\n",
        "plt.plot(x_test, y_pred, c = \"r\", label = \"Predicted values\")\n",
        "\n",
        "plt.legend()"
      ],
      "metadata": {
        "id": "I3F385dtV5yr",
        "colab": {
          "base_uri": "https://localhost:8080/",
          "height": 609
        },
        "outputId": "676b0fe3-588d-42ff-a329-ecd2a182b4f5"
      },
      "execution_count": 42,
      "outputs": [
        {
          "output_type": "execute_result",
          "data": {
            "text/plain": [
              "<matplotlib.legend.Legend at 0x7f8fa53d2350>"
            ]
          },
          "metadata": {},
          "execution_count": 42
        },
        {
          "output_type": "display_data",
          "data": {
            "text/plain": [
              "<Figure size 1440x720 with 1 Axes>"
            ],
            "image/png": "[encoded data removed]"
          },
          "metadata": {
            "needs_background": "light"
          }
        }
      ]
    },
    {
      "cell_type": "markdown",
      "source": [
        "##Evaluating the predictions\n",
        "\n",
        "Like the visualizations, we have another option to evaluate our model using the evaluation metrics.\n",
        "\n",
        "The two main metrics used for regression problems are:\n",
        "\n",
        "**MAE**-Mean Absolute Error: it's the mean difference between each of the predictions.\n",
        "\n",
        "**MSE**-Mean Squared Error: it's the squared mean difference between the predictions: it's used if the errors are large and are more detrimental than smaller errors.\n",
        "\n",
        "**Huber**- it's the combination of mae and mse, which is less sensitive to outliers than mse\n",
        "\n",
        "Hence, the lower these values are, the better our model will be able to predict."
      ],
      "metadata": {
        "id": "HAwWXMLqgqEo"
      }
    },
    {
      "cell_type": "code",
      "source": [
        "# Evaluate the model on the test set\n",
        "model.evaluate(x_test, y_test)"
      ],
      "metadata": {
        "colab": {
          "base_uri": "https://localhost:8080/"
        },
        "id": "c-jYKxChh0fJ",
        "outputId": "e882966b-afa0-4808-975b-6c8e14e2659c"
      },
      "execution_count": 43,
      "outputs": [
        {
          "output_type": "stream",
          "name": "stdout",
          "text": [
            "1/1 [==============================] - 0s 413ms/step - loss: 2.9784 - mae: 2.9784\n"
          ]
        },
        {
          "output_type": "execute_result",
          "data": {
            "text/plain": [
              "[2.9784393310546875, 2.9784393310546875]"
            ]
          },
          "metadata": {},
          "execution_count": 43
        }
      ]
    },
    {
      "cell_type": "code",
      "source": [
        "# Calculate the mean absolute error\n",
        "mae = tf.metrics.mean_absolute_error(y_true=y_test, \n",
        "                                     y_pred=y_pred)\n",
        "mae.numpy()"
      ],
      "metadata": {
        "colab": {
          "base_uri": "https://localhost:8080/"
        },
        "id": "rOH0pP4Zig8c",
        "outputId": "dbf797a3-7a72-4387-ca76-d125a9dc40b2"
      },
      "execution_count": 44,
      "outputs": [
        {
          "output_type": "execute_result",
          "data": {
            "text/plain": [
              "array([17.923141 , 16.092731 , 14.499842 , 13.144465 , 12.0266   ,\n",
              "       11.159689 , 10.535612 , 10.149049 , 10.       , 10.088465 ,\n",
              "       10.414446 , 10.977939 , 11.778946 , 12.8174715, 14.093506 ,\n",
              "       15.608063 , 17.37789  , 19.385223 , 21.572792 , 23.760368 ],\n",
              "      dtype=float32)"
            ]
          },
          "metadata": {},
          "execution_count": 44
        }
      ]
    },
    {
      "cell_type": "code",
      "source": [
        "#since y_test and y_pred are of different shapes, we got these many values."
      ],
      "metadata": {
        "id": "6rFFTrFiiuSH"
      },
      "execution_count": 45,
      "outputs": []
    },
    {
      "cell_type": "code",
      "source": [
        "# Check the tensor shapes\n",
        "y_test.shape, y_pred.shape"
      ],
      "metadata": {
        "colab": {
          "base_uri": "https://localhost:8080/"
        },
        "id": "7JU2hH2li4Xr",
        "outputId": "c7d9a788-c07d-48c8-8892-c4344fbb069c"
      },
      "execution_count": 46,
      "outputs": [
        {
          "output_type": "execute_result",
          "data": {
            "text/plain": [
              "((20,), (20, 1))"
            ]
          },
          "metadata": {},
          "execution_count": 46
        }
      ]
    },
    {
      "cell_type": "code",
      "source": [
        "#so, let's remove the 1-Ds in y_pred\n",
        "\n",
        "y_test.shape, y_pred.squeeze().shape"
      ],
      "metadata": {
        "colab": {
          "base_uri": "https://localhost:8080/"
        },
        "id": "E-3BSZq4jIRR",
        "outputId": "822c4ce4-13a7-40b7-a22a-322f55e61865"
      },
      "execution_count": 47,
      "outputs": [
        {
          "output_type": "execute_result",
          "data": {
            "text/plain": [
              "((20,), (20,))"
            ]
          },
          "metadata": {},
          "execution_count": 47
        }
      ]
    },
    {
      "cell_type": "code",
      "source": [
        "# now let's calculate the MAE again\n",
        "\n",
        "mae_1 = tf.metrics.mean_absolute_error(y_true=y_test, \n",
        "                                     y_pred=y_pred.squeeze()).numpy()\n",
        "mae_1"
      ],
      "metadata": {
        "colab": {
          "base_uri": "https://localhost:8080/"
        },
        "id": "SmhKKXpfjX57",
        "outputId": "8713e54c-44ad-46e4-844c-2d745004f9f7"
      },
      "execution_count": 48,
      "outputs": [
        {
          "output_type": "execute_result",
          "data": {
            "text/plain": [
              "2.9784393"
            ]
          },
          "metadata": {},
          "execution_count": 48
        }
      ]
    },
    {
      "cell_type": "code",
      "source": [
        "# Calculating the MSE\n",
        "mse_1 = tf.metrics.mean_squared_error(y_true=y_test,\n",
        "                                    y_pred=y_pred.squeeze()).numpy()\n",
        "mse_1"
      ],
      "metadata": {
        "colab": {
          "base_uri": "https://localhost:8080/"
        },
        "id": "aDgmRUDqk21e",
        "outputId": "6ba394c0-b2f1-4228-ca05-cceef8345182"
      },
      "execution_count": 49,
      "outputs": [
        {
          "output_type": "execute_result",
          "data": {
            "text/plain": [
              "10.040935"
            ]
          },
          "metadata": {},
          "execution_count": 49
        }
      ]
    },
    {
      "cell_type": "markdown",
      "source": [
        "#Running experiments to improve the model"
      ],
      "metadata": {
        "id": "tOzivsCmlWcw"
      }
    },
    {
      "cell_type": "markdown",
      "source": [
        "##Building model-2"
      ],
      "metadata": {
        "id": "x7KDxG8hbBgR"
      }
    },
    {
      "cell_type": "code",
      "source": [
        "#Building a model\n",
        "\n",
        "#set random seed\n",
        "\n",
        "tf.random.set_seed(22)\n",
        "\n",
        "#Create a model\n",
        "\n",
        "model2 = tf.keras.Sequential(\n",
        "    [\n",
        "        tf.keras.layers.Dense(1, name=\"input_new\"),\n",
        "        tf.keras.layers.Dense(1, name=\"input1_new\"),\n",
        "        tf.keras.layers.Dense(1, name=\"input2_new\"),\n",
        "        tf.keras.layers.Dense(1, name=\"output_new\")\n",
        "    ], name= \"model_2\"\n",
        ")\n",
        "\n",
        "#Compile the model\n",
        "\n",
        "model2.compile(loss = tf.keras.losses.mae,\n",
        "              optimizer = tf.keras.optimizers.SGD(),\n",
        "              metrics = [\"mae\"])\n",
        "\n",
        "#Fit the model\n",
        "\n",
        "model2.fit(tf.expand_dims(x_train, axis=-1), y_train, epochs = 50, verbose = 0)"
      ],
      "metadata": {
        "colab": {
          "base_uri": "https://localhost:8080/"
        },
        "id": "vxHjkC0ebGy3",
        "outputId": "d1241ef0-b46d-4d84-d535-8805bac6a627"
      },
      "execution_count": 50,
      "outputs": [
        {
          "output_type": "execute_result",
          "data": {
            "text/plain": [
              "<keras.callbacks.History at 0x7f8fa535a350>"
            ]
          },
          "metadata": {},
          "execution_count": 50
        }
      ]
    },
    {
      "cell_type": "code",
      "source": [
        "#making and plotting predictions for model-2\n",
        "\n",
        "y_pred_2 = model2.predict(x_test)"
      ],
      "metadata": {
        "id": "UHeBLjNGcF7_",
        "colab": {
          "base_uri": "https://localhost:8080/"
        },
        "outputId": "34c8cb44-cd1a-4566-c37b-5809a523b824"
      },
      "execution_count": 51,
      "outputs": [
        {
          "output_type": "stream",
          "name": "stdout",
          "text": [
            "1/1 [==============================] - 0s 134ms/step\n"
          ]
        }
      ]
    },
    {
      "cell_type": "code",
      "source": [
        "#Visualizing a scatter plot graph to compare the predicted values with the actual values\n",
        "\n",
        "plt.figure(figsize = (20,10))\n",
        "#plotting the test data in green\n",
        "plt.scatter(x_test, y_test, c = \"g\", label = \"Testing data\")\n",
        "\n",
        "#plotting the training data in blue\n",
        "plt.scatter(x_train, y_train, c = \"b\", label = \"Training data\")\n",
        "\n",
        "#plotting the predicted values in red\n",
        "plt.plot(x_test, y_pred_2, c = \"r\", label = \"Predicted values\")\n",
        "\n",
        "plt.legend()"
      ],
      "metadata": {
        "colab": {
          "base_uri": "https://localhost:8080/",
          "height": 609
        },
        "id": "Mgk-Rw7MGw99",
        "outputId": "030a022b-3637-4386-f9cb-9f59ddb32777"
      },
      "execution_count": 52,
      "outputs": [
        {
          "output_type": "execute_result",
          "data": {
            "text/plain": [
              "<matplotlib.legend.Legend at 0x7f8fa5c46990>"
            ]
          },
          "metadata": {},
          "execution_count": 52
        },
        {
          "output_type": "display_data",
          "data": {
            "text/plain": [
              "<Figure size 1440x720 with 1 Axes>"
            ],
            "image/png": "[encoded data removed]"
          },
          "metadata": {
            "needs_background": "light"
          }
        }
      ]
    },
    {
      "cell_type": "code",
      "source": [
        "#increasing the no.of dense layers are having bad changes\n"
      ],
      "metadata": {
        "id": "qvw3MX4MX_Xt"
      },
      "execution_count": 53,
      "outputs": []
    },
    {
      "cell_type": "code",
      "source": [
        "# Calculate model_2 metrics\n",
        "mae_2 = tf.metrics.mean_absolute_error(y_test, y_pred_2.squeeze()).numpy()\n",
        "mse_2 = tf.metrics.mean_squared_error(y_test, y_pred_2.squeeze()).numpy()\n",
        "\n",
        "mae_2, mse_2"
      ],
      "metadata": {
        "colab": {
          "base_uri": "https://localhost:8080/"
        },
        "id": "76fMPwVvloe0",
        "outputId": "2aeef721-94bb-4a16-f173-86527cde7bee"
      },
      "execution_count": 54,
      "outputs": [
        {
          "output_type": "execute_result",
          "data": {
            "text/plain": [
              "(40.033043, 1628.7123)"
            ]
          },
          "metadata": {},
          "execution_count": 54
        }
      ]
    },
    {
      "cell_type": "markdown",
      "source": [
        "##Building model-3-increasing epoch "
      ],
      "metadata": {
        "id": "f3Ap9Leqbkji"
      }
    },
    {
      "cell_type": "code",
      "source": [
        "#Building a model\n",
        "\n",
        "#set random seed\n",
        "\n",
        "tf.random.set_seed(22)\n",
        "\n",
        "#Create a model\n",
        "\n",
        "model3 = tf.keras.Sequential(\n",
        "    [\n",
        "        tf.keras.layers.Dense(1, name=\"input_new\")\n",
        "    ], name= \"model_3\"\n",
        ")\n",
        "\n",
        "#Compile the model\n",
        "\n",
        "model3.compile(loss = tf.keras.losses.mae,\n",
        "              optimizer = tf.keras.optimizers.SGD(),\n",
        "              metrics = [\"mae\"])\n",
        "\n",
        "#Fit the model\n",
        "\n",
        "model3.fit(tf.expand_dims(x_train, axis=-1), y_train, epochs = 650, verbose = 0)"
      ],
      "metadata": {
        "colab": {
          "base_uri": "https://localhost:8080/"
        },
        "id": "8iSlHUi6bsll",
        "outputId": "7d66e0b9-8a7b-481e-bcd5-93217cf5206c"
      },
      "execution_count": 55,
      "outputs": [
        {
          "output_type": "execute_result",
          "data": {
            "text/plain": [
              "<keras.callbacks.History at 0x7f8fa5b38ed0>"
            ]
          },
          "metadata": {},
          "execution_count": 55
        }
      ]
    },
    {
      "cell_type": "code",
      "source": [
        "#making and plotting predictions for model-2\n",
        "\n",
        "y_pred_3 = model3.predict(x_test)"
      ],
      "metadata": {
        "id": "3YjbCkClc2PX",
        "colab": {
          "base_uri": "https://localhost:8080/"
        },
        "outputId": "af3763d2-38b0-436f-b127-3da82e8898d8"
      },
      "execution_count": 56,
      "outputs": [
        {
          "output_type": "stream",
          "name": "stderr",
          "text": [
            "WARNING:tensorflow:5 out of the last 5 calls to <function Model.make_predict_function.<locals>.predict_function at 0x7f8fa53220e0> triggered tf.function retracing. Tracing is expensive and the excessive number of tracings could be due to (1) creating @tf.function repeatedly in a loop, (2) passing tensors with different shapes, (3) passing Python objects instead of tensors. For (1), please define your @tf.function outside of the loop. For (2), @tf.function has reduce_retracing=True option that can avoid unnecessary retracing. For (3), please refer to https://www.tensorflow.org/guide/function#controlling_retracing and https://www.tensorflow.org/api_docs/python/tf/function for  more details.\n"
          ]
        },
        {
          "output_type": "stream",
          "name": "stdout",
          "text": [
            "1/1 [==============================] - 0s 43ms/step\n"
          ]
        }
      ]
    },
    {
      "cell_type": "code",
      "source": [
        "#Visualizing a scatter plot graph to compare the predicted values with the actual values\n",
        "\n",
        "plt.figure(figsize = (20,10))\n",
        "#plotting the test data in green\n",
        "plt.scatter(x_test, y_test, c = \"g\", label = \"Testing data\")\n",
        "\n",
        "#plotting the training data in blue\n",
        "plt.scatter(x_train, y_train, c = \"b\", label = \"Training data\")\n",
        "\n",
        "#plotting the predicted values in red\n",
        "plt.plot(x_test, y_pred_3, c = \"r\", label = \"Predicted values\")\n",
        "\n",
        "plt.legend()"
      ],
      "metadata": {
        "colab": {
          "base_uri": "https://localhost:8080/",
          "height": 609
        },
        "id": "109G1-24buw9",
        "outputId": "6b86f33e-a1d5-425e-d5fa-0e0896ce1418"
      },
      "execution_count": 57,
      "outputs": [
        {
          "output_type": "execute_result",
          "data": {
            "text/plain": [
              "<matplotlib.legend.Legend at 0x7f8fa5a50b50>"
            ]
          },
          "metadata": {},
          "execution_count": 57
        },
        {
          "output_type": "display_data",
          "data": {
            "text/plain": [
              "<Figure size 1440x720 with 1 Axes>"
            ],
            "image/png": "[encoded data removed]"
          },
          "metadata": {
            "needs_background": "light"
          }
        }
      ]
    },
    {
      "cell_type": "code",
      "source": [
        "# Calculate model_3 metrics\n",
        "mae_3 = tf.metrics.mean_absolute_error(y_test, y_pred_3.squeeze()).numpy()\n",
        "mse_3 = tf.metrics.mean_squared_error(y_test, y_pred_3.squeeze()).numpy()\n",
        "\n",
        "mae_3, mse_3"
      ],
      "metadata": {
        "colab": {
          "base_uri": "https://localhost:8080/"
        },
        "id": "CXkvPNtPbxAO",
        "outputId": "518f6996-07d7-4d5b-a3b1-f9cf24c7a479"
      },
      "execution_count": 58,
      "outputs": [
        {
          "output_type": "execute_result",
          "data": {
            "text/plain": [
              "(1.7760407, 3.3005815)"
            ]
          },
          "metadata": {},
          "execution_count": 58
        }
      ]
    },
    {
      "cell_type": "code",
      "source": [
        "model3.summary()"
      ],
      "metadata": {
        "colab": {
          "base_uri": "https://localhost:8080/"
        },
        "id": "jlR1442yq29U",
        "outputId": "13ddab39-8830-4622-8f00-13d4d8c73012"
      },
      "execution_count": 59,
      "outputs": [
        {
          "output_type": "stream",
          "name": "stdout",
          "text": [
            "Model: \"model_3\"\n",
            "_________________________________________________________________\n",
            " Layer (type)                Output Shape              Param #   \n",
            "=================================================================\n",
            " input_new (Dense)           (None, 1)                 2         \n",
            "                                                                 \n",
            "=================================================================\n",
            "Total params: 2\n",
            "Trainable params: 2\n",
            "Non-trainable params: 0\n",
            "_________________________________________________________________\n"
          ]
        }
      ]
    },
    {
      "cell_type": "code",
      "source": [
        "#Let's compare our models' results\n",
        "\n",
        "model_results = [[\"model_1\", mae_1, mse_1],\n",
        "                 [\"model_2\", mae_2, mse_2],\n",
        "                 [\"model_3\", mae_3, mae_3]]"
      ],
      "metadata": {
        "id": "jWZ9H-nqfxuB"
      },
      "execution_count": 60,
      "outputs": []
    },
    {
      "cell_type": "code",
      "source": [
        "#Let's view the models' results in the form of a dataframe\n",
        "\n",
        "import pandas as pd\n",
        "models_score = pd.DataFrame(model_results, columns = [\"Model\", \"MAE\", \"MSE\"])\n",
        "models_score"
      ],
      "metadata": {
        "colab": {
          "base_uri": "https://localhost:8080/",
          "height": 143
        },
        "id": "VIQ5dUPlnJK0",
        "outputId": "7b73fdc7-adc7-4f84-de6e-4fe8792bb6cb"
      },
      "execution_count": 61,
      "outputs": [
        {
          "output_type": "execute_result",
          "data": {
            "text/plain": [
              "     Model        MAE          MSE\n",
              "0  model_1   2.978439    10.040935\n",
              "1  model_2  40.033043  1628.712280\n",
              "2  model_3   1.776041     1.776041"
            ],
            "text/html": [
              "\n",
              "  <div id=\"df-6d2445c2-9337-4686-8d28-e6c6dabd9d1b\">\n",
              "    <div class=\"colab-df-container\">\n",
              "      <div>\n",
              "<style scoped>\n",
              "    .dataframe tbody tr th:only-of-type {\n",
              "        vertical-align: middle;\n",
              "    }\n",
              "\n",
              "    .dataframe tbody tr th {\n",
              "        vertical-align: top;\n",
              "    }\n",
              "\n",
              "    .dataframe thead th {\n",
              "        text-align: right;\n",
              "    }\n",
              "</style>\n",
              "<table border=\"1\" class=\"dataframe\">\n",
              "  <thead>\n",
              "    <tr style=\"text-align: right;\">\n",
              "      <th></th>\n",
              "      <th>Model</th>\n",
              "      <th>MAE</th>\n",
              "      <th>MSE</th>\n",
              "    </tr>\n",
              "  </thead>\n",
              "  <tbody>\n",
              "    <tr>\n",
              "      <th>0</th>\n",
              "      <td>model_1</td>\n",
              "      <td>2.978439</td>\n",
              "      <td>10.040935</td>\n",
              "    </tr>\n",
              "    <tr>\n",
              "      <th>1</th>\n",
              "      <td>model_2</td>\n",
              "      <td>40.033043</td>\n",
              "      <td>1628.712280</td>\n",
              "    </tr>\n",
              "    <tr>\n",
              "      <th>2</th>\n",
              "      <td>model_3</td>\n",
              "      <td>1.776041</td>\n",
              "      <td>1.776041</td>\n",
              "    </tr>\n",
              "  </tbody>\n",
              "</table>\n",
              "</div>\n",
              "      <button class=\"colab-df-convert\" onclick=\"convertToInteractive('df-6d2445c2-9337-4686-8d28-e6c6dabd9d1b')\"\n",
              "              title=\"Convert this dataframe to an interactive table.\"\n",
              "              style=\"display:none;\">\n",
              "        \n",
              "  <svg xmlns=\"http://www.w3.org/2000/svg\" height=\"24px\"viewBox=\"0 0 24 24\"\n",
              "       width=\"24px\">\n",
              "    <path d=\"M0 0h24v24H0V0z\" fill=\"none\"/>\n",
              "    <path d=\"M18.56 5.44l.94 2.06.94-2.06 2.06-.94-2.06-.94-.94-2.06-.94 2.06-2.06.94zm-11 1L8.5 8.5l.94-2.06 2.06-.94-2.06-.94L8.5 2.5l-.94 2.06-2.06.94zm10 10l.94 2.06.94-2.06 2.06-.94-2.06-.94-.94-2.06-.94 2.06-2.06.94z\"/><path d=\"M17.41 7.96l-1.37-1.37c-.4-.4-.92-.59-1.43-.59-.52 0-1.04.2-1.43.59L10.3 9.45l-7.72 7.72c-.78.78-.78 2.05 0 2.83L4 21.41c.39.39.9.59 1.41.59.51 0 1.02-.2 1.41-.59l7.78-7.78 2.81-2.81c.8-.78.8-2.07 0-2.86zM5.41 20L4 18.59l7.72-7.72 1.47 1.35L5.41 20z\"/>\n",
              "  </svg>\n",
              "      </button>\n",
              "      \n",
              "  <style>\n",
              "    .colab-df-container {\n",
              "      display:flex;\n",
              "      flex-wrap:wrap;\n",
              "      gap: 12px;\n",
              "    }\n",
              "\n",
              "    .colab-df-convert {\n",
              "      background-color: #E8F0FE;\n",
              "      border: none;\n",
              "      border-radius: 50%;\n",
              "      cursor: pointer;\n",
              "      display: none;\n",
              "      fill: #1967D2;\n",
              "      height: 32px;\n",
              "      padding: 0 0 0 0;\n",
              "      width: 32px;\n",
              "    }\n",
              "\n",
              "    .colab-df-convert:hover {\n",
              "      background-color: #E2EBFA;\n",
              "      box-shadow: 0px 1px 2px rgba(60, 64, 67, 0.3), 0px 1px 3px 1px rgba(60, 64, 67, 0.15);\n",
              "      fill: #174EA6;\n",
              "    }\n",
              "\n",
              "    [theme=dark] .colab-df-convert {\n",
              "      background-color: #3B4455;\n",
              "      fill: #D2E3FC;\n",
              "    }\n",
              "\n",
              "    [theme=dark] .colab-df-convert:hover {\n",
              "      background-color: #434B5C;\n",
              "      box-shadow: 0px 1px 3px 1px rgba(0, 0, 0, 0.15);\n",
              "      filter: drop-shadow(0px 1px 2px rgba(0, 0, 0, 0.3));\n",
              "      fill: #FFFFFF;\n",
              "    }\n",
              "  </style>\n",
              "\n",
              "      <script>\n",
              "        const buttonEl =\n",
              "          document.querySelector('#df-6d2445c2-9337-4686-8d28-e6c6dabd9d1b button.colab-df-convert');\n",
              "        buttonEl.style.display =\n",
              "          google.colab.kernel.accessAllowed ? 'block' : 'none';\n",
              "\n",
              "        async function convertToInteractive(key) {\n",
              "          const element = document.querySelector('#df-6d2445c2-9337-4686-8d28-e6c6dabd9d1b');\n",
              "          const dataTable =\n",
              "            await google.colab.kernel.invokeFunction('convertToInteractive',\n",
              "                                                     [key], {});\n",
              "          if (!dataTable) return;\n",
              "\n",
              "          const docLinkHtml = 'Like what you see? Visit the ' +\n",
              "            '<a target=\"_blank\" href=https://colab.research.google.com/notebooks/data_table.ipynb>data table notebook</a>'\n",
              "            + ' to learn more about interactive tables.';\n",
              "          element.innerHTML = '';\n",
              "          dataTable['output_type'] = 'display_data';\n",
              "          await google.colab.output.renderOutput(dataTable, element);\n",
              "          const docLink = document.createElement('div');\n",
              "          docLink.innerHTML = docLinkHtml;\n",
              "          element.appendChild(docLink);\n",
              "        }\n",
              "      </script>\n",
              "    </div>\n",
              "  </div>\n",
              "  "
            ]
          },
          "metadata": {},
          "execution_count": 61
        }
      ]
    },
    {
      "cell_type": "code",
      "source": [
        "#It tells that, model_3 has performed the best\n",
        "#This is a part of ML modelling in which we try many different combinations of models and see which performs best."
      ],
      "metadata": {
        "id": "jNdNWy56nlSU"
      },
      "execution_count": 62,
      "outputs": []
    },
    {
      "cell_type": "markdown",
      "source": [
        "#Tracking the experiments: \n",
        "\n",
        "to see which one performs better than the rest..."
      ],
      "metadata": {
        "id": "et1KdXTSolLM"
      }
    },
    {
      "cell_type": "markdown",
      "source": [
        "#Saving the model:\n",
        "\n",
        "There are two ways to save a model in TF,\n",
        "1. The SavedModel format-default(it saves custom objects like special layers without additional modifications when loading the model back in)\n",
        "\n",
        "2. The HDF5 format\n",
        "\n",
        "Both of the methods use the same method call"
      ],
      "metadata": {
        "id": "F7jIHhZ2oyk8"
      }
    },
    {
      "cell_type": "code",
      "source": [
        "#saving the model using the SavedModel format\n",
        "\n",
        "model3.save('best_model_SavedModel_format')"
      ],
      "metadata": {
        "id": "VTtUKL9tvqI9"
      },
      "execution_count": 63,
      "outputs": []
    },
    {
      "cell_type": "code",
      "source": [
        "# Check it out - outputs a protobuf binary file (.pb) as well as other files\n",
        "!ls best_model_SavedModel_format"
      ],
      "metadata": {
        "colab": {
          "base_uri": "https://localhost:8080/"
        },
        "id": "pQB7Pq0dv2aW",
        "outputId": "282531aa-af0b-4b60-c3f5-b763a8b044b2"
      },
      "execution_count": 64,
      "outputs": [
        {
          "output_type": "stream",
          "name": "stdout",
          "text": [
            "assets\tkeras_metadata.pb  saved_model.pb  variables\n"
          ]
        }
      ]
    },
    {
      "cell_type": "markdown",
      "source": [
        "#Loading the model"
      ],
      "metadata": {
        "id": "zcPpmGCuv_uE"
      }
    },
    {
      "cell_type": "code",
      "source": [
        "#Load the model from the SavedModel format"
      ],
      "metadata": {
        "id": "jnSIDok8wcPj"
      },
      "execution_count": 65,
      "outputs": []
    },
    {
      "cell_type": "code",
      "source": [
        "# Load the model from the SavedModel format\n",
        "load_saved_model = tf.keras.models.load_model(\"best_model_SavedModel_format\")\n",
        "load_saved_model.summary()"
      ],
      "metadata": {
        "colab": {
          "base_uri": "https://localhost:8080/"
        },
        "id": "jbY2q9JGwo5_",
        "outputId": "66ffcd10-c409-409d-ea25-20b9bb625df3"
      },
      "execution_count": 66,
      "outputs": [
        {
          "output_type": "stream",
          "name": "stdout",
          "text": [
            "Model: \"model_3\"\n",
            "_________________________________________________________________\n",
            " Layer (type)                Output Shape              Param #   \n",
            "=================================================================\n",
            " input_new (Dense)           (None, 1)                 2         \n",
            "                                                                 \n",
            "=================================================================\n",
            "Total params: 2\n",
            "Trainable params: 2\n",
            "Non-trainable params: 0\n",
            "_________________________________________________________________\n"
          ]
        }
      ]
    },
    {
      "cell_type": "markdown",
      "source": [
        "#Downloading the model from Google Colab:\n",
        "\n",
        "you can download by:\n",
        "\n",
        "1. Right clicking on the file in the files pane and click on 'download'\n",
        "2. Using the below code."
      ],
      "metadata": {
        "id": "vzSkim7Gwzt4"
      }
    },
    {
      "cell_type": "code",
      "source": [
        "# Download the model (or any file) from Google Colab\n",
        "from google.colab import files\n",
        "files.download(\"best_model_SavedModel_format\")"
      ],
      "metadata": {
        "id": "h4riOCz3xRjE",
        "colab": {
          "base_uri": "https://localhost:8080/",
          "height": 34
        },
        "outputId": "f74a7333-9a6b-47f5-bd14-c76892204d2a"
      },
      "execution_count": 67,
      "outputs": [
        {
          "output_type": "display_data",
          "data": {
            "text/plain": [
              "<IPython.core.display.Javascript object>"
            ],
            "application/javascript": [
              "\n",
              "    async function download(id, filename, size) {\n",
              "      if (!google.colab.kernel.accessAllowed) {\n",
              "        return;\n",
              "      }\n",
              "      const div = document.createElement('div');\n",
              "      const label = document.createElement('label');\n",
              "      label.textContent = `Downloading \"${filename}\": `;\n",
              "      div.appendChild(label);\n",
              "      const progress = document.createElement('progress');\n",
              "      progress.max = size;\n",
              "      div.appendChild(progress);\n",
              "      document.body.appendChild(div);\n",
              "\n",
              "      const buffers = [];\n",
              "      let downloaded = 0;\n",
              "\n",
              "      const channel = await google.colab.kernel.comms.open(id);\n",
              "      // Send a message to notify the kernel that we're ready.\n",
              "      channel.send({})\n",
              "\n",
              "      for await (const message of channel.messages) {\n",
              "        // Send a message to notify the kernel that we're ready.\n",
              "        channel.send({})\n",
              "        if (message.buffers) {\n",
              "          for (const buffer of message.buffers) {\n",
              "            buffers.push(buffer);\n",
              "            downloaded += buffer.byteLength;\n",
              "            progress.value = downloaded;\n",
              "          }\n",
              "        }\n",
              "      }\n",
              "      const blob = new Blob(buffers, {type: 'application/binary'});\n",
              "      const a = document.createElement('a');\n",
              "      a.href = window.URL.createObjectURL(blob);\n",
              "      a.download = filename;\n",
              "      div.appendChild(a);\n",
              "      a.click();\n",
              "      div.remove();\n",
              "    }\n",
              "  "
            ]
          },
          "metadata": {}
        },
        {
          "output_type": "display_data",
          "data": {
            "text/plain": [
              "<IPython.core.display.Javascript object>"
            ],
            "application/javascript": [
              "download(\"download_947209bd-4368-4845-9aa8-1eeb959ebd14\", \"best_model_SavedModel_format\", 4096)"
            ]
          },
          "metadata": {}
        }
      ]
    },
    {
      "cell_type": "code",
      "source": [],
      "metadata": {
        "id": "JOWNxpBixxjy"
      },
      "execution_count": 67,
      "outputs": []
    }
  ]
}